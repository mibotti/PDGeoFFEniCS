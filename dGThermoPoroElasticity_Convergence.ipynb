{
  "nbformat": 4,
  "nbformat_minor": 0,
  "metadata": {
    "colab": {
      "name": "dGThermoPoroElasticity.ipynb",
      "provenance": [],
      "collapsed_sections": []
    },
    "kernelspec": {
      "name": "python3",
      "display_name": "Python 3"
    },
    "language_info": {
      "name": "python"
    }
  },
  "cells": [
    {
      "cell_type": "markdown",
      "metadata": {
        "id": "qEKhqU-SIP23"
      },
      "source": [
        "# Thermo-poro-elasticity problems"
      ]
    },
    {
      "cell_type": "markdown",
      "metadata": {
        "id": "i7Hj6-Kz3n0P"
      },
      "source": [
        "We design a discontinuos Galerkin method for solving the linear **thermo-poro-elasticity** problem described by the following set of the equations:\n",
        "\n",
        "$$\n",
        "    \\begin{aligned}\n",
        "-\\boldsymbol\\nabla\\cdot(2\\mu\\boldsymbol\\nabla_s\\boldsymbol{u} + (\\lambda\\boldsymbol\\nabla\\cdot\\boldsymbol{u}-\\alpha p -\\beta T)\\mathbb{I}_d) &= \\boldsymbol{f}, \\quad\\text{in}\\; \\Omega, \\\\\n",
        "\\partial_t(a_0 T - b_0 p + \\beta\\boldsymbol\\nabla\\cdot\\boldsymbol{u}) -\\boldsymbol\\nabla\\cdot(\\Theta\\boldsymbol\\nabla T) &= h, \\quad\\text{in}\\; \\Omega, \\\\\n",
        "\\partial_t(c_0 p - b_0 T + \\alpha\\boldsymbol\\nabla\\cdot\\boldsymbol{u}) -\\boldsymbol\\nabla\\cdot(\\kappa\\boldsymbol\\nabla p) &= g, \\quad\\text{in}\\; \\Omega.\n",
        "    \\end{aligned}\n",
        "$$\n"
      ]
    },
    {
      "cell_type": "markdown",
      "metadata": {
        "id": "nMBZy9lg6K8W"
      },
      "source": [
        "We present a **four-field formulation** that facilitates the derivation of locking-free discretizations. It is obtained by introducing the additional variable \n",
        "\n",
        "$$\n",
        "\\varphi = \\lambda \\boldsymbol\\nabla\\cdot\\boldsymbol{u} - \\alpha p -\\beta T.\n",
        "$$"
      ]
    },
    {
      "cell_type": "markdown",
      "metadata": {
        "id": "ZeCp00tQGvUw"
      },
      "source": [
        "### Semi-discrete weak formulation"
      ]
    },
    {
      "cell_type": "markdown",
      "metadata": {
        "id": "4ho2Ci6j7vWm"
      },
      "source": [
        "By testing with sufficiently regular functions, integrating by parts, and assuming for simplicity homogeneous Dirichlet boundary conditions for all primary variables, we get the following weak form of the problem:\n",
        "\n",
        "$$\n",
        "    \\begin{aligned}\n",
        "(2\\mu\\boldsymbol\\nabla_s\\boldsymbol{u}, \\boldsymbol\\nabla_s\\boldsymbol{v})_\\Omega  + (\\varphi,\\boldsymbol\\nabla\\cdot\\boldsymbol{v})_\\Omega &= (\\boldsymbol{f}, \\boldsymbol{v})_\\Omega, \\\\\n",
        "(\\lambda^{-1}(\\varphi+\\alpha p+\\beta T),\\psi)_\\Omega - (\\psi,\\boldsymbol\\nabla\\cdot\\boldsymbol{u})_\\Omega &= 0, \\\\\n",
        "((a_0+\\beta^2 \\lambda^{-1}) \\partial_t T, S)_\\Omega \n",
        "+ (\\beta\\lambda^{-1}\\partial_t \\varphi, S)_\\Omega \n",
        "+((\\alpha\\beta\\lambda^{-1} - b_0) \\partial_t p, S)_\\Omega +(\\Theta\\boldsymbol\\nabla T, \\boldsymbol\\nabla S)_\\Omega &= (h, S)_\\Omega,  \\\\\n",
        "((c_0+\\alpha^2 \\lambda^{-1}) \\partial_t p, q)_\\Omega \n",
        "+ (\\alpha\\lambda^{-1}\\partial_t \\varphi, q)_\\Omega \n",
        "+((\\alpha\\beta\\lambda^{-1} - b_0) \\partial_t T, q)_\\Omega +(\\kappa\\boldsymbol\\nabla p, \\boldsymbol\\nabla q)_\\Omega &= (g, S)_\\Omega.\n",
        "    \\end{aligned}\n",
        "$$"
      ]
    },
    {
      "cell_type": "markdown",
      "metadata": {
        "id": "F3lp1-ucGAF-"
      },
      "source": [
        "Deriving the second equation in time, summing the resulting four equations, and rearranging, yields the *semi-discrete total weak formulation*, which is used as a strarting point for the derivation of the dG discretization below. The **semi-discrete weak problem** reads: Find $(\\boldsymbol{u}, p, T, \\varphi)$ in $\\boldsymbol{H}^1_0(\\Omega)\\times{H}^1_0(\\Omega)\\times{H}^1_0(\\Omega)\\times L^2(\\Omega)$, such that, for all $(\\boldsymbol{v}, q, S, \\psi)$ in $\\boldsymbol{H}^1_0(\\Omega)\\times{H}^1_0(\\Omega)\\times{H}^1_0(\\Omega)\\times L^2(\\Omega)$, \n",
        "\n",
        "$$\n",
        "(2\\mu\\boldsymbol\\nabla_s\\boldsymbol{u}, \\boldsymbol\\nabla_s\\boldsymbol{v})_\\Omega  \n",
        "+ (\\varphi,\\boldsymbol\\nabla\\cdot\\boldsymbol{v})_\\Omega \n",
        "- (\\psi,\\boldsymbol\\nabla\\cdot\\boldsymbol{u})_\\Omega\n",
        "+(\\Theta\\boldsymbol\\nabla T, \\boldsymbol\\nabla S)_\\Omega \n",
        "+(\\kappa\\boldsymbol\\nabla p, \\boldsymbol\\nabla q)_\\Omega\n",
        "+(\\lambda^{-1}\\partial_t (\\varphi+\\alpha p+\\beta T),\\psi + \\alpha q + \\beta S)_\\Omega \n",
        "+ b_0 (\\partial_t(p-T), q-S)_\\Omega \n",
        "+ ((a_0-b_0) \\partial_t T, S)_\\Omega \n",
        "+ ((c_0-b_0) \\partial_t p, q)_\\Omega = (\\boldsymbol{f}, \\boldsymbol{v})_\\Omega + (h, S)_\\Omega + (g, q)_\\Omega.\n",
        "$$"
      ]
    },
    {
      "cell_type": "markdown",
      "metadata": {
        "id": "zzNdaNWQKAHU"
      },
      "source": [
        "The **well-posedness** of the previous problem follows by taking $\\boldsymbol{v} = \\partial_t \\boldsymbol{u}$, $S = T$, $p = q$, and $\\psi = \\varphi$ and observing that all the terms appearing on the left-hand side of the resulting equation are positive. The ellpitic terms provides the control of the $H^1_0$-norms of the primary varibles and the classical inf-sup argument gives the bound of the $L^2$-norm of $\\varphi$. The a-priori bound is then obtained via standard arguments. "
      ]
    },
    {
      "cell_type": "markdown",
      "metadata": {
        "id": "hiJsD_DWLkt3"
      },
      "source": [
        "In the following FEniCS implementation the **fully-discrete formulation** is obtained by considering a backward Euler time advancing scheme. "
      ]
    },
    {
      "cell_type": "markdown",
      "metadata": {
        "id": "yLEWqE0u3jKb"
      },
      "source": [
        "## Convergence test "
      ]
    },
    {
      "cell_type": "markdown",
      "metadata": {
        "id": "7bVBRFliIY8d"
      },
      "source": [
        "On the unit square domain $\\Omega = (0,1) \\times (0,1)$ and time interval $I = (0, 1)$ \n",
        "we consider the initial and boundary value problem (corresponding to the thermoporoelasticity system) assuming as analytical solution:\n",
        "$$\n",
        "    \\begin{aligned}\n",
        "      u_1 &= (e^{t} - 1) (\\sin(2\\pi y) (\\cos(2 \\pi x) - 1) + \\frac1{\\mu +\\lambda} \\sin(\\pi x) \\sin(\\pi y)), \\\\\n",
        "      u_2 &= (e^{t} - 1) (\\sin(2\\pi x) (1 - \\cos(2 \\pi y)) + \\frac1{\\mu +\\lambda} \\sin(\\pi x) \\sin(\\pi y)), \\\\\n",
        "      p &= (e^{t} - 1) \\sin(\\pi x) \\sin(\\pi y), \\\\\n",
        "      T &= (e^{t} - 1) (\\cos(2 \\pi x) - 1) (\\cos(2 \\pi y) - 1).\n",
        "    \\end{aligned}\n",
        "$$\n",
        "\n",
        "Hence, we have $\\boldsymbol{u}_{|\\partial\\Omega} = \\boldsymbol{0}$, $p_{|\\partial\\Omega} = 0$, $T_{|\\partial\\Omega} = 0$, $\\boldsymbol{u}(0) = \\boldsymbol{u}_{0} = \\boldsymbol{0}$, $p(0) = p_{0} = 0$, and $T(0) = 0$. The right-hand side terms inferred from the exact solution are\n",
        "$$\n",
        "    \\begin{aligned}\n",
        "      f_1 &= \\pi(e^t - 1)\\left(\\alpha\\cos(\\pi x)\\sin(\\pi y)-2\\beta\\sin(2\\pi x)(cos(2\\pi y)-1)-\\pi(\\cos(\\pi x+\\pi y)+4\\mu\\sin(2\\pi y)(1-2\\cos(2\\pi x))-\\frac{2\\mu\\sin(\\pi x)\\sin(\\pi y)}{\\mu +\\lambda}\\right), \\\\\n",
        "      f_2 &= \\pi(e^t - 1)\\left(\\alpha\\sin(\\pi x)\\cos(\\pi y)-2\\beta\\sin(2\\pi y)(cos(2\\pi x)-1)-\\pi(\\cos(\\pi x+\\pi y)+4\\mu\\sin(2\\pi x)(2\\cos(2\\pi y)-1)-\\frac{2\\mu\\sin(\\pi x)\\sin(\\pi y)}{\\mu +\\lambda}\\right), \\\\\n",
        "      g &= (2\\kappa\\pi^2 (e^{t} - 1) + c_0 e^t) \\sin(\\pi x) \\sin(\\pi y) - b_0 e^t (cos(2\\pi x)-1)(cos(2\\pi y)-1) + \\frac{\\alpha\\pi e^t}{\\lambda + \\mu} \\sin(\\pi x + \\pi y), \\\\ \n",
        "      h &= (4\\Theta\\pi^2 (e^{t} - 1) + a_0 e^t) (cos(2\\pi x)-1)(cos(2\\pi y)-1) + 4\\Theta\\pi^2 (e^{t} - 1)(cos(2\\pi x)cos(2\\pi y) -1) - b_0 e^t \\sin(\\pi x) \\sin(\\pi y) + \\frac{\\beta\\pi e^t \\sin(\\pi x + \\pi y)}{\\lambda + \\mu} .\n",
        "    \\end{aligned}\n",
        "$$"
      ]
    },
    {
      "cell_type": "markdown",
      "metadata": {
        "id": "1uL_AH6Je4Le"
      },
      "source": [
        "## Import FEniCS"
      ]
    },
    {
      "cell_type": "code",
      "metadata": {
        "id": "ZNGbzoV3eFJT"
      },
      "source": [
        "%%capture\n",
        "try:\n",
        "    import dolfin\n",
        "except ImportError:\n",
        "    !wget \"https://fem-on-colab.github.io/releases/fenics-install.sh\" -O \"/tmp/fenics-install.sh\" && bash \"/tmp/fenics-install.sh\"\n",
        "    import dolfin"
      ],
      "execution_count": null,
      "outputs": []
    },
    {
      "cell_type": "code",
      "metadata": {
        "id": "v57eOLIIe2fa"
      },
      "source": [
        "from fenics import *\n",
        "from mshr import *\n",
        "import matplotlib.pyplot as plt\n",
        "import numpy as np"
      ],
      "execution_count": null,
      "outputs": []
    },
    {
      "cell_type": "markdown",
      "metadata": {
        "id": "7yweE9IzJ2Dx"
      },
      "source": [
        "## Declare problem data"
      ]
    },
    {
      "cell_type": "code",
      "metadata": {
        "id": "bOfg-_vPe_NQ"
      },
      "source": [
        "# problem data\n",
        "T = 0.6               # final simulation time\n",
        "mu = Constant(1.0)    # mu fixed as reference parameter (keep it = 1)\n",
        "lam = Constant(5.0)   # lam can be arbitrarly large (nearly incompressible case)\n",
        "a_0 = Constant(0.02)  # a_0 can be equal to 0\n",
        "b_0 = Constant(0.01)  # b_0 < a_0 and b_0 < c_0 (physical constraints)\n",
        "c_0 = Constant(0.03)  # c_0 can be equal to 0\n",
        "kappa = Constant(0.2) # strictly positive\n",
        "theta = Constant(0.05)# strictly positive\n",
        "alpha = Constant(1.0) # strictly positive and smaller or equal to 1\n",
        "beta = Constant(0.8)  # strictly positive and smaller or equal to 1\n",
        "\n",
        "# volumetric forcing term\n",
        "f1 = Expression((\n",
        "    'pi*(exp(time)-1)*(_alpha*cos(pi*x[0])*sin(pi*x[1]) -2*_beta*sin(2*pi*x[0])*(cos(2*pi*x[1])-1) -pi*(cos(pi*x[0]+pi*x[1])+4*sin(2*pi*x[1])*(1-2*cos(2*pi*x[0]))))', \n",
        "    'pi*(exp(time)-1)*(_alpha*sin(pi*x[0])*cos(pi*x[1]) -2*_beta*sin(2*pi*x[1])*(cos(2*pi*x[0])-1) -pi*(cos(pi*x[0]+pi*x[1])+4*sin(2*pi*x[0])*(2*cos(2*pi*x[1])-1)))'\n",
        "              ), degree=3, time=0.0, _alpha=alpha, _beta=beta)\n",
        "f2 = Expression((\n",
        "    '(2*_mu/(_mu+_lam))*pi*pi*(exp(time)-1)*(sin(pi*x[0])*sin(pi*x[1]))', \n",
        "    '(2*_mu/(_mu+_lam))*pi*pi*(exp(time)-1)*(sin(pi*x[0])*sin(pi*x[1]))'\n",
        "              ), degree=3, time=0.0, _mu=1.0, _lam=lam)\n",
        "\n",
        "# fluid source term\n",
        "g1 = Expression('(_kappa*2*pi*pi*(exp(time)-1)+_c_0*exp(time))*sin(pi*x[0])*sin(pi*x[1])', degree=3, time=0.0, _kappa=kappa, _c_0=c_0) \n",
        "g2 = Expression('(_alpha*pi/(_mu+_lam))*exp(time)*sin(pi*x[0]+pi*x[1])-_b_0*exp(time)*(cos(2*pi*x[0])-1)*(cos(2*pi*x[1])-1)', degree=3, time=0.0, _mu=1.0, _lam=lam, _b_0=b_0, _alpha=alpha)\n",
        "\n",
        "# thermal source term\n",
        "h1 = Expression('(_theta*4*pi*pi*(exp(time)-1)+_a_0*exp(time))*(cos(2*pi*x[0])-1)*(cos(2*pi*x[1])-1)+_theta*4*pi*pi*(exp(time)-1)*(cos(2*pi*x[0])*cos(2*pi*x[1])-1)', degree=3, time=0.0, _theta=theta, _a_0=a_0) \n",
        "h2 = Expression('(_beta*pi/(_mu+_lam))*exp(time)*sin(pi*x[0]+pi*x[1])-_b_0*exp(time)*sin(pi*x[0])*sin(pi*x[1])', degree=3, time=0.0, _mu=1.0, _lam=lam, _b_0=b_0, _beta=beta)\n",
        "\n",
        "# analytical solutions (primary variables)\n",
        "u_ex = Expression((\n",
        "      '(exp(time)-1)*(sin(2*pi*x[1])*(cos(2*pi*x[0])-1) + (1.0/(_mu+_lam))*sin(pi*x[0])*sin(pi*x[1]))', \n",
        "      '(exp(time)-1)*(sin(2*pi*x[0])*(1-cos(2*pi*x[1])) + (1.0/(_mu+_lam))*sin(pi*x[0])*sin(pi*x[1]))'\n",
        "              ), degree=4, time=0.0, _mu=1.0, _lam=lam)\n",
        "p_ex = Expression('(exp(time)-1)*sin(pi*x[0])*sin(pi*x[1])', degree=4, time=0.0)\n",
        "T_ex = Expression('(exp(time)-1)*(cos(2*pi*x[0])-1)*(cos(2*pi*x[1])-1)', degree=4, time=0.0)"
      ],
      "execution_count": null,
      "outputs": []
    },
    {
      "cell_type": "markdown",
      "metadata": {
        "id": "ygkLsxQ_K5tM"
      },
      "source": [
        "## Implementation of equal order dG scheme"
      ]
    },
    {
      "cell_type": "code",
      "metadata": {
        "id": "Ro00GiW0Jvuk"
      },
      "source": [
        "def dg_ThePorEl4f(n, deg, dt, T, lam, a_0, b_0, c_0, kappa, theta, alpha, beta, u_ex, p_ex, T_ex, f1, f2, g1, g2, h1, h2):\n",
        "    # 0. method specific pre-computations\n",
        "    gamma = 9.1*deg**2\n",
        "    delta = 3.1/deg\n",
        "\n",
        "    # 1. mesh generation\n",
        "    #mesh = UnitSquareMesh(n, n, 'crossed')\n",
        "    square = Rectangle(Point(0.0, 0.0), Point(1.0, 1.0))\n",
        "    mesh = generate_mesh(square, n)\n",
        "\n",
        "    # 2. definition of the lowest-order Taylor-Hood finite element pair\n",
        "    U = VectorElement('DG', mesh.ufl_cell(), deg)\n",
        "    Q = FiniteElement('DG', mesh.ufl_cell(), deg)\n",
        "    P = FiniteElement('DG', mesh.ufl_cell(), deg)\n",
        "    X = FunctionSpace(mesh, MixedElement([U, Q, P, P]))\n",
        "\n",
        "    # 3a. assembling: def functions and operators \n",
        "    u, phi, p, tt = TrialFunctions(X)\n",
        "    v, psi, q, rr = TestFunctions(X)\n",
        "    x_old = Function(X)\n",
        "    u_old, phi_old, p_old, tt_old = split(x_old)\n",
        "    \n",
        "    n = FacetNormal(mesh)\n",
        "    h = CellDiameter(mesh)\n",
        "    h_avg = (h('+') + h('-'))/2\n",
        "\n",
        "    # 3b. assembling : def forms\n",
        "    a1 = (2.0*inner(sym(grad(u)), sym(grad(v))) + phi*div(v) - div(u)*psi)*dx  \\\n",
        "       - 2.0*inner(dot(avg(sym(grad(u))), n('+')), jump(v))*dS \\\n",
        "       - 2.0*inner(jump(u), dot(avg(sym(grad(v))), n('+')))*dS \\\n",
        "       - 2.0*inner(dot(sym(grad(u)), n), v)*ds \\\n",
        "       - 2.0*inner(u, dot(sym(grad(v)), n))*ds \\\n",
        "       + 2.0*gamma/h_avg*inner(jump(u), jump(v))*dS \\\n",
        "       + 2.0*gamma/h*inner(u, v)*ds \\\n",
        "       + inner(jump(u, n), avg(psi))*dS - inner(jump(v, n), avg(phi))*dS \\\n",
        "       + inner(u, n)*psi*ds - inner(v, n)*phi*ds \\\n",
        "       + delta*h_avg*jump(phi)*jump(psi)*dS \n",
        "\n",
        "    a2 = (1.0/lam)*(phi+alpha*p+beta*tt)*(psi+alpha*q+beta*rr)*dx \\\n",
        "       + (b_0*(p-tt)*(q-rr) + (c_0-b_0)*p*q + (a_0-b_0)*tt*rr)*dx\n",
        "\n",
        "    a3 = dt*kappa*dot(grad(p), grad(q))*dx \\\n",
        "       - dt*kappa*dot(avg(grad(q)), jump(p, n))*dS \\\n",
        "       - dt*kappa*dot(jump(q, n), avg(grad(p)))*dS \\\n",
        "       - dt*kappa*(dot(grad(q), p*n) + dot(q*n, grad(p)))*ds \\\n",
        "       + dt*kappa*gamma/h_avg*dot(jump(p, n), jump(q, n))*dS \\\n",
        "       + dt*kappa*gamma/h*p*q*ds\n",
        "\n",
        "    a4 = dt*theta*dot(grad(tt), grad(rr))*dx \\\n",
        "       - dt*theta*dot(avg(grad(rr)), jump(tt, n))*dS \\\n",
        "       - dt*theta*dot(jump(rr, n), avg(grad(tt)))*dS \\\n",
        "       - dt*theta*(dot(grad(rr), tt*n) + dot(rr*n, grad(tt)))*ds \\\n",
        "       + dt*theta*gamma/h_avg*dot(jump(tt, n), jump(rr, n))*dS \\\n",
        "       + dt*theta*gamma/h*tt*rr*ds\n",
        "    \n",
        "    a = a1 + a2 + a3 + a4   \n",
        "    \n",
        "    L = (dot(f1+f2, v) + dt*(g1+g2)*q + dt*(h1+h2)*rr)*dx \\\n",
        "      + (p_old*(c_0*q-b_0*rr) + tt_old*(a_0*rr-b_0*q))*dx \\\n",
        "      + (1/lam)*(alpha*p_old+beta*tt_old+phi_old)*(alpha*q+beta*rr)*dx\n",
        "\n",
        "    # 4. solve and advance in time \n",
        "    A = assemble(a)\n",
        "    Ainv = LUSolver(A)\n",
        "\n",
        "    l2err_u = 0.0\n",
        "    h1err_u = 0.0\n",
        "    l2err_p = 0.0\n",
        "    h1err_p = 0.0\n",
        "    l2err_t = 0.0\n",
        "    h1err_t = 0.0\n",
        "\n",
        "    for t in np.arange(dt, T+0.1*dt, dt):\n",
        "        f1.time = t\n",
        "        f2.time = t\n",
        "        g1.time = t\n",
        "        g2.time = t\n",
        "        h1.time = t\n",
        "        h2.time = t\n",
        "        b = assemble(L)\n",
        "        \n",
        "        print('solving time {}'.format(t))\n",
        "        Ainv.solve(x_old.vector(), b)\n",
        "        u_old, phi_old, p_old, tt_old = x_old.split()\n",
        "\n",
        "        u_ex.time = t\n",
        "        p_ex.time = t\n",
        "        T_ex.time = t\n",
        "        l2err_u = max(l2err_u, errornorm(u_ex, u_old, 'L2'))\n",
        "        h1err_u += dt * (errornorm(u_ex, u_old, 'H10')**2)\n",
        "        l2err_p = max(l2err_p, errornorm(p_ex, p_old, 'L2'))\n",
        "        h1err_p += dt * (errornorm(p_ex, p_old, 'H10')**2)\n",
        "        l2err_t = max(l2err_t, errornorm(T_ex, tt_old, 'L2'))\n",
        "        h1err_t += dt * (errornorm(T_ex, tt_old, 'H10')**2)\n",
        "    \n",
        "    h1err_u = sqrt(h1err_u)\n",
        "    h1err_p = sqrt(h1err_p)\n",
        "    h1err_t = sqrt(h1err_t)\n",
        "    return l2err_u, h1err_u, l2err_p, h1err_p, l2err_t, h1err_t"
      ],
      "execution_count": null,
      "outputs": []
    },
    {
      "cell_type": "code",
      "metadata": {
        "colab": {
          "base_uri": "https://localhost:8080/"
        },
        "id": "qa4O5niUPzEE",
        "outputId": "f6b733b1-1c99-4b01-f46b-f11bc9e33a7a"
      },
      "source": [
        "M_err=np.zeros((6,4))\n",
        "deg = 1\n",
        "\n",
        "for i in range(4):\n",
        "    n = 5*(2**i)\n",
        "    dt = 0.3/(4**i)\n",
        "    l2err_u, h1err_u, l2err_p, h1err_p, l2err_t, h1err_t = dg_ThePorEl4f(n, deg, dt, T, lam, a_0, b_0, c_0, kappa, theta, alpha, beta, u_ex, p_ex, T_ex, f1, f2, g1, g2, h1, h2)\n",
        "\n",
        "    M_err[0,i] = l2err_u \n",
        "    M_err[1,i] = h1err_u\n",
        "    M_err[2,i] = l2err_p \n",
        "    M_err[3,i] = h1err_p\n",
        "    M_err[4,i] = l2err_t \n",
        "    M_err[5,i] = h1err_t\n",
        "\n",
        "    print('n={} dt={} l2err_u={:.2e} h1err_u={:.2e} l2err_p={:.2e} h1err_p={:.2e} l2err_t={:.2e} h1err_t={:.2e}'.format(n, dt, l2err_u, h1err_u, l2err_p, h1err_p, l2err_t, h1err_t))\n",
        "    print()"
      ],
      "execution_count": null,
      "outputs": [
        {
          "output_type": "stream",
          "text": [
            "solving time 0.3\n",
            "solving time 0.6\n",
            "n=5 dt=0.3 l2err_u=1.11e-01 h1err_u=1.40e+00 l2err_p=1.57e-02 h1err_p=2.07e-01 l2err_t=6.85e-02 h1err_t=1.14e+00\n",
            "\n",
            "solving time 0.075\n",
            "solving time 0.15\n",
            "solving time 0.22499999999999998\n",
            "solving time 0.3\n",
            "solving time 0.375\n",
            "solving time 0.45\n",
            "solving time 0.5249999999999999\n",
            "solving time 0.6\n",
            "n=10 dt=0.075 l2err_u=3.08e-02 h1err_u=5.53e-01 l2err_p=3.86e-03 h1err_p=7.82e-02 l2err_t=1.82e-02 h1err_t=4.40e-01\n",
            "\n",
            "solving time 0.01875\n",
            "solving time 0.0375\n",
            "solving time 0.056249999999999994\n",
            "solving time 0.075\n",
            "solving time 0.09375\n",
            "solving time 0.1125\n",
            "solving time 0.13124999999999998\n",
            "solving time 0.15\n",
            "solving time 0.16874999999999998\n",
            "solving time 0.18749999999999997\n",
            "solving time 0.20625\n",
            "solving time 0.22499999999999998\n",
            "solving time 0.24374999999999997\n",
            "solving time 0.2625\n",
            "solving time 0.28125\n",
            "solving time 0.3\n",
            "solving time 0.31875\n",
            "solving time 0.33749999999999997\n",
            "solving time 0.35624999999999996\n",
            "solving time 0.375\n",
            "solving time 0.39375\n",
            "solving time 0.4125\n",
            "solving time 0.43124999999999997\n",
            "solving time 0.44999999999999996\n",
            "solving time 0.46874999999999994\n",
            "solving time 0.4875\n",
            "solving time 0.50625\n",
            "solving time 0.525\n",
            "solving time 0.5437500000000001\n",
            "solving time 0.5625\n",
            "solving time 0.58125\n",
            "solving time 0.6\n",
            "n=20 dt=0.01875 l2err_u=8.43e-03 h1err_u=2.66e-01 l2err_p=1.02e-03 h1err_p=3.72e-02 l2err_t=5.07e-03 h1err_t=2.09e-01\n",
            "\n",
            "solving time 0.0046875\n",
            "solving time 0.009375\n",
            "solving time 0.014062499999999999\n",
            "solving time 0.01875\n",
            "solving time 0.0234375\n",
            "solving time 0.028125\n",
            "solving time 0.032812499999999994\n",
            "solving time 0.0375\n",
            "solving time 0.042187499999999996\n",
            "solving time 0.04687499999999999\n",
            "solving time 0.0515625\n",
            "solving time 0.056249999999999994\n",
            "solving time 0.06093749999999999\n",
            "solving time 0.065625\n",
            "solving time 0.0703125\n",
            "solving time 0.075\n",
            "solving time 0.0796875\n",
            "solving time 0.08437499999999999\n",
            "solving time 0.08906249999999999\n",
            "solving time 0.09375\n",
            "solving time 0.0984375\n",
            "solving time 0.103125\n",
            "solving time 0.10781249999999999\n",
            "solving time 0.11249999999999999\n",
            "solving time 0.11718749999999999\n",
            "solving time 0.121875\n",
            "solving time 0.1265625\n",
            "solving time 0.13125\n",
            "solving time 0.13593750000000002\n",
            "solving time 0.140625\n",
            "solving time 0.1453125\n",
            "solving time 0.15\n",
            "solving time 0.1546875\n",
            "solving time 0.15937500000000002\n",
            "solving time 0.1640625\n",
            "solving time 0.16875\n",
            "solving time 0.1734375\n",
            "solving time 0.178125\n",
            "solving time 0.18281250000000002\n",
            "solving time 0.1875\n",
            "solving time 0.1921875\n",
            "solving time 0.196875\n",
            "solving time 0.2015625\n",
            "solving time 0.20625000000000002\n",
            "solving time 0.2109375\n",
            "solving time 0.215625\n",
            "solving time 0.2203125\n",
            "solving time 0.225\n",
            "solving time 0.2296875\n",
            "solving time 0.234375\n",
            "solving time 0.2390625\n",
            "solving time 0.24375\n",
            "solving time 0.2484375\n",
            "solving time 0.253125\n",
            "solving time 0.2578125\n",
            "solving time 0.2625\n",
            "solving time 0.2671875\n",
            "solving time 0.271875\n",
            "solving time 0.2765625\n",
            "solving time 0.28125\n",
            "solving time 0.2859375\n",
            "solving time 0.290625\n",
            "solving time 0.2953125\n",
            "solving time 0.3\n",
            "solving time 0.3046875\n",
            "solving time 0.309375\n",
            "solving time 0.3140625\n",
            "solving time 0.31875\n",
            "solving time 0.3234375\n",
            "solving time 0.328125\n",
            "solving time 0.3328125\n",
            "solving time 0.3375\n",
            "solving time 0.3421875\n",
            "solving time 0.346875\n",
            "solving time 0.3515625\n",
            "solving time 0.35625\n",
            "solving time 0.3609375\n",
            "solving time 0.365625\n",
            "solving time 0.3703125\n",
            "solving time 0.375\n",
            "solving time 0.3796875\n",
            "solving time 0.384375\n",
            "solving time 0.3890625\n",
            "solving time 0.39375\n",
            "solving time 0.3984375\n",
            "solving time 0.403125\n",
            "solving time 0.4078125\n",
            "solving time 0.4125\n",
            "solving time 0.4171875\n",
            "solving time 0.421875\n",
            "solving time 0.4265625\n",
            "solving time 0.43125\n",
            "solving time 0.4359375\n",
            "solving time 0.440625\n",
            "solving time 0.4453125\n",
            "solving time 0.45\n",
            "solving time 0.45468749999999997\n",
            "solving time 0.459375\n",
            "solving time 0.4640625\n",
            "solving time 0.46875\n",
            "solving time 0.4734375\n",
            "solving time 0.47812499999999997\n",
            "solving time 0.4828125\n",
            "solving time 0.4875\n",
            "solving time 0.4921875\n",
            "solving time 0.496875\n",
            "solving time 0.5015624999999999\n",
            "solving time 0.50625\n",
            "solving time 0.5109374999999999\n",
            "solving time 0.5156249999999999\n",
            "solving time 0.5203125\n",
            "solving time 0.5249999999999999\n",
            "solving time 0.5296875\n",
            "solving time 0.5343749999999999\n",
            "solving time 0.5390624999999999\n",
            "solving time 0.54375\n",
            "solving time 0.5484374999999999\n",
            "solving time 0.553125\n",
            "solving time 0.5578124999999999\n",
            "solving time 0.5624999999999999\n",
            "solving time 0.5671875\n",
            "solving time 0.5718749999999999\n",
            "solving time 0.5765625\n",
            "solving time 0.5812499999999999\n",
            "solving time 0.5859374999999999\n",
            "solving time 0.590625\n",
            "solving time 0.5953124999999999\n",
            "solving time 0.6\n",
            "n=40 dt=0.0046875 l2err_u=2.13e-03 h1err_u=1.29e-01 l2err_p=2.49e-04 h1err_p=1.79e-02 l2err_t=1.29e-03 h1err_t=1.02e-01\n",
            "\n"
          ],
          "name": "stdout"
        }
      ]
    },
    {
      "cell_type": "markdown",
      "metadata": {
        "id": "krO8kC7QF30e"
      },
      "source": [
        "### Plot convergence results"
      ]
    },
    {
      "cell_type": "code",
      "metadata": {
        "colab": {
          "base_uri": "https://localhost:8080/",
          "height": 481
        },
        "id": "N8JI2fXhP-D3",
        "outputId": "a1a26ded-0544-4a39-bfd2-949ff724d421"
      },
      "source": [
        "# definition of the meshsize \n",
        "h = np.array([0.2/(2**i) for i in range(4)])\n",
        "\n",
        "# we use the subplots axis layout managers in matplotlib\n",
        "fig, axes = plt.subplots(figsize=(8,6))\n",
        "\n",
        "axes.loglog(h, h, 'silver',label=\"order 1\")\n",
        "axes.loglog(h, h**2, 'coral',label=\"order 2\")\n",
        "#axes.loglog(h, h**3, 'm',label=\"order 3\")\n",
        "axes.loglog(h, M_err[0,:], 'r--o',label=\"$L^2$ err u\")\n",
        "axes.loglog(h, M_err[1,:], 'g--*',label=\"$H^1$ err u\")\n",
        "axes.loglog(h, M_err[2,:], 'k--o',label=\"$L^2$ err p\")\n",
        "axes.loglog(h, M_err[3,:], 'b--*',label=\"$H^1$ err p\")\n",
        "axes.loglog(h, M_err[4,:], 'm--o',label=\"$L^2$ err t\")\n",
        "axes.loglog(h, M_err[5,:], 'c--*',label=\"$H^1$ err t\")\n",
        "\n",
        "axes.set_title(\"convergence for equal-order dG scheme\");\n",
        "axes.set_xlabel(\"h\")\n",
        "axes.set_ylabel(\"errors\")\n",
        "axes.legend(loc=4)\n",
        "\n",
        "fig.tight_layout()\n",
        "plt.show()"
      ],
      "execution_count": null,
      "outputs": [
        {
          "output_type": "display_data",
          "data": {
            "image/png": "[encoded data removed]",
            "text/plain": [
              "<Figure size 576x432 with 1 Axes>"
            ]
          },
          "metadata": {
            "tags": [],
            "needs_background": "light"
          }
        }
      ]
    },
    {
      "cell_type": "code",
      "metadata": {
        "id": "Fg6PR3SfQo37"
      },
      "source": [],
      "execution_count": null,
      "outputs": []
    }
  ]
}