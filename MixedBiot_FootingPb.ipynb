{
  "nbformat": 4,
  "nbformat_minor": 0,
  "metadata": {
    "colab": {
      "name": "MixedBiot_FootingPb.ipynb",
      "provenance": [],
      "collapsed_sections": []
    },
    "kernelspec": {
      "name": "python3",
      "display_name": "Python 3"
    }
  },
  "cells": [
    {
      "cell_type": "markdown",
      "metadata": {
        "id": "A8gulD11jX7H"
      },
      "source": [
        "# Comparizon of different formulation for Biot footing problem"
      ]
    },
    {
      "cell_type": "code",
      "metadata": {
        "id": "eODkTDGNjTqF"
      },
      "source": [
        "%%capture\n",
        "try:\n",
        "    import dolfin\n",
        "except ImportError:\n",
        "    !wget \"https://fem-on-colab.github.io/releases/fenics-install.sh\" -O \"/tmp/fenics-install.sh\" && bash \"/tmp/fenics-install.sh\"\n",
        "    import dolfin"
      ],
      "execution_count": 1,
      "outputs": []
    },
    {
      "cell_type": "code",
      "metadata": {
        "id": "a7y0nGnmQt11"
      },
      "source": [
        "from fenics import *\n",
        "from mshr import *\n",
        "import matplotlib.pyplot as plt\n",
        "import numpy as np"
      ],
      "execution_count": 2,
      "outputs": []
    },
    {
      "cell_type": "markdown",
      "metadata": {
        "id": "EJwxSke-jjZo"
      },
      "source": [
        "## 3 field-formualtion with total pressure"
      ]
    },
    {
      "cell_type": "code",
      "metadata": {
        "id": "fSM9MYg5jhnw"
      },
      "source": [
        "# mesh generation\n",
        "mesh = UnitSquareMesh(40, 40, 'crossed')\n",
        "\n",
        "# definition of the lowest-order Taylor-Hood finite element pair\n",
        "U = VectorElement('CG', mesh.ufl_cell(), 2)\n",
        "Q = FiniteElement('CG', mesh.ufl_cell(), 1)\n",
        "P = FiniteElement('CG', mesh.ufl_cell(), 2)\n",
        "X = FunctionSpace(mesh, MixedElement([U, Q, P]))\n",
        "\n",
        "# problem data\n",
        "lam = Constant(1e5)\n",
        "mu  = Constant(3e5)\n",
        "c_0 = Constant(1e-2)\n",
        "alpha = Constant(1.0)\n",
        "kappa = Constant(0.002)\n",
        "\n",
        "beta = alpha/lam\n",
        "gamma = c_0 + alpha**2/lam\n",
        "\n",
        "f = Constant([0.0]*2)   # volumetric force\n",
        "g = Constant(0.0)       # fluid source term\n",
        "t_n = Expression(('0.0', '2e5*x[1]*x[0]*(x[0]-1)'), t=0.0, degree=2)\n",
        "\n",
        "dt = 0.01\n",
        "T = 0.2\n",
        "\n",
        "# boundary conditions\n",
        "def boundary(x, on_boundary):\n",
        "    return on_boundary\n",
        "\n",
        "def not_top(x, on_boundary):\n",
        "    return on_boundary and not near(x[1], 1.0)\n",
        "\n",
        "bc_u = DirichletBC(X.sub(0), Constant((0.0, 0.0)), not_top)\n",
        "bc_p = DirichletBC(X.sub(2), 0, boundary)\n",
        "bcs = [bc_u, bc_p]"
      ],
      "execution_count": null,
      "outputs": []
    },
    {
      "cell_type": "code",
      "metadata": {
        "id": "jdws3ijjonPh"
      },
      "source": [
        "# discrete problem formulation\n",
        "u, phi, p = TrialFunctions(X)\n",
        "v, psi, q = TestFunctions(X)\n",
        "\n",
        "x_old = Function(X)\n",
        "u_old, phi_old, p_old = split(x_old)\n",
        "\n",
        "a1 = (2.0 * mu * inner(sym(grad(u)), sym(grad(v))) - phi * div(v)) * dx\n",
        "a2 = (div(u) + phi/lam - beta * p) * psi * dx\n",
        "a3 = (beta * phi *q - gamma * p * q - dt * inner(kappa*grad(p), grad(q))) * dx\n",
        "a = a1 + a2 + a3\n",
        "\n",
        "L = (dot(f, v) + dt*g*q + beta*phi_old*q - gamma*p_old*q) * dx + dot(t_n, v) * ds  "
      ],
      "execution_count": null,
      "outputs": []
    },
    {
      "cell_type": "code",
      "metadata": {
        "id": "MB0TCWbaxFBc"
      },
      "source": [
        "# advance in time and post-process\n",
        "time = 0.0\n",
        "print(time)\n",
        "\n",
        "x = Function(X)\n",
        "u, phi, p = x.split()\n",
        "u.rename('displacement', 'displacement')\n",
        "p.rename('pressure', 'pressure')\n",
        "\n",
        "ufile = File('displacement.pvd')\n",
        "pfile = File('pressure.pvd')\n",
        "\n",
        "ufile << (u, time)\n",
        "pfile << (p, time)\n",
        "\n",
        "while time < T:\n",
        "  time += dt\n",
        "  f.t = time\n",
        "  g.t = time\n",
        "  t_n.t = time\n",
        "\n",
        "  print('solving step {}'.format(time))\n",
        "  x_old.assign(x)\n",
        "  solve(a == L, x, bcs)\n",
        "\n",
        "  u, phi, p = x.split()\n",
        "  u.rename('displacement', 'displacement')\n",
        "  p.rename('pressure', 'pressure')\n",
        "  ufile << (u, time)\n",
        "  pfile << (p, time)\n",
        "\n",
        "plot(p)"
      ],
      "execution_count": null,
      "outputs": []
    },
    {
      "cell_type": "code",
      "metadata": {
        "id": "eSH5nuJo2j95",
        "colab": {
          "base_uri": "https://localhost:8080/",
          "height": 318
        },
        "outputId": "2d448aed-4d78-4185-d8a6-4658abb0be5e"
      },
      "source": [
        "plot(u, title='u', mode='displacement')"
      ],
      "execution_count": null,
      "outputs": [
        {
          "output_type": "execute_result",
          "data": {
            "text/plain": [
              "<matplotlib.collections.PolyCollection at 0x7fda1baa0978>"
            ]
          },
          "metadata": {
            "tags": []
          },
          "execution_count": 27
        },
        {
          "output_type": "display_data",
          "data": {
            "image/png": "[encoded data removed]",
            "text/plain": [
              "<Figure size 432x288 with 1 Axes>"
            ]
          },
          "metadata": {
            "tags": [],
            "needs_background": "light"
          }
        }
      ]
    },
    {
      "cell_type": "markdown",
      "metadata": {
        "id": "6L06LqPzI58_"
      },
      "source": [
        "## 2 field-formualtion with displacement and total flux"
      ]
    },
    {
      "cell_type": "code",
      "metadata": {
        "id": "fICC90iiJDPc"
      },
      "source": [
        "# mesh generation\n",
        "mesh = UnitSquareMesh(40, 40, 'crossed')\n",
        "\n",
        "# definition of the finite element spaces\n",
        "U = VectorElement('CG', mesh.ufl_cell(), 1)\n",
        "W = FiniteElement('RT', mesh.ufl_cell(), 1)\n",
        "X = FunctionSpace(mesh, U * W)\n",
        "\n",
        "# problem data\n",
        "lam = Constant(1e5)\n",
        "mu  = Constant(3e5)\n",
        "c_0 = Constant(1e-2)\n",
        "alpha = Constant(1.0)\n",
        "kappa = Constant(0.002)\n",
        "\n",
        "f = Constant([0.0]*2)   # volumetric force\n",
        "t_n = Expression(('0.0', '2e5*x[1]*x[0]*(x[0]-1)'), t=0.0, degree=2)  # traction\n",
        "\n",
        "dt = 0.01\n",
        "T = 0.2\n",
        "\n",
        "# boundary conditions\n",
        "def boundary(x, on_boundary):\n",
        "    return on_boundary\n",
        "\n",
        "def not_top(x, on_boundary):\n",
        "    return on_boundary and not near(x[1], 1.0)\n",
        "\n",
        "bc = DirichletBC(X.sub(0), Constant((0.0, 0.0)), not_top)"
      ],
      "execution_count": null,
      "outputs": []
    },
    {
      "cell_type": "code",
      "metadata": {
        "id": "mEX3WAuhQGDg"
      },
      "source": [
        "# discrete problem formulation\n",
        "u, w = TrialFunctions(X)\n",
        "v, z = TestFunctions(X)\n",
        "\n",
        "x_old = Function(X)\n",
        "u_old, w_old = split(x_old)\n",
        "\n",
        "a1 = (2.0 * mu * inner(sym(grad(u)), sym(grad(v))) + lam * div(u) * div(v)) * dx\n",
        "a2 = (1.0/c_0) * div(w) * div(z) * dx\n",
        "a3 = (1.0/(kappa * dt)) * dot(w - alpha * u, z - alpha *v) * dx\n",
        "a = a1 + a2 + a3\n",
        "\n",
        "L = (dot(f, v)+(1.0/(kappa*dt))*dot(w_old-alpha*u_old, z-alpha*v))*dx + dot(t_n, v)*ds  "
      ],
      "execution_count": null,
      "outputs": []
    },
    {
      "cell_type": "code",
      "metadata": {
        "id": "6ySC8bE7SOt-",
        "colab": {
          "base_uri": "https://localhost:8080/",
          "height": 686
        },
        "outputId": "697c2dfe-2b28-441b-b482-bbae455cf807"
      },
      "source": [
        "# advance in time and post-process\n",
        "time = 0.0\n",
        "print(time)\n",
        "\n",
        "x = Function(X)\n",
        "u, w = x.split()\n",
        "u.rename('displacement', 'displacement')\n",
        "w.rename('flux', 'flux')\n",
        "\n",
        "ufile = File('displacement.pvd')\n",
        "ufile << (u, time)\n",
        "\n",
        "while time < T:\n",
        "  time += dt\n",
        "  f.t = time\n",
        "  t_n.t = time\n",
        "\n",
        "  print('solving step {}'.format(time))\n",
        "  x_old.assign(x)\n",
        "  solve(a == L, x, bc)\n",
        "\n",
        "  u, w = x.split()\n",
        "  u.rename('displacement', 'displacement')\n",
        "  w.rename('flux', 'flux')\n",
        "  ufile << (u, time)\n",
        "\n",
        "plot(u, title='u', mode='displacement')\n",
        "#plot(w, title='w')"
      ],
      "execution_count": null,
      "outputs": [
        {
          "output_type": "stream",
          "text": [
            "0.0\n",
            "solving step 0.01\n",
            "solving step 0.02\n",
            "solving step 0.03\n",
            "solving step 0.04\n",
            "solving step 0.05\n",
            "solving step 0.060000000000000005\n",
            "solving step 0.07\n",
            "solving step 0.08\n",
            "solving step 0.09\n",
            "solving step 0.09999999999999999\n",
            "solving step 0.10999999999999999\n",
            "solving step 0.11999999999999998\n",
            "solving step 0.12999999999999998\n",
            "solving step 0.13999999999999999\n",
            "solving step 0.15\n",
            "solving step 0.16\n",
            "solving step 0.17\n",
            "solving step 0.18000000000000002\n",
            "solving step 0.19000000000000003\n",
            "solving step 0.20000000000000004\n"
          ],
          "name": "stdout"
        },
        {
          "output_type": "execute_result",
          "data": {
            "text/plain": [
              "<matplotlib.collections.PolyCollection at 0x7f376c30cef0>"
            ]
          },
          "metadata": {
            "tags": []
          },
          "execution_count": 11
        },
        {
          "output_type": "display_data",
          "data": {
            "image/png": "[encoded data removed]",
            "text/plain": [
              "<Figure size 432x288 with 1 Axes>"
            ]
          },
          "metadata": {
            "tags": [],
            "needs_background": "light"
          }
        }
      ]
    },
    {
      "cell_type": "markdown",
      "metadata": {
        "id": "RKZ-00FBb4pH"
      },
      "source": [
        "# 5 field-formulation with stress-pressure coupling"
      ]
    },
    {
      "cell_type": "code",
      "metadata": {
        "id": "3hcf9yZe3y71",
        "colab": {
          "base_uri": "https://localhost:8080/"
        },
        "outputId": "5ec892cc-41f0-449c-c3a4-2d7c6f275539"
      },
      "source": [
        "# mesh generation\n",
        "mesh = UnitSquareMesh(40, 40, 'crossed')\n",
        "\n",
        "# definition of the lowest-order weak symmetry MFE coupling\n",
        "S1 = FiniteElement('RT', mesh.ufl_cell(), 2)\n",
        "S2 = FiniteElement('RT', mesh.ufl_cell(), 2)\n",
        "U = VectorElement('DG', mesh.ufl_cell(), 1)\n",
        "Q = FiniteElement('CG', mesh.ufl_cell(), 1)\n",
        "W = FiniteElement('RT', mesh.ufl_cell(), 2)\n",
        "P = FiniteElement('DG', mesh.ufl_cell(), 1)\n",
        "X = FunctionSpace(mesh, MixedElement([S1, S2, U, Q, W, P]))\n",
        "\n",
        "# problem data\n",
        "lam = Constant(1e5)\n",
        "mu  = Constant(3e5)\n",
        "c_0 = Constant(1e-2)\n",
        "alpha = Constant(1.0)\n",
        "kappa = Constant(0.002)\n",
        "\n",
        "beta = 0.5/mu\n",
        "gamma = lam/(4*mu*(mu+lam))\n",
        "\n",
        "f = Constant([0.0]*2)   # volumetric force\n",
        "g = Constant(0.0)       # fluid source term\n",
        "\n",
        "dt = 0.01\n",
        "T = 0.2\n",
        "\n",
        "# essential boundary condition\n",
        "def top(x, on_boundary):\n",
        "    return on_boundary and near(x[1], 1.0)\n",
        "\n",
        "bc_0 = DirichletBC(X.sub(0), Constant((0.0, 0.0)), top)\n",
        "\n",
        "# Define vertical traction TN such that TN \\cdot n = t_n\n",
        "class BoundaryTraction(UserExpression):\n",
        "    def __init__(self, mesh, **kwargs):\n",
        "        self.mesh = mesh\n",
        "        super().__init__(**kwargs)\n",
        "    def eval_cell(self, values, x, ufc_cell):\n",
        "        cell = Cell(self.mesh, ufc_cell.index)\n",
        "        n = cell.normal(ufc_cell.local_facet)\n",
        "        t_n = -2e5*x[1]*x[0]*(x[0]-1)\n",
        "        values[0] = t_n*n[0]\n",
        "        values[1] = t_n*n[1]\n",
        "    def value_shape(self):\n",
        "        return (2,)\n",
        "\n",
        "TN = BoundaryTraction(mesh, degree=2)\n",
        "bc_1 = DirichletBC(X.sub(1), TN, top)\n",
        "bcs = [bc_0, bc_1]"
      ],
      "execution_count": 3,
      "outputs": [
        {
          "output_type": "stream",
          "name": "stderr",
          "text": [
            "Level 25:FFC:Calling FFC just-in-time (JIT) compiler, this may take some time.\n",
            "INFO:FFC:Compiling element ffc_element_2c1102c05eba962a5ac00d038df543267d4abdc3\n",
            "\n",
            "INFO:FFC:Compiler stage 1: Analyzing element(s)\n",
            "INFO:FFC:--------------------------------------\n",
            "INFO:FFC:  \n",
            "INFO:FFC:Compiler stage 1 finished in 0.00675106 seconds.\n",
            "\n",
            "INFO:FFC:Compiler stage 2: Computing intermediate representation\n",
            "INFO:FFC:-------------------------------------------------------\n",
            "INFO:FFC:  Computing representation of 1 elements\n",
            "/usr/local/lib/python3.7/dist-packages/FIAT/check_format_variant.py:10: DeprecationWarning: Variant of Raviart Thomas element will change from point evaluation to integral evaluation. You should project into variant=\"integral\"\n",
            "  ' You should project into variant=\"integral\"', DeprecationWarning)\n",
            "DEBUG:FFC:  Reusing element from cache\n",
            "DEBUG:FFC:  Reusing element from cache\n",
            "DEBUG:FFC:  Reusing element from cache\n",
            "DEBUG:FFC:  Reusing element from cache\n",
            "DEBUG:FFC:  Reusing element from cache\n",
            "DEBUG:FFC:  Reusing element from cache\n",
            "INFO:FFC:  Computing representation of 1 dofmaps\n",
            "DEBUG:FFC:  Reusing element from cache\n",
            "INFO:FFC:  Computing representation of 0 coordinate mappings\n",
            "INFO:FFC:  Computing representation of integrals\n",
            "INFO:FFC:  Computing representation of forms\n",
            "INFO:FFC:  \n",
            "INFO:FFC:Compiler stage 2 finished in 0.53237 seconds.\n",
            "\n",
            "INFO:FFC:Compiler stage 3: Optimizing intermediate representation\n",
            "INFO:FFC:--------------------------------------------------------\n",
            "INFO:FFC:  Skipping optimizations, add -O or attach {'optimize': True} metadata to integrals\n",
            "INFO:FFC:  \n",
            "INFO:FFC:Compiler stage 3 finished in 0.0136218 seconds.\n",
            "\n",
            "INFO:FFC:Compiler stage 4: Generating code\n",
            "INFO:FFC:---------------------------------\n",
            "INFO:FFC:  Generating code for 1 finite_element(s)\n",
            "INFO:FFC:  Generating code for 1 dofmap(s)\n",
            "INFO:FFC:  Generating code for 0 coordinate_mapping(s)\n",
            "INFO:FFC:  Generating code for integrals\n",
            "INFO:FFC:  Generating code for forms\n",
            "INFO:FFC:  \n",
            "INFO:FFC:Compiler stage 4 finished in 0.298846 seconds.\n",
            "\n",
            "INFO:FFC:Compiler stage 4.1 finished in 4.76837e-06 seconds.\n",
            "\n",
            "INFO:FFC:Compiler stage 5: Formatting code\n",
            "INFO:FFC:---------------------------------\n",
            "INFO:FFC:  \n",
            "INFO:FFC:Compiler stage 5 finished in 0.0109868 seconds.\n",
            "\n",
            "INFO:FFC:FFC finished in 0.876661 seconds.\n",
            "Level 25:FFC:Calling FFC just-in-time (JIT) compiler, this may take some time.\n",
            "INFO:FFC:Compiling element ffc_element_7b6ffafa5705f43027e92c88cff208fef827cc36\n",
            "\n",
            "INFO:FFC:Compiler stage 1: Analyzing element(s)\n",
            "INFO:FFC:--------------------------------------\n",
            "INFO:FFC:  \n",
            "INFO:FFC:Compiler stage 1 finished in 0.0105577 seconds.\n",
            "\n",
            "INFO:FFC:Compiler stage 2: Computing intermediate representation\n",
            "INFO:FFC:-------------------------------------------------------\n",
            "INFO:FFC:  Computing representation of 1 elements\n",
            "DEBUG:FFC:  Reusing element from cache\n",
            "DEBUG:FFC:  Reusing element from cache\n",
            "DEBUG:FFC:  Reusing element from cache\n",
            "INFO:FFC:  Computing representation of 1 dofmaps\n",
            "DEBUG:FFC:  Reusing element from cache\n",
            "INFO:FFC:  Computing representation of 0 coordinate mappings\n",
            "INFO:FFC:  Computing representation of integrals\n",
            "INFO:FFC:  Computing representation of forms\n",
            "INFO:FFC:  \n",
            "INFO:FFC:Compiler stage 2 finished in 0.0317914 seconds.\n",
            "\n",
            "INFO:FFC:Compiler stage 3: Optimizing intermediate representation\n",
            "INFO:FFC:--------------------------------------------------------\n",
            "INFO:FFC:  Skipping optimizations, add -O or attach {'optimize': True} metadata to integrals\n",
            "INFO:FFC:  \n",
            "INFO:FFC:Compiler stage 3 finished in 0.00937009 seconds.\n",
            "\n",
            "INFO:FFC:Compiler stage 4: Generating code\n",
            "INFO:FFC:---------------------------------\n",
            "INFO:FFC:  Generating code for 1 finite_element(s)\n",
            "INFO:FFC:  Generating code for 1 dofmap(s)\n",
            "INFO:FFC:  Generating code for 0 coordinate_mapping(s)\n",
            "INFO:FFC:  Generating code for integrals\n",
            "INFO:FFC:  Generating code for forms\n",
            "INFO:FFC:  \n",
            "INFO:FFC:Compiler stage 4 finished in 0.0743918 seconds.\n",
            "\n",
            "INFO:FFC:Compiler stage 4.1 finished in 4.05312e-06 seconds.\n",
            "\n",
            "INFO:FFC:Compiler stage 5: Formatting code\n",
            "INFO:FFC:---------------------------------\n",
            "INFO:FFC:  \n",
            "INFO:FFC:Compiler stage 5 finished in 0.0085454 seconds.\n",
            "\n",
            "INFO:FFC:FFC finished in 0.149144 seconds.\n",
            "Level 25:FFC:Calling FFC just-in-time (JIT) compiler, this may take some time.\n",
            "INFO:FFC:Compiling element ffc_element_a807b8200cb4281a81ffd7f50f2fcb3db349f669\n",
            "\n",
            "INFO:FFC:Compiler stage 1: Analyzing element(s)\n",
            "INFO:FFC:--------------------------------------\n",
            "INFO:FFC:  \n",
            "INFO:FFC:Compiler stage 1 finished in 0.00610662 seconds.\n",
            "\n",
            "INFO:FFC:Compiler stage 2: Computing intermediate representation\n",
            "INFO:FFC:-------------------------------------------------------\n",
            "INFO:FFC:  Computing representation of 1 elements\n",
            "DEBUG:FFC:  Reusing element from cache\n",
            "DEBUG:FFC:  Reusing element from cache\n",
            "DEBUG:FFC:  Reusing element from cache\n",
            "DEBUG:FFC:  Reusing element from cache\n",
            "INFO:FFC:  Computing representation of 1 dofmaps\n",
            "DEBUG:FFC:  Reusing element from cache\n",
            "INFO:FFC:  Computing representation of 0 coordinate mappings\n",
            "INFO:FFC:  Computing representation of integrals\n",
            "INFO:FFC:  Computing representation of forms\n",
            "INFO:FFC:  \n",
            "INFO:FFC:Compiler stage 2 finished in 0.021955 seconds.\n",
            "\n",
            "INFO:FFC:Compiler stage 3: Optimizing intermediate representation\n",
            "INFO:FFC:--------------------------------------------------------\n",
            "INFO:FFC:  Skipping optimizations, add -O or attach {'optimize': True} metadata to integrals\n",
            "INFO:FFC:  \n",
            "INFO:FFC:Compiler stage 3 finished in 0.00553155 seconds.\n",
            "\n",
            "INFO:FFC:Compiler stage 4: Generating code\n",
            "INFO:FFC:---------------------------------\n",
            "INFO:FFC:  Generating code for 1 finite_element(s)\n",
            "INFO:FFC:  Generating code for 1 dofmap(s)\n",
            "INFO:FFC:  Generating code for 0 coordinate_mapping(s)\n",
            "INFO:FFC:  Generating code for integrals\n",
            "INFO:FFC:  Generating code for forms\n",
            "INFO:FFC:  \n",
            "INFO:FFC:Compiler stage 4 finished in 0.102729 seconds.\n",
            "\n",
            "INFO:FFC:Compiler stage 4.1 finished in 8.34465e-06 seconds.\n",
            "\n",
            "INFO:FFC:Compiler stage 5: Formatting code\n",
            "INFO:FFC:---------------------------------\n",
            "INFO:FFC:  \n",
            "INFO:FFC:Compiler stage 5 finished in 0.00511241 seconds.\n",
            "\n",
            "INFO:FFC:FFC finished in 0.149856 seconds.\n",
            "Level 25:FFC:Calling FFC just-in-time (JIT) compiler, this may take some time.\n",
            "INFO:FFC:Compiling element ffc_element_3801828c0f66b7190a7fd5819465b3d5b34b9149\n",
            "\n",
            "INFO:FFC:Compiler stage 1: Analyzing element(s)\n",
            "INFO:FFC:--------------------------------------\n",
            "INFO:FFC:  \n",
            "INFO:FFC:Compiler stage 1 finished in 0.00686669 seconds.\n",
            "\n",
            "INFO:FFC:Compiler stage 2: Computing intermediate representation\n",
            "INFO:FFC:-------------------------------------------------------\n",
            "INFO:FFC:  Computing representation of 1 elements\n",
            "DEBUG:FFC:  Reusing element from cache\n",
            "DEBUG:FFC:  Reusing element from cache\n",
            "DEBUG:FFC:  Reusing element from cache\n",
            "INFO:FFC:  Computing representation of 1 dofmaps\n",
            "DEBUG:FFC:  Reusing element from cache\n",
            "INFO:FFC:  Computing representation of 0 coordinate mappings\n",
            "INFO:FFC:  Computing representation of integrals\n",
            "INFO:FFC:  Computing representation of forms\n",
            "INFO:FFC:  \n",
            "INFO:FFC:Compiler stage 2 finished in 0.0226877 seconds.\n",
            "\n",
            "INFO:FFC:Compiler stage 3: Optimizing intermediate representation\n",
            "INFO:FFC:--------------------------------------------------------\n",
            "INFO:FFC:  Skipping optimizations, add -O or attach {'optimize': True} metadata to integrals\n",
            "INFO:FFC:  \n",
            "INFO:FFC:Compiler stage 3 finished in 0.00644851 seconds.\n",
            "\n",
            "INFO:FFC:Compiler stage 4: Generating code\n",
            "INFO:FFC:---------------------------------\n",
            "INFO:FFC:  Generating code for 1 finite_element(s)\n",
            "INFO:FFC:  Generating code for 1 dofmap(s)\n",
            "INFO:FFC:  Generating code for 0 coordinate_mapping(s)\n",
            "INFO:FFC:  Generating code for integrals\n",
            "INFO:FFC:  Generating code for forms\n",
            "INFO:FFC:  \n",
            "INFO:FFC:Compiler stage 4 finished in 0.0758586 seconds.\n",
            "\n",
            "INFO:FFC:Compiler stage 4.1 finished in 9.05991e-06 seconds.\n",
            "\n",
            "INFO:FFC:Compiler stage 5: Formatting code\n",
            "INFO:FFC:---------------------------------\n",
            "INFO:FFC:  \n",
            "INFO:FFC:Compiler stage 5 finished in 0.00560665 seconds.\n",
            "\n",
            "INFO:FFC:FFC finished in 0.127606 seconds.\n",
            "Level 25:FFC:Calling FFC just-in-time (JIT) compiler, this may take some time.\n",
            "INFO:FFC:Compiling element ffc_element_06ef250550940fec62c8f6a827eefdc8449bebc8\n",
            "\n",
            "INFO:FFC:Compiler stage 1: Analyzing element(s)\n",
            "INFO:FFC:--------------------------------------\n",
            "INFO:FFC:  \n",
            "INFO:FFC:Compiler stage 1 finished in 0.0124936 seconds.\n",
            "\n",
            "INFO:FFC:Compiler stage 2: Computing intermediate representation\n",
            "INFO:FFC:-------------------------------------------------------\n",
            "INFO:FFC:  Computing representation of 1 elements\n",
            "DEBUG:FFC:  Reusing element from cache\n",
            "DEBUG:FFC:  Reusing element from cache\n",
            "DEBUG:FFC:  Reusing element from cache\n",
            "INFO:FFC:  Computing representation of 1 dofmaps\n",
            "DEBUG:FFC:  Reusing element from cache\n",
            "INFO:FFC:  Computing representation of 0 coordinate mappings\n",
            "INFO:FFC:  Computing representation of integrals\n",
            "INFO:FFC:  Computing representation of forms\n",
            "INFO:FFC:  \n",
            "INFO:FFC:Compiler stage 2 finished in 0.0196898 seconds.\n",
            "\n",
            "INFO:FFC:Compiler stage 3: Optimizing intermediate representation\n",
            "INFO:FFC:--------------------------------------------------------\n",
            "INFO:FFC:  Skipping optimizations, add -O or attach {'optimize': True} metadata to integrals\n",
            "INFO:FFC:  \n",
            "INFO:FFC:Compiler stage 3 finished in 0.00542712 seconds.\n",
            "\n",
            "INFO:FFC:Compiler stage 4: Generating code\n",
            "INFO:FFC:---------------------------------\n",
            "INFO:FFC:  Generating code for 1 finite_element(s)\n",
            "INFO:FFC:  Generating code for 1 dofmap(s)\n",
            "INFO:FFC:  Generating code for 0 coordinate_mapping(s)\n",
            "INFO:FFC:  Generating code for integrals\n",
            "INFO:FFC:  Generating code for forms\n",
            "INFO:FFC:  \n",
            "INFO:FFC:Compiler stage 4 finished in 0.132244 seconds.\n",
            "\n",
            "INFO:FFC:Compiler stage 4.1 finished in 8.58307e-06 seconds.\n",
            "\n",
            "INFO:FFC:Compiler stage 5: Formatting code\n",
            "INFO:FFC:---------------------------------\n",
            "INFO:FFC:  \n",
            "INFO:FFC:Compiler stage 5 finished in 0.00460148 seconds.\n",
            "\n",
            "INFO:FFC:FFC finished in 0.182862 seconds.\n"
          ]
        }
      ]
    },
    {
      "cell_type": "code",
      "metadata": {
        "id": "6b01wvigMXho"
      },
      "source": [
        "# discrete problem formulation\n",
        "s1, s2, u, q, w, phi = TrialFunctions(X)\n",
        "t1, t2, v, r, z, psi = TestFunctions(X)\n",
        "\n",
        "x_old = Function(X)\n",
        "s1_old, s2_old, u_old, q_old, w_old, phi_old = split(x_old)\n",
        "\n",
        "a1 = (beta * (dot(s1, t1)+dot(s2, t2)) - gamma * (s1[0]+s2[1]) * (t1[0]+t2[1])) * dx\n",
        "a2 = (-u[0] * div(t1) - u[1] * div(t2) + v[0] * div(s1) + v[1] * div(s2)) * dx\n",
        "a3 = (1.0/(kappa * dt)) * dot(w - alpha * u, z - alpha *v) * dx\n",
        "a4 = (psi * div(w) - phi * div(z) + c_0 * phi * psi) * dx\n",
        "a5 = (r * (s1[1] - s2[0]) - q * (t1[1] - t2[0])) * dx\n",
        "a = a1 + a2 + a3 + a4 + a5\n",
        "\n",
        "L = (g*psi + (1.0/dt)*(dot(f, v) - v[0]*div(s1_old) - v[1]*div(s2_old) + phi_old*div(z))) * dx "
      ],
      "execution_count": 4,
      "outputs": []
    },
    {
      "cell_type": "code",
      "metadata": {
        "id": "8a-8SqwvYL1d"
      },
      "source": [
        "# advance in time and post-process\n",
        "time = 0.0\n",
        "print(time)\n",
        "\n",
        "x = Function(X)\n",
        "s1, s2, u, q, w, phi = x.split()\n",
        "u.rename('displacement', 'displacement')\n",
        "phi.rename('pressure', 'pressure')\n",
        "\n",
        "ufile = File('displacement.pvd')\n",
        "ufile << (u, time)\n",
        "\n",
        "while time < T:\n",
        "  time += dt\n",
        "  f.t = time\n",
        "  g.t = time\n",
        "\n",
        "  print('solving step {}'.format(time))\n",
        "  x_old.assign(x)\n",
        "  solve(a == L, x, bcs)\n",
        "  x.assign(dt * x + x_old)\n",
        "\n",
        "  s1, s2, u, q, w, phi = x.split()\n",
        "  u.rename('displacement', 'displacement')\n",
        "  phi.rename('pressure', 'pressure')\n",
        "  ufile << (u, time)\n",
        "\n",
        "plot(u, title='u', mode='displacement')"
      ],
      "execution_count": null,
      "outputs": []
    },
    {
      "cell_type": "code",
      "metadata": {
        "id": "3PnsLvj2bW1Q",
        "colab": {
          "base_uri": "https://localhost:8080/",
          "height": 298
        },
        "outputId": "57454deb-3c1e-485e-b0f3-2f8480eba3fb"
      },
      "source": [
        "plot(phi, title='p')"
      ],
      "execution_count": 6,
      "outputs": [
        {
          "output_type": "execute_result",
          "data": {
            "text/plain": [
              "<matplotlib.tri.tricontour.TriContourSet at 0x7f4bfe479890>"
            ]
          },
          "metadata": {},
          "execution_count": 6
        },
        {
          "output_type": "display_data",
          "data": {
            "text/plain": [
              "<Figure size 432x288 with 1 Axes>"
            ],
            "image/png": "[encoded data removed]"
          },
          "metadata": {
            "needs_background": "light"
          }
        }
      ]
    },
    {
      "cell_type": "code",
      "source": [],
      "metadata": {
        "id": "Xug6HW76DHC1"
      },
      "execution_count": null,
      "outputs": []
    }
  ]
}