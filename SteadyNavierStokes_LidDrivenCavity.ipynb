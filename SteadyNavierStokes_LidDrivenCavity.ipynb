{
  "nbformat": 4,
  "nbformat_minor": 0,
  "metadata": {
    "colab": {
      "name": "Lab8_Ex2.ipynb",
      "provenance": [],
      "collapsed_sections": []
    },
    "kernelspec": {
      "name": "python3",
      "display_name": "Python 3"
    }
  },
  "cells": [
    {
      "cell_type": "markdown",
      "metadata": {
        "id": "8ETqw5UWHybS"
      },
      "source": [
        "# Steady Navier-Stokes equations"
      ]
    },
    {
      "cell_type": "markdown",
      "metadata": {
        "id": "crU-5EPEJvKL"
      },
      "source": [
        "We consider the stationary Navier-Stokes problem defined in the unit square domain $\\Omega := {[0,1]}^2$\n",
        "$$\n",
        "\\begin{cases}\n",
        "  ({\\boldsymbol{u}}\\cdot\\boldsymbol{\\nabla})\\ \\boldsymbol{u}\n",
        "  -\\dfrac{1}{\\text{Re}}\\boldsymbol{\\Delta} \\boldsymbol{u} + \\boldsymbol{\\nabla} p = 0, \n",
        "  \\qquad&\\text{in }\\Omega, \\\\\n",
        "  \\boldsymbol{\\nabla} \\cdot \\boldsymbol{u} = 0, \n",
        "  \\qquad &\\text{in }\\Omega, \\\\\n",
        "  \\boldsymbol{u} = 1\\boldsymbol{i} + 0\\boldsymbol{j}, \\qquad&\\text{on }\\Gamma^{\\text{up}} = \\{ 0 \\le x \\le 1, \\, y=1 \\}, \\\\\n",
        "  \\boldsymbol{u} = \\boldsymbol{0}, \\qquad&\\text{on }\\partial\\Omega \\backslash \\Gamma^{\\text{up}}.\n",
        "\\end{cases}\n",
        "$$"
      ]
    },
    {
      "cell_type": "markdown",
      "metadata": {
        "id": "eFziXwwYLHDs"
      },
      "source": [
        "## Numerical approximation with FEniCS"
      ]
    },
    {
      "cell_type": "code",
      "metadata": {
        "id": "4tT9VuTFHH0L"
      },
      "source": [
        "%%capture\n",
        "try:\n",
        "    import dolfin\n",
        "except ImportError:\n",
        "    !wget \"https://fem-on-colab.github.io/releases/fenics-install.sh\" -O \"/tmp/fenics-install.sh\" && bash \"/tmp/fenics-install.sh\"\n",
        "    import dolfin\n",
        "\n",
        "from fenics import *\n",
        "import numpy as np"
      ],
      "execution_count": null,
      "outputs": []
    },
    {
      "cell_type": "markdown",
      "metadata": {
        "id": "TZMNqCUPMZ7B"
      },
      "source": [
        "### Taylor-Hood discretization"
      ]
    },
    {
      "cell_type": "markdown",
      "metadata": {
        "id": "AWj0VfvmLLGh"
      },
      "source": [
        "Using the stable pair of spaces $\\mathbb{P}^2/\\mathbb{P}^1$ solve the problem using the **fixed-point iteration method**. Consider a stopping criterion based on the relative increment\n",
        "$$\n",
        "\\frac{||\\boldsymbol{u}_k-\\boldsymbol{u}_{k-1}||_{H^1}}{||\\boldsymbol{u}_{k-1}||_{H^1}}\n",
        "+\\frac{||\\boldsymbol{p}_k-\\boldsymbol{p}_{k-1}||_{L^2}}{||\\boldsymbol{p}_{k-1}||_{L^2}}\n",
        "\\le 10^{-6}.\n",
        "$$\n",
        "\n",
        "*   Try to solve the problem with different values of Reynolds number ($\\text{Re}=3,30,300,3000$). \n",
        "*   Assess the convergence performance of the iterative method."
      ]
    },
    {
      "cell_type": "code",
      "metadata": {
        "id": "GYXO2_OLHF0m"
      },
      "source": [
        "# 1. mesh generation\n",
        "nx, ny = 20, 20\n",
        "mesh = UnitSquareMesh(nx, ny, 'crossed')\n",
        "\n",
        "# 2. finite element space\n",
        "degree = 1\n",
        "V = VectorElement('CG', mesh.ufl_cell(), degree + 1)\n",
        "Q = FiniteElement('CG', mesh.ufl_cell(), degree)\n",
        "\n",
        "X = FunctionSpace(mesh, MixedElement([V, Q]))\n",
        "\n",
        "u_boundary = Expression((\n",
        "        'near(x[1], 1) ? 1.0 : 0.0',\n",
        "        '0'\n",
        "    ), degree=0)\n",
        "\n",
        "def boundary(x, on_boundary):\n",
        "  return on_boundary\n",
        "\n",
        "def origin(x, on_boundary):\n",
        "  return near(x[0], 0) and near(x[1], 0)\n",
        "\n",
        "bc = [DirichletBC(X.sub(0), u_boundary, boundary),\n",
        "      DirichletBC(X.sub(1), Constant(0), origin, 'pointwise')]"
      ],
      "execution_count": null,
      "outputs": []
    },
    {
      "cell_type": "code",
      "metadata": {
        "id": "S5axLjnUHakI"
      },
      "source": [
        "# 3. problem definition\n",
        "def solve_linear(X, advection, Re, f, bc):\n",
        "  u, p = TrialFunctions(X)\n",
        "  v, q = TestFunctions(X)\n",
        "\n",
        "  a = (inner(grad(u), grad(v)) / Re - p * div(v) + div(u) * q) * dx\n",
        "  L = dot(f, v) * dx\n",
        "  if advection:\n",
        "    a += dot(grad(u) * advection, v) * dx\n",
        "  \n",
        "  x = Function(X)\n",
        "  solve(a == L, x, bc)\n",
        "  \n",
        "  return x.split()"
      ],
      "execution_count": null,
      "outputs": []
    },
    {
      "cell_type": "code",
      "metadata": {
        "id": "Iz_7TrHqHdwo"
      },
      "source": [
        "# 4. solution\n",
        "Re = Constant(3000)\n",
        "f = Constant((0, 0))\n",
        "\n",
        "uh, ph = solve_linear(X, None, Re, f, bc)\n",
        "\n",
        "niter = 100\n",
        "tolerance = 1e-6\n",
        "for i in range(niter):\n",
        "  uh_old, ph_old = uh, ph\n",
        "  uh, ph = solve_linear(X, uh_old, Re, f, bc)\n",
        "  \n",
        "  error = (errornorm(uh, uh_old, 'H1') / norm(uh_old, 'H1') +\n",
        "           errornorm(ph, ph_old, 'L2') / norm(ph_old, 'L2'))\n",
        "  print('step {}: {:.3e}'.format(i, error))\n",
        "  if error < tolerance:\n",
        "    break\n",
        "\n",
        "uh.rename('velocity', 'velocity')\n",
        "ph.rename('pressure', 'pressure')\n",
        "\n",
        "File('velocity.pvd') << uh\n",
        "File('pressure.pvd') << ph"
      ],
      "execution_count": null,
      "outputs": []
    },
    {
      "cell_type": "markdown",
      "metadata": {
        "id": "eQAxkBLPM5zb"
      },
      "source": [
        "### SUPG stabilized FEM"
      ]
    },
    {
      "cell_type": "markdown",
      "metadata": {
        "id": "4NqsQsYBNCkf"
      },
      "source": [
        "We introduce the SUPG stabilization for the solution of the\n",
        "linearized problem. Use the following stabilization parameter\n",
        "$$\n",
        "\\delta_K = \\frac{h_K}{2 ||{\\boldsymbol{u}}||} \\xi(\\mathbb{P}e_K),\n",
        "$$\n",
        " where the local Péclet number is defined as\n",
        "$$\n",
        "\\mathcal{Pe}_K := \\frac{||{\\boldsymbol{u}}||h_K}{2} \\text{Re},\n",
        "$$\n",
        "and $\\xi$ is the *upwind* function\n",
        "$$\n",
        "      \\xi(\\theta) = \\min{(1,\\theta)}.\n",
        "$$\n",
        "Compare the solutions of the previous point with the solutions obtained with the SUPG stabilization."
      ]
    },
    {
      "cell_type": "code",
      "metadata": {
        "id": "xELVmVibMQQa"
      },
      "source": [
        "# 3. problem definition\n",
        "def solve_linear(X, advection, Re, f, bc):\n",
        "  u, p = TrialFunctions(X)\n",
        "  v, q = TestFunctions(X)\n",
        "  \n",
        "  a = (inner(grad(u), grad(v)) / Re - p * div(v) + div(u) * q) * dx\n",
        "  L = dot(f, v) * dx\n",
        "  if advection:\n",
        "    a += dot(grad(u) * advection, v) * dx\n",
        "\n",
        "    A = lambda u, p: -div(grad(u)) / Re + (grad(u) * advection) + grad(p)\n",
        "    A_SS = lambda u, p: (grad(u) * advection) + div(advection) * u / 2 + grad(p)\n",
        "  \n",
        "    h = CellDiameter(X.mesh())\n",
        "    anorm = sqrt(dot(advection, advection))\n",
        "    tau_K = 0.5 * h / conditional(anorm * h * Re > 2, anorm, 2 / h / Re)\n",
        "  \n",
        "    a += tau_K * (dot(A(u, p), A_SS(v, q)) + div(u) * div(v)) * dx\n",
        "    L += tau_K * (dot(f, A_SS(v, q))) * dx\n",
        "  \n",
        "  x = Function(X)\n",
        "  solve(a == L, x, bc)\n",
        "  \n",
        "  return x.split()"
      ],
      "execution_count": null,
      "outputs": []
    },
    {
      "cell_type": "code",
      "metadata": {
        "id": "j1HkhCQDNzTV",
        "colab": {
          "base_uri": "https://localhost:8080/",
          "height": 1000
        },
        "outputId": "2c929713-e980-4fb2-f868-1daf9aef3ce7"
      },
      "source": [
        "# 4. solution\n",
        "Re = Constant(20000)\n",
        "f = Constant((0, 0))\n",
        "\n",
        "uh, ph = solve_linear(X, Constant((0, 0)), Re, f, bc)\n",
        "\n",
        "niter = 100\n",
        "tolerance = 1e-6\n",
        "for i in range(niter):\n",
        "  uh_old, ph_old = uh, ph\n",
        "  uh, ph = solve_linear(X, uh_old, Re, f, bc)\n",
        "  \n",
        "  error = (errornorm(uh, uh_old, 'H1') / norm(uh_old, 'H1') +\n",
        "           errornorm(ph, ph_old, 'L2') / norm(ph_old, 'L2'))\n",
        "  print('step {}: {:.3e}'.format(i, error))\n",
        "  if error < tolerance:\n",
        "    break\n",
        "\n",
        "uh.rename('velocity', 'velocity')\n",
        "ph.rename('pressure', 'pressure')\n",
        "\n",
        "File('velocity_stab.pvd') << uh\n",
        "File('pressure_stab.pvd') << ph"
      ],
      "execution_count": null,
      "outputs": [
        {
          "output_type": "stream",
          "text": [
            "step 0: 2.148e+01\n",
            "step 1: 1.058e+00\n",
            "step 2: 1.286e+00\n",
            "step 3: 1.061e+00\n",
            "step 4: 8.802e-01\n",
            "step 5: 1.490e+00\n",
            "step 6: 8.893e-01\n",
            "step 7: 9.111e-01\n",
            "step 8: 4.157e-01\n",
            "step 9: 5.192e-01\n",
            "step 10: 4.127e-01\n",
            "step 11: 4.274e-01\n",
            "step 12: 3.657e-01\n",
            "step 13: 4.121e-01\n",
            "step 14: 3.375e-01\n",
            "step 15: 3.953e-01\n",
            "step 16: 2.887e-01\n",
            "step 17: 3.503e-01\n",
            "step 18: 2.817e-01\n",
            "step 19: 4.328e-01\n",
            "step 20: 2.520e-01\n",
            "step 21: 5.042e-01\n",
            "step 22: 1.378e-01\n",
            "step 23: 2.766e-01\n",
            "step 24: 4.838e-02\n",
            "step 25: 5.878e-02\n",
            "step 26: 2.189e-02\n",
            "step 27: 3.053e-02\n",
            "step 28: 1.479e-02\n",
            "step 29: 1.703e-02\n",
            "step 30: 8.573e-03\n",
            "step 31: 9.353e-03\n",
            "step 32: 4.490e-03\n",
            "step 33: 4.899e-03\n",
            "step 34: 2.230e-03\n",
            "step 35: 2.458e-03\n",
            "step 36: 1.086e-03\n",
            "step 37: 1.244e-03\n",
            "step 38: 5.508e-04\n",
            "step 39: 6.445e-04\n",
            "step 40: 2.844e-04\n",
            "step 41: 3.374e-04\n",
            "step 42: 1.487e-04\n",
            "step 43: 1.782e-04\n",
            "step 44: 7.831e-05\n",
            "step 45: 9.386e-05\n",
            "step 46: 4.047e-05\n",
            "step 47: 4.900e-05\n",
            "step 48: 2.086e-05\n",
            "step 49: 2.551e-05\n",
            "step 50: 1.061e-05\n",
            "step 51: 1.322e-05\n",
            "step 52: 5.422e-06\n",
            "step 53: 6.878e-06\n",
            "step 54: 2.770e-06\n",
            "step 55: 3.571e-06\n",
            "step 56: 1.421e-06\n",
            "step 57: 1.873e-06\n",
            "step 58: 7.378e-07\n"
          ],
          "name": "stdout"
        }
      ]
    },
    {
      "cell_type": "markdown",
      "metadata": {
        "id": "25rkk78xOFUq"
      },
      "source": [
        "#### **Exercise**: Repeat the exercise using the pair of spaces $\\mathbb{P}^1/\\mathbb{P}^1$."
      ]
    }
  ]
}