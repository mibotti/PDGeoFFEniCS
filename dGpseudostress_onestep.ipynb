{
  "nbformat": 4,
  "nbformat_minor": 0,
  "metadata": {
    "colab": {
      "provenance": []
    },
    "kernelspec": {
      "name": "python3",
      "display_name": "Python 3"
    },
    "language_info": {
      "name": "python"
    }
  },
  "cells": [
    {
      "cell_type": "markdown",
      "source": [
        "# Steady Stokes problem - pseudostress formulation"
      ],
      "metadata": {
        "id": "zVsHm3e6VvUU"
      }
    },
    {
      "cell_type": "markdown",
      "source": [
        "We rewrite the Stokes problem in a different form by introducing the stress $\\boldsymbol{\\sigma}(\\boldsymbol{u},p) = \\mu\\boldsymbol{\\nabla}\\boldsymbol{u} - p\\mathbb{I}_d$ as additional variable. Then, the Stokes system reads\n",
        "\n",
        "$$\n",
        "\\begin{cases}\n",
        "  \\frac{\\partial \\boldsymbol{u}}{\\partial t} \n",
        "  -\\boldsymbol{\\nabla}\\cdot\\boldsymbol{\\sigma} = \\boldsymbol{f}, \n",
        "  \\qquad&\\text{in }\\Omega\\times(0,1), \\\\\n",
        "  \\mu^{-1}{\\rm dev}(\\boldsymbol{\\sigma}) - \\boldsymbol{\\nabla}\\boldsymbol{u} = 0, \n",
        "  \\qquad &\\text{in }\\Omega\\times(0,1), \\\\\n",
        "  \\boldsymbol{u} = \\boldsymbol{u}_D \\;\\; &{\\rm on} \\ \\Gamma_D\\times(0,1), \\\\\n",
        "  \\boldsymbol{\\sigma}\\cdot\\boldsymbol{n} = \\boldsymbol{g}_N\\;\\; \n",
        "  &{\\rm on}\\ \\partial\\Omega\\setminus \\Gamma_D\\times(0,1), \\\\\n",
        "  \\boldsymbol{\\sigma}(\\cdot,t=0) = \\boldsymbol{\\sigma}_0, &\\text{in }\\Omega, \n",
        "\\end{cases}\n",
        "$$\n",
        "\n",
        "where the deviatioric operator is defined such that \n",
        "${\\rm dev}(\\boldsymbol{\\tau}) = \\boldsymbol{\\tau} - \\frac1d {\\rm tr}(\\boldsymbol{\\tau})\\mathbb{I}_d$.\n",
        "Notice that the incompressibility constraint $\\boldsymbol{\\nabla}\\cdot\\boldsymbol{u} = 0$ is enforced through the second equation of the previous system that yields ${\\rm tr}(\\boldsymbol{\\nabla}\\boldsymbol{u}) = \\boldsymbol{\\nabla}\\cdot\\boldsymbol{u} = 0$. \n",
        "\n",
        "We remark that we have also replaced the initial condition on $\\boldsymbol{u}(\\cdot,t=0)$ with a condition on $\\boldsymbol{\\sigma}(\\cdot,t=0)$. This can be done under the assumption that the velocity and pressure solution are sufficiently regular. Finally, we point out that the pressure can be recoverd from the stress according to $p = -\\frac1d {\\rm tr}(\\boldsymbol{\\sigma})$."
      ],
      "metadata": {
        "id": "Ll_Xu8kIWGW8"
      }
    },
    {
      "cell_type": "markdown",
      "source": [
        "Assuming enough regularity of the problem data and solution, we can derive in time the second and third equations and plug the expression of $\\frac{\\partial \\boldsymbol{u}}{\\partial t}$ that we get from the first equation into the second one. Thus, we obtain\n",
        "\n",
        "$$\n",
        "\\begin{cases}\n",
        "  \\mu^{-1}\\frac{\\partial}{\\partial t} {\\rm dev}(\\boldsymbol{\\sigma})\n",
        "  - \\boldsymbol{\\nabla}\\left(\\boldsymbol{\\nabla}\\cdot\\boldsymbol{\\sigma}\\right)=\\boldsymbol{F}, \n",
        "  \\qquad &\\text{in }\\Omega\\times(0,1), \\\\\n",
        "  \\boldsymbol{\\nabla}\\cdot\\boldsymbol{\\sigma}=\\boldsymbol{g}_D \\;\\; &{\\rm on}\\ \\Gamma_D\\times(0,1), \\\\\n",
        "  \\boldsymbol{\\sigma}\\cdot\\boldsymbol{n} = \\boldsymbol{g}_N\\;\\; \n",
        "  &{\\rm on}\\ \\partial\\Omega\\setminus \\Gamma_D\\times(0,1), \\\\\n",
        "  \\boldsymbol{\\sigma}(\\cdot,t=0) = \\boldsymbol{\\sigma}_0, &\\text{in }\\Omega, \n",
        "\\end{cases}\n",
        "$$\n",
        "\n",
        "with $\\boldsymbol{F}= \\boldsymbol{\\nabla}\\boldsymbol{f}$ and $\\boldsymbol{g}_D = \\frac{\\partial\\boldsymbol{u}_D}{\\partial t}-\\boldsymbol{f}$. In this way, we reformulated the problem only in the pseudostress variable $\\boldsymbol{\\sigma}$."
      ],
      "metadata": {
        "id": "02XkYsDNWIat"
      }
    },
    {
      "cell_type": "markdown",
      "source": [
        "For simplicity, we assume that $\\boldsymbol{g}_N=\\boldsymbol{0}$, so that we can define the functional space for the pseudostress tensor field $\\boldsymbol{\\sigma}$ as $$\\boldsymbol{H}_{0,\\Gamma_n}({\\rm div}, \\Omega)^d = \\{\\boldsymbol{\\eta}\\in\\boldsymbol{H}({\\rm div}, \\Omega)^d \\;|\\; \\boldsymbol{\\eta}\\cdot\\boldsymbol{n}=0 \\; \\text{on}\\; \\Gamma_N\\}.$$ \n",
        "\n",
        "Moreover, we assume to solve just one step of the implicit Euler time advancing scheme taking zero as initial condition and timestep $\\delta_t = \\mu^{-1}$.\n",
        "\n",
        "Thus, testing the first equation with $\\boldsymbol{\\tau}\\in \\boldsymbol{H}_{0,\\Gamma_n}({\\rm div}, \\Omega)^d$ and integrating by parts we obtain the following weak formulation:\n",
        "\n",
        "\\begin{align*}\n",
        "\\int_{\\Omega}{\\rm dev}(\\boldsymbol{\\sigma}):{\\rm dev}(\\boldsymbol{\\tau}) \n",
        "+ \\int_{\\Omega} (\\boldsymbol{\\nabla}\\cdot\\boldsymbol{\\sigma}) \\cdot (\\boldsymbol{\\nabla}\\cdot\\boldsymbol{\\tau})\n",
        "\\ {\\rm d} x\n",
        "    &= \\int_{\\Omega} \\boldsymbol{F} : \\boldsymbol{\\tau} \\, {\\rm d} x \n",
        "    + \\int_{\\Gamma_D} \\boldsymbol{g}_D \\cdot \\boldsymbol{\\tau}\\boldsymbol{n} \\, {\\rm d} s, \n",
        "\\end{align*}"
      ],
      "metadata": {
        "id": "NEpuaJqAWXli"
      }
    },
    {
      "cell_type": "code",
      "execution_count": 1,
      "metadata": {
        "id": "B6_hsf-vVs6b"
      },
      "outputs": [],
      "source": [
        "%%capture\n",
        "try:\n",
        "    import dolfin\n",
        "except ImportError:\n",
        "    !wget \"https://fem-on-colab.github.io/releases/fenics-install.sh\" -O \"/tmp/fenics-install.sh\" && bash \"/tmp/fenics-install.sh\"\n",
        "    import dolfin"
      ]
    },
    {
      "cell_type": "code",
      "source": [
        "from fenics import *\n",
        "from mshr import *\n",
        "import matplotlib.pyplot as plt\n",
        "import numpy as np"
      ],
      "metadata": {
        "id": "KFvcWNe0VyUx"
      },
      "execution_count": 2,
      "outputs": []
    },
    {
      "cell_type": "markdown",
      "source": [
        "## Numerical solution with discontinuous Galerkin method in FEniCS"
      ],
      "metadata": {
        "id": "BmjagJngXUmh"
      }
    },
    {
      "cell_type": "code",
      "source": [
        "def dg_psdstress(n, deg, s_exact, f, gD):    \n",
        "    # 1. generate the mesh and mark the boundaries\n",
        "    square = Rectangle(Point(0.0, 0.0), Point(1.0, 1.0))\n",
        "    mesh = generate_mesh(square, n)    \n",
        "    boundary_markers = MeshFunction('size_t', mesh, mesh.geometric_dimension()-1, 0)\n",
        "\n",
        "    class top_boundary(SubDomain):\n",
        "        def inside(self, x, on_boundary):\n",
        "            return on_boundary and near(x[1], 1)\n",
        "\n",
        "    class right_boundary(SubDomain):\n",
        "        def inside(self, x, on_boundary):\n",
        "            return on_boundary and near(x[0], 1)\n",
        "\n",
        "    class other_boundary(SubDomain):\n",
        "        def inside(self, x, on_boundary):\n",
        "            return near(x[0], 0) or near(x[1], 0)\n",
        "\n",
        "    top = top_boundary()\n",
        "    top.mark(boundary_markers, 1)\n",
        "    right = right_boundary()\n",
        "    right.mark(boundary_markers, 2)\n",
        "    other = other_boundary()\n",
        "    other.mark(boundary_markers, 3)\n",
        "    \n",
        "    ds = Measure('ds', domain=mesh, subdomain_data=boundary_markers)\n",
        "\n",
        "    # 2. finite element space\n",
        "    S = TensorFunctionSpace(mesh, 'DG', deg)\n",
        "\n",
        "    # 3. problem definition\n",
        "    s = TrialFunction(S)\n",
        "    r = TestFunction(S)\n",
        "    \n",
        "    n = FacetNormal(mesh)\n",
        "    h = CellDiameter(mesh)\n",
        "    h_avg = (h('+') + h('-'))/2\n",
        "    alpha = 10.1*deg**2\n",
        "\n",
        "    a = inner(dev(s), dev(r)) * dx + dot(div(s), div(r)) * dx  \\\n",
        "      - dot(avg(div(s)), jump(r, n)) * dS - dot(jump(s, n), avg(div(r))) * dS \\\n",
        "      - dot(div(s), dot(r, n)) * ds(3) - dot(dot(s, n), div(r)) * ds(3) \\\n",
        "      + alpha/h_avg * dot(jump(s, n), jump(r, n)) * dS \\\n",
        "      + alpha/h*dot(dot(s, n), dot(r, n)) * ds(3)  \n",
        "\n",
        "    L = inner(f, r) * dx + dot(gD, dot(r, n)) * (ds(1)+ds(2))\n",
        "    \n",
        "    # 4. solution and return errors\n",
        "    s = Function(S)\n",
        "    solve(a == L, s)\n",
        "\n",
        "    eHd = errornorm(s_exact, s, 'Hdiv0')\n",
        "    eL2 = errornorm(s_exact, s, 'L2')\n",
        "    \n",
        "    return eHd, eL2"
      ],
      "metadata": {
        "id": "-dBgg6nTXSFx"
      },
      "execution_count": 20,
      "outputs": []
    },
    {
      "cell_type": "code",
      "source": [
        "s_exact = Expression((\n",
        "    ('x[0]*x[0]', 'x[0]*x[1]'),\n",
        "    ('x[0]*x[1]', 'x[1]*x[1]')\n",
        "), degree=4)\n",
        "\n",
        "f = Expression((\n",
        "        ('(x[0]+x[1])*(x[0]-x[1])/2 - 3.0', 'x[0]*x[1]'),\n",
        "        ('x[0]*x[1]', '(x[0]+x[1])*(x[1]-x[0])/2 - 3.0')\n",
        "               ), degree=2)\n",
        "gD = Expression(('3*x[0]', '3*x[1]'), degree=2)\n",
        "\n",
        "degree = 2\n",
        "for n in [5, 10, 20, 40]:\n",
        "    esHd, esL2 = dg_psdstress(n, degree, s_exact, f, gD)\n",
        "    print('errors: s_Hdiv={:.3e} s_L2={:.3e}'.format(esHd, esL2))"
      ],
      "metadata": {
        "colab": {
          "base_uri": "https://localhost:8080/"
        },
        "id": "DiVrJYwPzlUZ",
        "outputId": "e702bfa9-83ae-468d-f6c6-8f46a0ce2487"
      },
      "execution_count": 22,
      "outputs": [
        {
          "output_type": "stream",
          "name": "stdout",
          "text": [
            "errors: s_Hdiv=6.161e-14 s_L2=1.925e-12\n",
            "errors: s_Hdiv=1.358e-13 s_L2=6.685e-12\n",
            "errors: s_Hdiv=4.936e-13 s_L2=2.562e-11\n",
            "errors: s_Hdiv=1.679e-12 s_L2=9.739e-11\n"
          ]
        }
      ]
    },
    {
      "cell_type": "markdown",
      "source": [
        "## Weakly-symmetric stress variational formulation"
      ],
      "metadata": {
        "id": "mg87Uyxn5Tgg"
      }
    },
    {
      "cell_type": "markdown",
      "source": [
        "We consider the dual formulation of the previous case but as primary variable we consider the physical stress \n",
        "$$\n",
        "\\boldsymbol{\\sigma}_{\\rm phy}(\\boldsymbol{u},p) = \\mu\\boldsymbol{\\nabla}_{\\rm s}\\boldsymbol{u} - p\\mathbb{I}_d\n",
        "= \\boldsymbol{\\sigma} + {\\rm dev} (\\boldsymbol{\\sigma})^T,\n",
        "$$\n",
        "which is a symmetric tensor. The symmetry constraint is enforced weakly in order to ensure the stability of the method without compromising the convergence performance."
      ],
      "metadata": {
        "id": "3nT66ILA5Xqv"
      }
    },
    {
      "cell_type": "code",
      "source": [
        "def dg_wsymstress(n, deg, s_exact, f, gD):    \n",
        "    # 1. generate the mesh and mark the boundaries\n",
        "    square = Rectangle(Point(0.0, 0.0), Point(1.0, 1.0))\n",
        "    mesh = generate_mesh(square, n)    \n",
        "    boundary_markers = MeshFunction('size_t', mesh, mesh.geometric_dimension()-1, 0)\n",
        "\n",
        "    class top_boundary(SubDomain):\n",
        "        def inside(self, x, on_boundary):\n",
        "            return on_boundary and near(x[1], 1)\n",
        "\n",
        "    class right_boundary(SubDomain):\n",
        "        def inside(self, x, on_boundary):\n",
        "            return on_boundary and near(x[0], 1)\n",
        "\n",
        "    class other_boundary(SubDomain):\n",
        "        def inside(self, x, on_boundary):\n",
        "            return near(x[0], 0) or near(x[1], 0)\n",
        "\n",
        "    top = top_boundary()\n",
        "    top.mark(boundary_markers, 1)\n",
        "    right = right_boundary()\n",
        "    right.mark(boundary_markers, 2)\n",
        "    other = other_boundary()\n",
        "    other.mark(boundary_markers, 3)\n",
        "    \n",
        "    ds = Measure('ds', domain=mesh, subdomain_data=boundary_markers)\n",
        "\n",
        "    # 2. finite element space\n",
        "    S = TensorElement('DG', mesh.ufl_cell(), deg)\n",
        "    Q = FiniteElement('DG', mesh.ufl_cell(), deg-1)\n",
        "    X = FunctionSpace(mesh, MixedElement([S, Q]))\n",
        "\n",
        "    # 3. problem definition\n",
        "    s, q = TrialFunctions(X)\n",
        "    r, p = TestFunctions(X)\n",
        "    \n",
        "    n = FacetNormal(mesh)\n",
        "    h = CellDiameter(mesh)\n",
        "    h_avg = (h('+') + h('-'))/2\n",
        "    alpha = 10.1*deg**2\n",
        "\n",
        "    a = inner(dev(s), dev(r)) * dx + dot(div(s), div(r)) * dx  \\\n",
        "      - dot(avg(div(s)), jump(r, n)) * dS - dot(jump(s, n), avg(div(r))) * dS \\\n",
        "      - dot(div(s), dot(r, n)) * ds(3) - dot(dot(s, n), div(r)) * ds(3) \\\n",
        "      + alpha/h_avg * dot(jump(s, n), jump(r, n)) * dS \\\n",
        "      + alpha/h*dot(dot(s, n), dot(r, n)) * ds(3) \\\n",
        "      + (p * (s[0,1] - s[1,0]) + q * (r[0,1] - r[1,0])) * dx\n",
        "\n",
        "    L = inner(f, r) * dx + dot(gD, dot(r, n)) * (ds(1)+ds(2))\n",
        "    \n",
        "    # 4. solution and return errors\n",
        "    x = Function(X)\n",
        "    solve(a == L, x)\n",
        "    s, q = x.split()\n",
        "\n",
        "    eHd = errornorm(s_exact, s, 'Hdiv0')\n",
        "    eL2 = errornorm(s_exact, s, 'L2')\n",
        "    eLq = norm(q, 'L2')\n",
        "    \n",
        "    return eHd, eL2, eLq"
      ],
      "metadata": {
        "id": "lm99U0xt34Pi"
      },
      "execution_count": 15,
      "outputs": []
    },
    {
      "cell_type": "code",
      "source": [
        "s_exact = Expression((\n",
        "    ('x[0]*x[0]', 'x[0]*x[1]'),\n",
        "    ('x[0]*x[1]', 'x[1]*x[1]')\n",
        "), degree=4)\n",
        "\n",
        "f = Expression((\n",
        "        ('(x[0]+x[1])*(x[0]-x[1])/2 - 3.0', 'x[0]*x[1]'),\n",
        "        ('x[0]*x[1]', '(x[0]+x[1])*(x[1]-x[0])/2 - 3.0')\n",
        "               ), degree=2)\n",
        "gD = Expression(('3*x[0]', '3*x[1]'), degree=2)\n",
        "\n",
        "degree = 1\n",
        "for n in [5, 10, 20, 40]:\n",
        "    esHd, esL2, eqL2 = dg_wsymstress(n, degree, s_exact, f, gD)\n",
        "    print('errors: s_Hdiv={:.3e} s_L2={:.3e} q_L2={:.3e}'.format(esHd, esL2, eqL2))"
      ],
      "metadata": {
        "colab": {
          "base_uri": "https://localhost:8080/"
        },
        "id": "YhxkYzu_6erb",
        "outputId": "b9aa12dd-3062-4845-de77-b188038d029e"
      },
      "execution_count": 17,
      "outputs": [
        {
          "output_type": "stream",
          "name": "stdout",
          "text": [
            "errors: s_Hdiv=1.687e-01 s_L2=4.616e-03 q_L2=2.804e-04\n",
            "errors: s_Hdiv=8.150e-02 s_L2=1.086e-03 q_L2=5.524e-05\n",
            "errors: s_Hdiv=4.154e-02 s_L2=2.851e-04 q_L2=1.558e-05\n",
            "errors: s_Hdiv=2.049e-02 s_L2=6.951e-05 q_L2=4.063e-06\n"
          ]
        }
      ]
    },
    {
      "cell_type": "code",
      "source": [],
      "metadata": {
        "id": "qcadrPm864Eq"
      },
      "execution_count": null,
      "outputs": []
    }
  ]
}