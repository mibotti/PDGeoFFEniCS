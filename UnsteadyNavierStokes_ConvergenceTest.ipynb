{
  "nbformat": 4,
  "nbformat_minor": 0,
  "metadata": {
    "colab": {
      "name": "UnsteadyNavierStokes_ConvergenceTest.ipynb",
      "provenance": [],
      "collapsed_sections": []
    },
    "kernelspec": {
      "name": "python3",
      "display_name": "Python 3"
    }
  },
  "cells": [
    {
      "cell_type": "markdown",
      "metadata": {
        "id": "b9XGck1m5dWv"
      },
      "source": [
        "# Unsteady Navier-Stokes problem"
      ]
    },
    {
      "cell_type": "markdown",
      "metadata": {
        "id": "O1xXqea05tb7"
      },
      "source": [
        "We consider the unsteady Navier-Stokes problem defined in the domain $\\Omega := {[0,1]}^2$ by the following system of PDEs and Dirichlet BCs: \n",
        "$$\n",
        "\\begin{cases}\n",
        "  \\frac{\\partial \\boldsymbol{u}}{\\partial t} +\n",
        "  ({\\boldsymbol{u}}\\cdot\\boldsymbol{\\nabla})\\ \\boldsymbol{u}\n",
        "  -\\dfrac{1}{\\text{Re}}\\boldsymbol{\\Delta} \\boldsymbol{u} + \\boldsymbol{\\nabla} p = 0, \n",
        "  \\qquad&\\text{in }\\Omega\\times(0,1), \\\\\n",
        "  \\boldsymbol{\\nabla} \\cdot \\boldsymbol{u} = 0, \n",
        "  \\qquad &\\text{in }\\Omega\\times(0,1), \\\\\n",
        "  \\boldsymbol{u} = \\boldsymbol{g}, &\\text{on }\\partial\\Omega\\times(0,1),\\\\\n",
        "  \\boldsymbol{u}(\\cdot,t=0) = \\boldsymbol{u}_0, &\\text{in }\\Omega. \n",
        "\\end{cases}\n",
        "$$"
      ]
    },
    {
      "cell_type": "markdown",
      "metadata": {
        "id": "4ghpGAs89IZQ"
      },
      "source": [
        "We aim at evaluating the stability and convergence properties of the different time-advancing schemes on an analytical solution. The forcing term $\\boldsymbol{f}$ is given by\n",
        "$$\n",
        "  \\boldsymbol{f} =\n",
        "  \\begin{bmatrix}\n",
        "    -2 \\cos{x}\\sin{y} \\left( \\cos{(2t)} + \\dfrac{1}{\\text{Re}} \\sin{(2t)} \\right) \\\\\n",
        "    2 \\sin{x}\\cos{y} \\left( \\cos{(2t)} + \\dfrac{1}{\\text{Re}} \\sin{(2t)} \\right)\n",
        "  \\end{bmatrix},\n",
        "$$\n",
        "and the corresponding exact solution $(\\boldsymbol{u}_{\\text{ex}}, p_{\\text{ex}})$ is defined by\n",
        "\n",
        "$$\n",
        "  \\boldsymbol{u}_{\\text{ex}} =\n",
        "  \\begin{bmatrix}\n",
        "    - \\cos{x}\\sin{y} \\sin{(2t)} \\\\\n",
        "    \\sin{x}\\cos{y} \\sin{(2t)}\n",
        "  \\end{bmatrix},\n",
        "  \\qquad\n",
        "  p_{\\text{ex}} =\n",
        "  - \\frac{\\cos{(2x)}+\\cos{(2y)}}{4} \\sin^2{(2t)}.\n",
        "$$"
      ]
    },
    {
      "cell_type": "markdown",
      "metadata": {
        "id": "_1IAHwQy-QBw"
      },
      "source": [
        "We consider the following **time discretizations of the convective term**:\n",
        "\n",
        "*   the **backward Euler explicit** scheme for the convective term:\n",
        "$$\n",
        "\\begin{cases}\n",
        "  \\frac{\\boldsymbol{u}_{n+1}-\\boldsymbol{u}_{n}}{\\delta t} \n",
        "  +(\\boldsymbol{u}_{n}\\cdot\\boldsymbol{\\nabla})\\boldsymbol{u}_{n} -\n",
        "  \\frac{1}{\\text{Re}}\\Delta \\boldsymbol{u}_{n+1} \n",
        "  + \\boldsymbol{\\nabla} p_{n+1} =\n",
        "        \\boldsymbol{f}_{n+1},\\\\\n",
        "        \\boldsymbol{\\nabla}\\cdot\\boldsymbol{u}_{n+1} = 0, \\\\\n",
        "        \\boldsymbol{u}_{n+1} = \\boldsymbol{g}_{n+1};\n",
        "      \\end{cases}\n",
        "$$\n",
        "\n",
        "*  the **Euler semi-implicit** scheme:\n",
        "$$\n",
        "\\begin{cases}\n",
        "  \\frac{\\boldsymbol{u}_{n+1}-\\boldsymbol{u}_{n}}{\\delta t} \n",
        "  +(\\boldsymbol{u}_{n}\\cdot\\boldsymbol{\\nabla})\\boldsymbol{u}_{n+1} -\n",
        "  \\frac{1}{\\text{Re}}\\Delta \\boldsymbol{u}_{n+1} \n",
        "  + \\boldsymbol{\\nabla} p_{n+1} =\n",
        "        \\boldsymbol{f}_{n+1},\\\\\n",
        "        \\boldsymbol{\\nabla}\\cdot\\boldsymbol{u}_{n+1} = 0, \\\\\n",
        "        \\boldsymbol{u}_{n+1} = \\boldsymbol{g}_{n+1}.\n",
        "      \\end{cases}\n",
        "$$"
      ]
    },
    {
      "cell_type": "markdown",
      "metadata": {
        "id": "TXvkGWw39CRV"
      },
      "source": [
        "## Numerical solution with FEniCS"
      ]
    },
    {
      "cell_type": "code",
      "metadata": {
        "id": "eC5R9QJL5xck"
      },
      "source": [
        "%%capture\n",
        "try:\n",
        "    import dolfin\n",
        "except ImportError:\n",
        "    !wget \"https://fem-on-colab.github.io/releases/fenics-install.sh\" -O \"/tmp/fenics-install.sh\" && bash \"/tmp/fenics-install.sh\"\n",
        "    import dolfin"
      ],
      "execution_count": null,
      "outputs": []
    },
    {
      "cell_type": "code",
      "metadata": {
        "id": "eVuEw0UY1dt1"
      },
      "source": [
        "from fenics import *\n",
        "from mshr import *\n",
        "import matplotlib.pyplot as plt\n",
        "import numpy as np"
      ],
      "execution_count": null,
      "outputs": []
    },
    {
      "cell_type": "markdown",
      "metadata": {
        "id": "o6DCxXICBA96"
      },
      "source": [
        "*   Study the stability of each method solving the problem with a decreasing time step ($\\delta t =\\frac{1}{2},\\,\\frac{1}{4},\\,\\frac{1}{8},\\,\\frac{1}{16}$) and an increasing number of subdivisions for the space discretization ($n=4,\\,8,\\,16, \\,32$);\n",
        "*   Verify numerically the convergence rates for each method, using a uniform mesh ($n=10$) and solving the problem with a decreasing time step ($\\Delta t = \\frac{1}{10},\\,\\frac{1}{20},\\,\\frac{1}{40},\\,\\frac{1}{80},\\,\\frac{1}{160}$).\n",
        "\n",
        "*   Compute the error for the velocity and the pressure using the norm of the spaces $L^\\infty(0,1,H^1(\\Omega))$ and $L^\\infty(0,1,L^2(\\Omega))$, respectively."
      ]
    },
    {
      "cell_type": "code",
      "metadata": {
        "id": "dom3K7uC5Z19"
      },
      "source": [
        "# 1. mesh generation\n",
        "n = 10\n",
        "dt = 1/40\n",
        "mesh = UnitSquareMesh(n, n, 'crossed')\n",
        "\n",
        "# 2. finite element spaces\n",
        "V = VectorElement('CG', mesh.ufl_cell(), 2)\n",
        "Q = FiniteElement('CG', mesh.ufl_cell(), 1)\n",
        "X = FunctionSpace(mesh, V*Q)\n",
        "\n",
        "u_exact = Expression((\n",
        "    '- cos(x[0]) * sin(x[1]) * sin(2 * t)',\n",
        "    'sin(x[0]) * cos(x[1]) * sin(2 * t)'\n",
        "), degree=2, t=0.0)\n",
        "p_exact = Expression(\n",
        "    '-0.25 * (cos(2*x[0]) + cos(2*x[1])) * sin(2 * t) * sin(2 * t)',\n",
        "    degree=2, t=0.0)\n",
        "\n",
        "Re = Constant(1)\n",
        "f = Expression((\n",
        "    '-2 * cos(x[0]) * sin(x[1]) * (cos(2 * t) + sin(2 * t) / Re)',\n",
        "    '2 * sin(x[0]) * cos(x[1]) * (cos(2 * t) + sin(2 * t) / Re)'\n",
        "), degree=2, t=0.0, Re=Re)\n",
        "\n",
        "def boundary(x, on_boundary):\n",
        "  return on_boundary\n",
        "\n",
        "def origin(x, on_boundary):\n",
        "  return near(x[0], 0) and near(x[1], 0)\n",
        "\n",
        "bc = [DirichletBC(X.sub(0), u_exact, boundary),\n",
        "      DirichletBC(X.sub(1), p_exact, origin, 'pointwise')]\n",
        "\n",
        "# 3. problem definition\n",
        "u, p = TrialFunctions(X)\n",
        "v, q = TestFunctions(X)\n",
        "\n",
        "x_old = Function(X)\n",
        "u_old, p_old = split(x_old)"
      ],
      "execution_count": null,
      "outputs": []
    },
    {
      "cell_type": "markdown",
      "metadata": {
        "id": "V5V-gVI57gpC"
      },
      "source": [
        "The **backward Euler** time scheme corresponds to the following discrete formulation:"
      ]
    },
    {
      "cell_type": "code",
      "metadata": {
        "id": "Tjo4UgMb6yna"
      },
      "source": [
        "# backward Euler explicit discretization of convective term\n",
        "a = (dot(u, v) / Constant(dt) + inner(grad(u), grad(v)) / Re - p * div(v) - div(u) * q) * dx\n",
        "L = (dot(u_old, v) / Constant(dt) - dot(grad(u_old) * u_old, v) + dot(f, v)) * dx"
      ],
      "execution_count": null,
      "outputs": []
    },
    {
      "cell_type": "markdown",
      "metadata": {
        "id": "lgdKaexd7v46"
      },
      "source": [
        "The **Euler semi-implicit** scheme corresponds to  "
      ]
    },
    {
      "cell_type": "code",
      "metadata": {
        "id": "U4IqR5Kt7ulO"
      },
      "source": [
        "# backward Euler semi-implicit discretization of convective term\n",
        "a = (dot(u, v) / Constant(dt) + dot(grad(u)*u_old, v) + inner(grad(u), grad(v))/Re - p * div(v) - div(u) * q) * dx\n",
        "L = (dot(u_old, v) / Constant(dt) + dot(f, v)) * dx"
      ],
      "execution_count": null,
      "outputs": []
    },
    {
      "cell_type": "markdown",
      "metadata": {
        "id": "1B7Bl0zBrsbH"
      },
      "source": [
        "Another alternative is the **Euler semi-explicit** method, that has a strict requirement on the time step to ensure stability. It corresponds to"
      ]
    },
    {
      "cell_type": "code",
      "metadata": {
        "id": "BEj9RA5Jqfod"
      },
      "source": [
        "# backward Euler semi-explicit scheme (unstable)\n",
        "#a = (dot(u, v) / Constant(dt) - p * div(v) - div(u) * q) * dx\n",
        "#L = (dot(u_old, v) / Constant(dt) - inner(grad(u_old), grad(v)) / Re - dot(grad(u_old) * u_old, v) + dot(f, v)) * dx"
      ],
      "execution_count": null,
      "outputs": []
    },
    {
      "cell_type": "code",
      "metadata": {
        "id": "i8Izl_pp5jMP",
        "colab": {
          "base_uri": "https://localhost:8080/"
        },
        "outputId": "cc6b7ad7-8b0d-42cb-ec7a-01782c7571f5"
      },
      "source": [
        "# 4. solution\n",
        "x = Function(X)\n",
        "x_exact = Expression(('u[0]', 'u[1]', 'p'), degree=2, u=u_exact, p=p_exact)\n",
        "\n",
        "# we compute the interpolate to initialize the advance in time\n",
        "x.interpolate(x_exact)\n",
        "\n",
        "time = 0.0\n",
        "max_eH1 = 0.0\n",
        "max_eL2 = 0.0\n",
        "\n",
        "while time < 1.0:\n",
        "  time += dt\n",
        "  f.t = time\n",
        "  u_exact.t = time\n",
        "  p_exact.t = time\n",
        "\n",
        "  x_old.assign(x)\n",
        "  solve(a == L, x, bc)\n",
        "  \n",
        "  u, p = x.split()\n",
        "  eH1 = errornorm(u_exact, u, 'H1')\n",
        "  eL2 = errornorm(p_exact, p, 'L2')\n",
        "  #print('time={:.2} eH1={:.3e} eL2={:.3e}'.format(time, eH1, eL2))\n",
        "  \n",
        "  max_eH1 = max(max_eH1, eH1)\n",
        "  max_eL2 = max(max_eL2, eL2)\n",
        "\n",
        "print('error eH1={:.3e} eL2={:.3e}'.format(max_eH1, max_eL2))"
      ],
      "execution_count": null,
      "outputs": [
        {
          "output_type": "stream",
          "text": [
            "error eH1=1.531e-03 eL2=1.650e-02\n"
          ],
          "name": "stdout"
        }
      ]
    },
    {
      "cell_type": "markdown",
      "metadata": {
        "id": "vzLjRPOjDOMi"
      },
      "source": [
        "### Solution with the fully-implicit Euler method"
      ]
    },
    {
      "cell_type": "markdown",
      "metadata": {
        "id": "hPW_TPp_DYhH"
      },
      "source": [
        "Each time-step of the **implicit Euler** scheme corresponds to the nonlinear problem\n",
        "\n",
        "$$\n",
        "\\begin{cases}\n",
        "  \\frac{\\boldsymbol{u}_{n+1}-\\boldsymbol{u}_{n}}{\\delta t} \n",
        "  +(\\boldsymbol{u}_{n+1}\\cdot\\boldsymbol{\\nabla})\\boldsymbol{u}_{n+1} -\n",
        "  \\frac{1}{\\text{Re}}\\Delta \\boldsymbol{u}_{n+1} \n",
        "  + \\boldsymbol{\\nabla} p_{n+1} =\n",
        "        \\boldsymbol{f}_{n+1},\\\\\n",
        "        \\boldsymbol{\\nabla}\\cdot\\boldsymbol{u}_{n+1} = 0, \\\\\n",
        "        \\boldsymbol{u}_{n+1} = \\boldsymbol{g}_{n+1}.\n",
        "      \\end{cases}\n",
        "$$\n",
        "\n",
        "Therefore, a linearization scheme is required for computing the approximating solution. In what follows we consider the **Newton method**."
      ]
    },
    {
      "cell_type": "code",
      "metadata": {
        "id": "0qphQOjR8J8h"
      },
      "source": [
        "def solve_linear(x, advection, Re, dt, f, u_old, bc):\n",
        "  u, p = TrialFunctions(X)\n",
        "  v, q = TestFunctions(X)\n",
        "\n",
        "  a = (dot(u, v)/Constant(dt) + inner(grad(u), grad(v))/Re - p * div(v) - div(u) * q) * dx\n",
        "  a += (dot(grad(u) * advection, v) + dot(grad(advection) * u, v)) * dx\n",
        "  L = (dot(u_old, v)/Constant(dt) + dot(f, v)) * dx\n",
        "  L += dot(grad(advection) * advection, v) * dx\n",
        "  \n",
        "  x = Function(X)\n",
        "  solve(a == L, x, bc)\n",
        "  return x.split()"
      ],
      "execution_count": null,
      "outputs": []
    },
    {
      "cell_type": "code",
      "metadata": {
        "id": "75B6LsNQFUlu",
        "colab": {
          "base_uri": "https://localhost:8080/"
        },
        "outputId": "5e2122e5-b992-4e93-fbc7-5c73fd59e342"
      },
      "source": [
        "# 0. problem data\n",
        "dt = 1/10\n",
        "n = 10\n",
        "Re = Constant(1)\n",
        "\n",
        "u_exact = Expression((\n",
        "    '- cos(x[0]) * sin(x[1]) * sin(2 * t)',\n",
        "    'sin(x[0]) * cos(x[1]) * sin(2 * t)'\n",
        "), degree=2, t=0.0)\n",
        "p_exact = Expression(\n",
        "    '-0.25 * (cos(2*x[0]) + cos(2*x[1])) * sin(2 * t) * sin(2 * t)',\n",
        "    degree=2, t=0.0)\n",
        "\n",
        "f = Expression((\n",
        "    '-2 * cos(x[0]) * sin(x[1]) * (cos(2 * t) + sin(2 * t) / Re)',\n",
        "    '2 * sin(x[0]) * cos(x[1]) * (cos(2 * t) + sin(2 * t) / Re)'\n",
        "), degree=2, t=0.0, Re=Re)\n",
        "\n",
        "# 1. mesh generation\n",
        "mesh = UnitSquareMesh(n, n, 'crossed')\n",
        "\n",
        "# 2. finite element spaces\n",
        "V = VectorElement('CG', mesh.ufl_cell(), 2)\n",
        "Q = FiniteElement('CG', mesh.ufl_cell(), 1)\n",
        "X = FunctionSpace(mesh, V*Q)\n",
        "\n",
        "def boundary(x, on_boundary):\n",
        "  return on_boundary\n",
        "\n",
        "def origin(x, on_boundary):\n",
        "  return near(x[0], 0) and near(x[1], 0)\n",
        "\n",
        "bc = [DirichletBC(X.sub(0), u_exact, boundary),\n",
        "      DirichletBC(X.sub(1), p_exact, origin, 'pointwise')]\n",
        "\n",
        "# 3. problem definition\n",
        "u, p = TrialFunctions(X)\n",
        "v, q = TestFunctions(X)\n",
        "\n",
        "# 4. solution\n",
        "x = Function(X)\n",
        "x_exact = Expression(('u[0]', 'u[1]', 'p'), degree=2, u=u_exact, p=p_exact)\n",
        "x.interpolate(x_exact)\n",
        "u_old, p_old = x.split() \n",
        "\n",
        "time = 0.0\n",
        "max_eH1 = 0.0\n",
        "max_eL2 = 0.0\n",
        "\n",
        "niter = 20\n",
        "tolerance = 1e-8\n",
        "\n",
        "while time < 1.0:\n",
        "  time += dt\n",
        "  f.t = time\n",
        "  u_exact.t = time\n",
        "  p_exact.t = time\n",
        "  \n",
        "  # as initial guess we take the solution at the previous time step\n",
        "  uh_old, ph_old = u_old, p_old\n",
        "  \n",
        "  for i in range(niter):\n",
        "    uh, ph = solve_linear(X, uh_old, Re, dt, f, u_old, bc)\n",
        "  \n",
        "    error = (errornorm(uh, uh_old, 'H1') / norm(uh, 'H1') +\n",
        "             errornorm(ph, ph_old, 'L2') / norm(ph, 'L2'))\n",
        "    #print('time={:.2} - step={}: {:.3e}'.format(time, i, error))\n",
        "    uh_old, ph_old = uh, ph\n",
        "    if error < tolerance:\n",
        "      break\n",
        "  \n",
        "  eH1 = errornorm(u_exact, uh, 'H1')\n",
        "  eL2 = errornorm(p_exact, ph, 'L2')\n",
        "  print('time={:.2} eH1={:.3e} eL2={:.3e}'.format(time, eH1, eL2))\n",
        "  \n",
        "  max_eH1 = max(max_eH1, eH1)\n",
        "  max_eL2 = max(max_eL2, eL2)\n",
        "  u_old, p_old = uh, ph\n",
        "\n",
        "# 5. compute and print errors\n",
        "print()\n",
        "print('error eH1={:.3e} eL2={:.3e}'.format(max_eH1, max_eL2))"
      ],
      "execution_count": null,
      "outputs": [
        {
          "output_type": "stream",
          "text": [
            "Calling FFC just-in-time (JIT) compiler, this may take some time.\n",
            "Calling FFC just-in-time (JIT) compiler, this may take some time.\n",
            "Calling FFC just-in-time (JIT) compiler, this may take some time.\n",
            "Calling FFC just-in-time (JIT) compiler, this may take some time.\n",
            "Calling FFC just-in-time (JIT) compiler, this may take some time.\n",
            "Calling FFC just-in-time (JIT) compiler, this may take some time.\n",
            "Calling FFC just-in-time (JIT) compiler, this may take some time.\n",
            "time=0.1 eH1=6.772e-04 eL2=4.403e-03\n",
            "time=0.2 eH1=1.758e-03 eL2=1.084e-02\n",
            "time=0.3 eH1=2.833e-03 eL2=1.686e-02\n",
            "time=0.4 eH1=3.805e-03 eL2=2.220e-02\n",
            "time=0.5 eH1=4.626e-03 eL2=2.666e-02\n",
            "time=0.6 eH1=5.264e-03 eL2=3.006e-02\n",
            "time=0.7 eH1=5.691e-03 eL2=3.225e-02\n",
            "time=0.8 eH1=5.892e-03 eL2=3.317e-02\n",
            "time=0.9 eH1=5.858e-03 eL2=3.275e-02\n",
            "time=1.0 eH1=5.591e-03 eL2=3.104e-02\n",
            "time=1.1 eH1=5.100e-03 eL2=2.808e-02\n",
            "\n",
            "error eH1=5.892e-03 eL2=3.317e-02\n"
          ],
          "name": "stdout"
        }
      ]
    },
    {
      "cell_type": "markdown",
      "metadata": {
        "id": "QSekDIHBIO5H"
      },
      "source": [
        "### Results"
      ]
    },
    {
      "cell_type": "markdown",
      "metadata": {
        "id": "iHgxv3ahIRj7"
      },
      "source": [
        "\n",
        "\n",
        "Space-time convergence results:"
      ]
    },
    {
      "cell_type": "markdown",
      "metadata": {
        "id": "Fir5Q39iIYdJ"
      },
      "source": [
        "$$\n",
        "\\begin{array}{ccccc}\n",
        "& (n_t, n_x=n_y) & (2, 4) & (4, 8)  & (8, 16) & (16, 32) \\\\\n",
        "explicit & L^2-\\rm{error} &2.44\\cdot 10^{-1}& 1.62\\cdot 10^{-1} & 8.35\\cdot 10^{-2} & 4.22\\cdot 10^{-2}\\\\\n",
        "explicit & H^1-\\rm{error} &2.84\\cdot 10^{-2}& 1.42\\cdot 10^{-2} & 7.35\\cdot 10^{-3} & 3.69\\cdot 10^{-3} \\\\\n",
        "& & & & \\\\\n",
        "& (n_t, n_x=n_y) & (2, 4) & (4, 8)  & (8, 16) & (16, 32) \\\\\n",
        "semi-implicit & L^2-\\rm{error} &2.44\\cdot 10^{-1}& 1.13\\cdot 10^{-1} & 5.37\\cdot 10^{-2} & 2.60\\cdot 10^{-2} \\\\\n",
        "semi-implicit & H^1-\\rm{error} &2.84\\cdot 10^{-2}& 1.42\\cdot 10^{-2} & 7.34\\cdot 10^{-3} & 3.69\\cdot 10^{-3} \\\\\n",
        "& & & & \\\\\n",
        "& (n_t, n_x=n_y) & (2, 4) & (4, 8)  & (8, 16) & (16, 32) \\\\\n",
        "implicit & L^2-\\rm{error} & & & & 2.07\\cdot 10^{-2} \\\\\n",
        "implicit & H^1-\\rm{error} & & & & 3.69\\cdot 10^{-3} \\\\\n",
        "\\end{array}\n",
        "$$"
      ]
    },
    {
      "cell_type": "markdown",
      "metadata": {
        "id": "utPAMxZ5RsPr"
      },
      "source": [
        "Convergence in time (with fixed $n_x=n_y=10$): "
      ]
    },
    {
      "cell_type": "markdown",
      "metadata": {
        "id": "801cPA7cRycf"
      },
      "source": [
        "$$\n",
        "\\begin{array}{ccccc}\n",
        "& n_t & 10 & 20 & 40 & 80 & 160 \\\\\n",
        "explicit & L^2-\\rm{error} &6.63\\cdot 10^{-2}& 3.34\\cdot 10^{-2} & 1.65\\cdot 10^{-2} & 8.05\\cdot 10^{-3} & 4.16\\cdot 10^{-3}\\\\\n",
        "explicit & H^1-\\rm{error} &5.89\\cdot 10^{-3}& 2.98\\cdot 10^{-3} & 1.53\\cdot 10^{-3} & 8.40\\cdot 10^{-4} & 5.44\\cdot 10^{-4} \\\\\n",
        "& & & & \\\\\n",
        "& n_t & 10 & 20 & 40 & 80 & 160 \\\\\n",
        "semi-implicit & L^2-\\rm{error} &4.22\\cdot 10^{-2}& 2.03\\cdot 10^{-2} & 9.85\\cdot 10^{-3} & 5.26\\cdot 10^{-3} & 2.91\\cdot 10^{-3}\\\\\n",
        "semi-implicit & H^1-\\rm{error} &5.89\\cdot 10^{-3}& 2.98\\cdot 10^{-3} & 1.53\\cdot 10^{-3} & 8.40\\cdot 10^{-4} & 5.44\\cdot 10^{-4} \\\\\n",
        "& & & & \\\\\n",
        "& n_t & 10 & 20 & 40 & 80 & 160 \\\\\n",
        "implicit & L^2-\\rm{error} & & & & 4.26\\cdot 10^{-3} & 2.30\\cdot 10^{-3}\\\\\n",
        "implicit & H^1-\\rm{error} & & & & 8.40\\cdot 10^{-4} & 5.44\\cdot 10^{-4}\\\\\n",
        "\\end{array}\n",
        "$$"
      ]
    },
    {
      "cell_type": "code",
      "metadata": {
        "id": "QLPN7R57Io-F"
      },
      "source": [
        "def solver_explicit(n, dt, u_exact, p_exact, f, Re):\n",
        "  mesh = UnitSquareMesh(n, n, 'crossed')\n",
        "\n",
        "  V = VectorElement('CG', mesh.ufl_cell(), 2)\n",
        "  Q = FiniteElement('CG', mesh.ufl_cell(), 1)\n",
        "  X = FunctionSpace(mesh, V*Q)\n",
        "\n",
        "  def boundary(x, on_boundary):\n",
        "    return on_boundary\n",
        "\n",
        "  def origin(x, on_boundary):\n",
        "    return near(x[0], 0.0) and near(x[1], 0.0)\n",
        "\n",
        "  bc = [DirichletBC(X.sub(0), u_exact, boundary),\n",
        "        DirichletBC(X.sub(1), p_exact, origin, 'pointwise')]\n",
        "\n",
        "  u, p = TrialFunctions(X)\n",
        "  v, q = TestFunctions(X)\n",
        "\n",
        "  x_old = Function(X)\n",
        "  u_old, p_old = split(x_old)\n",
        "\n",
        "  a = (dot(u, v)/Constant(dt) + inner(grad(u), grad(v))/Re - p*div(v) - div(u)*q)*dx\n",
        "  L = (dot(u_old, v)/Constant(dt) + dot(f, v) - dot(grad(u_old)*u_old, v))*dx\n",
        "\n",
        "  #x_exact = Expression(('u[0]', 'u[1]', 'p'), degree=2, u=u_exact, p=p_exact)\n",
        "  #x.interpolate(x_exact)\n",
        "\n",
        "  x = Function(X)\n",
        "  t = 0.0\n",
        "  errH1 = 0.0\n",
        "  errL2 = 0.0\n",
        "\n",
        "  while t<1.0:\n",
        "\n",
        "    t += dt\n",
        "    f.time = t\n",
        "    u_exact.time = t\n",
        "    p_exact.time = t\n",
        "\n",
        "    x_old.assign(x)\n",
        "    solve(a==L, x, bc)\n",
        "    u, p = x.split()\n",
        "\n",
        "    errH1 = max(errH1, errornorm(u_exact, u, 'H1'))\n",
        "    errL2 = max(errL2, errornorm(p_exact, p, 'L2'))\n",
        "\n",
        "  return errH1, errL2"
      ],
      "execution_count": null,
      "outputs": []
    },
    {
      "cell_type": "code",
      "metadata": {
        "id": "MI2RWOSW-YRk"
      },
      "source": [
        "def solver_semimplicit(n, dt, u_exact, p_exact, f, Re):\n",
        "  mesh = UnitSquareMesh(n, n, 'crossed')\n",
        "\n",
        "  V = VectorElement('CG', mesh.ufl_cell(), 2)\n",
        "  Q = FiniteElement('CG', mesh.ufl_cell(), 1)\n",
        "  X = FunctionSpace(mesh, V*Q)\n",
        "\n",
        "  def boundary(x, on_boundary):\n",
        "    return on_boundary\n",
        "\n",
        "  def origin(x, on_boundary):\n",
        "    return near(x[0], 0.0) and near(x[1], 0.0)\n",
        "\n",
        "  bc = [DirichletBC(X.sub(0), u_exact, boundary),\n",
        "        DirichletBC(X.sub(1), p_exact, origin, 'pointwise')]\n",
        "\n",
        "  u, p = TrialFunctions(X)\n",
        "  v, q = TestFunctions(X)\n",
        "\n",
        "  x_old = Function(X)\n",
        "  u_old, p_old = split(x_old)\n",
        "\n",
        "  a = (dot(u, v)/Constant(dt) + dot(grad(u)*u_old, v) + inner(grad(u), grad(v))/Re - p*div(v) - div(u)*q)*dx\n",
        "  L = (dot(u_old, v)/Constant(dt) + dot(f, v))*dx\n",
        "\n",
        "  #x_exact = Expression(('u[0]', 'u[1]', 'p'), degree=2, u=u_exact, p=p_exact)\n",
        "  #x.interpolate(x_exact)\n",
        "\n",
        "  x = Function(X)\n",
        "  t = 0.0\n",
        "  errH1 = 0.0\n",
        "  errL2 = 0.0\n",
        "\n",
        "  while t<1.0:\n",
        "\n",
        "    t += dt\n",
        "    f.time = t\n",
        "    u_exact.time = t\n",
        "    p_exact.time = t\n",
        "\n",
        "    x_old.assign(x)\n",
        "    solve(a==L, x, bc)\n",
        "    u, p = x.split()\n",
        "\n",
        "    errH1 = max(errH1, errornorm(u_exact, u, 'H1'))\n",
        "    errL2 = max(errL2, errornorm(p_exact, p, 'L2'))\n",
        "\n",
        "  return errH1, errL2"
      ],
      "execution_count": null,
      "outputs": []
    },
    {
      "cell_type": "code",
      "metadata": {
        "colab": {
          "base_uri": "https://localhost:8080/"
        },
        "id": "BTFffRUp438K",
        "outputId": "481b29b2-2bab-4d6c-c509-9fa715123662"
      },
      "source": [
        "Re = Constant(1)\n",
        "\n",
        "u_exact = Expression(('-cos(x[0])*sin(x[1])*sin(2*time)', \n",
        "                      'sin(x[0])*cos(x[1])*sin(2*time)'), time=0.0, degree=2)\n",
        "\n",
        "p_exact = Expression('-0.25*(cos(2*x[0])+cos(2*x[1]))*sin(2*time)*sin(2*time)', time=0.0, degree=2)\n",
        "\n",
        "# PAY ATTENTION: Below there's a * that should be a +\n",
        "#p_exact = Expression('-0.25*(cos(2*x[0])*cos(2*x[1]))*sin(2*time)*sin(2*time)', time=0.0, degree=2)\n",
        "\n",
        "f = Expression(('-2*cos(x[0])*sin(x[1])*(cos(2*time)+sin(2*time)/Re)',\n",
        "                '2*sin(x[0])*cos(x[1])*(cos(2*time)+sin(2*time)/Re)'), time=0.0, Re=Re, degree=2)\n",
        "\n",
        "for i in range(5):\n",
        "  dt = 1/(10*(2**i))\n",
        "  n = 10\n",
        "\n",
        "  errH1, errL2 = solver_explicit(n, dt, u_exact, p_exact, f, Re)\n",
        "  #errH1, errL2 = solver_semimplicit(n, dt, u_exact, p_exact, f, Re)\n",
        "  print('dt={} errH1={:.3e} errL2={:.3e}'.format(dt, errH1, errL2))"
      ],
      "execution_count": null,
      "outputs": [
        {
          "output_type": "stream",
          "text": [
            "dt=0.1 errH1=5.892e-03 errL2=4.216e-02\n",
            "dt=0.05 errH1=2.979e-03 errL2=2.034e-02\n",
            "dt=0.025 errH1=1.531e-03 errL2=9.854e-03\n",
            "dt=0.0125 errH1=8.404e-04 errL2=5.265e-03\n",
            "dt=0.00625 errH1=5.441e-04 errL2=2.913e-03\n"
          ],
          "name": "stdout"
        }
      ]
    },
    {
      "cell_type": "code",
      "metadata": {
        "id": "gpwggV8VnvNy"
      },
      "source": [
        "def solver_implicit():"
      ],
      "execution_count": null,
      "outputs": []
    },
    {
      "cell_type": "code",
      "metadata": {
        "colab": {
          "base_uri": "https://localhost:8080/"
        },
        "id": "VDUD_8h7wS3E",
        "outputId": "deba497f-a493-448e-85b6-27ef1a75b195"
      },
      "source": [
        "dt = 1/20\n",
        "n = 10\n",
        "mesh = UnitSquareMesh(n, n, 'crossed')\n",
        "\n",
        "V = VectorElement('CG', mesh.ufl_cell(), 2)\n",
        "Q = FiniteElement('CG', mesh.ufl_cell(), 1)\n",
        "X = FunctionSpace(mesh, V*Q)\n",
        "\n",
        "def boundary(x, on_boundary):\n",
        "  return on_boundary\n",
        "\n",
        "def origin(x, on_boundary):\n",
        "  return near(x[0], 0.0) and near(x[1], 0.0)\n",
        "\n",
        "bc = [DirichletBC(X.sub(0), u_exact, boundary),\n",
        "        DirichletBC(X.sub(1), p_exact, origin, 'pointwise')]\n",
        "\n",
        "u, p = TrialFunctions(X)\n",
        "v, q = TestFunctions(X)\n",
        "\n",
        "x = Function(X)\n",
        "x_old = Function(X)\n",
        "u_old, p_old = split(x_old)\n",
        "\n",
        "a = (dot(u, v)/Constant(dt) + inner(grad(u), grad(v))/Re - p*div(v) + div(u)*q)*dx\n",
        "L = (dot(u_old, v)/Constant(dt) + dot(f, v) - dot(grad(u_old)*u_old, v))*dx\n",
        "\n",
        "x_exact = Expression(('u[0]', 'u[1]', 'p'), degree=2, u=u_exact, p=p_exact)\n",
        "x.interpolate(x_exact)\n",
        "\n",
        "t = 0.0\n",
        "\n",
        "errH1 = 0.0\n",
        "errL2 = 0.0\n",
        "\n",
        "while t<1.0:\n",
        "\n",
        "  t += dt\n",
        "\n",
        "  f.time = t\n",
        "  u_exact.time = t\n",
        "  p_exact.time = t\n",
        "\n",
        "  x_old.assign(x)\n",
        "\n",
        "  solve(a==L, x, bc)\n",
        "  u, p = x.split()\n",
        "\n",
        "  eH1 = errornorm(u_exact, u, 'H1')\n",
        "  eL2 = errornorm(p_exact, p, 'L2')\n",
        "  print('t={:.2} eH1={:.3e} eL2={:.3e}'.format(t, eH1, eL2))"
      ],
      "execution_count": null,
      "outputs": [
        {
          "output_type": "stream",
          "text": [
            "t=0.05 eH1=4.018e-01 eL2=3.002e+00\n",
            "t=0.1 eH1=1.010e-01 eL2=2.750e-02\n",
            "t=0.15 eH1=2.705e-02 eL2=1.025e-02\n",
            "t=0.2 eH1=6.753e-03 eL2=1.163e-02\n",
            "t=0.25 eH1=1.084e-03 eL2=1.607e-02\n",
            "t=0.3 eH1=1.009e-03 eL2=2.258e-02\n",
            "t=0.35 eH1=1.618e-03 eL2=3.121e-02\n",
            "t=0.4 eH1=1.955e-03 eL2=4.157e-02\n",
            "t=0.45 eH1=2.195e-03 eL2=5.315e-02\n",
            "t=0.5 eH1=2.392e-03 eL2=6.540e-02\n",
            "t=0.55 eH1=2.560e-03 eL2=7.778e-02\n",
            "t=0.6 eH1=2.700e-03 eL2=8.976e-02\n",
            "t=0.65 eH1=2.813e-03 eL2=1.008e-01\n",
            "t=0.7 eH1=2.897e-03 eL2=1.105e-01\n",
            "t=0.75 eH1=2.953e-03 eL2=1.184e-01\n",
            "t=0.8 eH1=2.979e-03 eL2=1.243e-01\n",
            "t=0.85 eH1=2.975e-03 eL2=1.277e-01\n",
            "t=0.9 eH1=2.942e-03 eL2=1.287e-01\n",
            "t=0.95 eH1=2.879e-03 eL2=1.271e-01\n",
            "t=1.0 eH1=2.787e-03 eL2=1.231e-01\n"
          ],
          "name": "stdout"
        }
      ]
    }
  ]
}