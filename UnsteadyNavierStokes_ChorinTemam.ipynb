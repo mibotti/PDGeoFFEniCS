{
  "nbformat": 4,
  "nbformat_minor": 0,
  "metadata": {
    "colab": {
      "name": "Lab12_Ex3.ipynb",
      "provenance": [],
      "collapsed_sections": []
    },
    "kernelspec": {
      "name": "python3",
      "display_name": "Python 3"
    }
  },
  "cells": [
    {
      "cell_type": "markdown",
      "metadata": {
        "id": "msimV__28mXp"
      },
      "source": [
        "# Incompressible flow with obstacle and large Reynolds number"
      ]
    },
    {
      "cell_type": "markdown",
      "metadata": {
        "id": "qzJkK0aG8rZ3"
      },
      "source": [
        "We consider the unsteady Navier-Stokes problem defined by the following set of differential equations: \n",
        "\n",
        "$$\n",
        "\\begin{cases}\n",
        "  \\frac{\\partial \\boldsymbol{u}}{\\partial t} +\n",
        "  ({\\boldsymbol{u}}\\cdot\\boldsymbol{\\nabla})\\ \\boldsymbol{u}\n",
        "  -\\dfrac{1}{\\text{Re}}\\boldsymbol{\\Delta} \\boldsymbol{u} + \\boldsymbol{\\nabla} p = 0, \n",
        "  \\qquad&\\text{in }\\Omega\\times I, \\\\\n",
        "  \\boldsymbol{\\nabla} \\cdot \\boldsymbol{u} = 0, \n",
        "  \\qquad &\\text{in }\\Omega\\times I, \\\\\n",
        "  \\boldsymbol{u} = (1-y^2) \\boldsymbol{i}, \\qquad&\\text{on }(\\Gamma_{\\text{in}} := \\{x= -1,\\, -1\\le y \\le 1 \\})\\times I, \\\\\n",
        "  \\left(\\dfrac{1}{\\text{Re}} \\boldsymbol{\\nabla} \\boldsymbol{u} - pI\\right) \\boldsymbol{n} = 0, \\qquad&\\text{on }(\\Gamma_{\\text{out}} := \\{x=4,\\, -1\\le y \\le 1\\})\\times I, \\\\\n",
        "  \\boldsymbol{u} = \\boldsymbol{0}, \\qquad&\\text{on }\\partial\\Omega \\backslash (\\Gamma_{\\text{in}}\\cup\\Gamma_{\\text{out}}) \\times I, \\\\\n",
        "  \\boldsymbol{u}(\\cdot,t=0) = \\boldsymbol{0}, &\\text{in }\\Omega,\n",
        "\\end{cases}\n",
        "$$\n",
        "\n",
        "where the Reynolds number $\\text{Re}$ is equal to $1000$, the time interval is $I=(0,40)$, and the spacial domain $\\Omega$ is described in the following figure."
      ]
    },
    {
      "cell_type": "markdown",
      "metadata": {
        "id": "K8fxQ2QR8wsG"
      },
      "source": [
        "![alt text](https://drive.google.com/uc?export=view&id=190IgTTTbGtbyWKwFfemQlQWOAOAdbNh-)"
      ]
    },
    {
      "cell_type": "markdown",
      "metadata": {
        "id": "xZEZ4u9D81MR"
      },
      "source": [
        "## FEniCS solution"
      ]
    },
    {
      "cell_type": "code",
      "metadata": {
        "id": "RWnf6_2X8m5E"
      },
      "source": [
        "%%capture\n",
        "try:\n",
        "    import dolfin\n",
        "except ImportError:\n",
        "    !wget \"https://fem-on-colab.github.io/releases/fenics-install.sh\" -O \"/tmp/fenics-install.sh\" && bash \"/tmp/fenics-install.sh\"\n",
        "    import dolfin\n",
        "    \n",
        "from fenics import *\n",
        "from mshr import *"
      ],
      "execution_count": 1,
      "outputs": []
    },
    {
      "cell_type": "markdown",
      "metadata": {
        "id": "4IfSPST7895O"
      },
      "source": [
        "### Fractional step Chorin-Temam method"
      ]
    },
    {
      "cell_type": "markdown",
      "metadata": {
        "id": "GybtGcNA9CJO"
      },
      "source": [
        "The Chorin-Temam formulation consists in the following steps:\n",
        "given the solution $(\\boldsymbol{u}_n,p_n)$ at step $n$,\n",
        "\n",
        "*   Solve the predictor step\n",
        "    $$\n",
        "  \\begin{cases}\n",
        "  {\\delta t}^{-1}\\boldsymbol{\\tilde{u}} +\n",
        "  ({\\boldsymbol{u}_n}\\cdot\\boldsymbol{\\nabla})\\ \n",
        "  \\boldsymbol{\\tilde{u}} -\n",
        "  \\text{Re}^{-1}\\boldsymbol{\\Delta}\\boldsymbol{\\tilde{u}} \n",
        "  = -\\boldsymbol{\\nabla} p_n + {\\delta t}^{-1}\\boldsymbol{u}_n, \n",
        "  \\qquad &\\text{in }\\Omega, \\\\\n",
        "  \\boldsymbol{\\tilde{u}} = (1-y^2) \\boldsymbol{i}, \n",
        "  \\qquad&\\text{on }\\Gamma_{\\text{in}}, \\\\\n",
        "  (\\boldsymbol{\\nabla}\\boldsymbol{\\tilde{u}}) \\boldsymbol{n}=0,\n",
        "  \\qquad&\\text{on }\\Gamma_{\\text{out}}, \\\\\n",
        "  \\boldsymbol{\\tilde{u}} = \\boldsymbol{0}, \n",
        "  \\qquad&\\text{on }\\partial\\Omega\\backslash \n",
        "  (\\Gamma_{\\text{in}}\\cup\\Gamma_{\\text{out}}).\n",
        "  \\end{cases}\n",
        "    $$\n",
        "\n",
        "*   Solve the Poisson problem for the pressure\n",
        "    $$\n",
        "  \\begin{cases}\n",
        "  -\\Delta \\delta p = - \n",
        "  {\\delta t}^{-1}\\boldsymbol{\\nabla}\\cdot\\boldsymbol{\\tilde{u}},\n",
        "  \\qquad&\\text{in }\\Omega, \\\\\n",
        "  \\delta p = 0, \\qquad&\\text{on }\\Gamma_{\\text{out}}, \\\\\n",
        "  \\boldsymbol{\\nabla}{\\delta p}\\cdot\\boldsymbol{n} = 0,\n",
        "  \\qquad&\\text{on }\\partial\\Omega\\backslash\\Gamma_{\\text{out}}.\n",
        "  \\end{cases}\n",
        "    $$ \n",
        "\n",
        "*   Velocity and pressure updates\n",
        "  $$\n",
        "  \\boldsymbol{u}_{n+1} = \\tilde{\\boldsymbol{u}} \n",
        "  - \\delta t \\boldsymbol{\\nabla}{\\delta p}, \\qquad\\quad\n",
        "  p_{n+1} = p_{n} + \\delta p.\n",
        "    $$\n"
      ]
    },
    {
      "cell_type": "markdown",
      "metadata": {
        "id": "FZo6vXy7cDus"
      },
      "source": [
        "Applying this method often results in inaccurate approximations because of the **artificial boundary conditions** introduced to solve the predictor and pressure steps. In particular, we can observe that **we are not able to control the tangential component of the velocity** on the boundary. This often leads to unphysical solutions. \n",
        "\n",
        "Nevertheless, the idea of splitting the solution of the linear system in different steps has inspired the formulation of **algebraic fractional step schemes**."
      ]
    },
    {
      "cell_type": "markdown",
      "metadata": {
        "id": "T6ZWD15v9RQ7"
      },
      "source": [
        "### Algebraic fractional step method"
      ]
    },
    {
      "cell_type": "markdown",
      "metadata": {
        "id": "dbG7fVYreSg4"
      },
      "source": [
        "We discretize the problem using the **stable FE pair $\\mathbb{P}^2-\\mathbb{P}^1$** and solve it by using the **algebraic Chorin-Temam projection scheme coupled with the backward Euler semi-implicit scheme**."
      ]
    },
    {
      "cell_type": "markdown",
      "metadata": {
        "id": "X8fhVBdyevxu"
      },
      "source": [
        "Using the incremental form ($\\delta\\boldsymbol{P}_{n+1} = \\boldsymbol{P}_{n+1}-\\boldsymbol{P}_{n}$) at\n",
        "each step the following linear system has to be solved:\n",
        "\n",
        "$$\n",
        "  \\begin{bmatrix}C & B^{T} \\\\ B & 0\\end{bmatrix}\n",
        "  \\begin{bmatrix}\\boldsymbol{U}_{n+1} \\\\ \n",
        "  \\delta\\boldsymbol{P}_{n+1}\\end{bmatrix}\n",
        "  =\n",
        "  \\begin{bmatrix}\\boldsymbol{f}_{n+1} + \\frac{1}{\\Delta t} M \\boldsymbol{U}_n - B^T \\boldsymbol{P}_n \\\\ \\boldsymbol{0} \\end{bmatrix},\n",
        "  \\qquad\n",
        "  C = \\frac{1}{\\Delta t} M + A + N(\\boldsymbol{U}_n).\n",
        "$$\n",
        "\n",
        "Rather than solving this system, let us now consider the following **inexact factorization** of the system matrix\n",
        "\n",
        "$$\n",
        "  \\begin{bmatrix}C & B^{T} \\\\ B & 0\\end{bmatrix}\n",
        "  =\n",
        "  \\begin{bmatrix}C & 0 \\\\ B & -B C^{-1} B^T\\end{bmatrix}\n",
        "  \\begin{bmatrix}I & C^{-1}B^{T} \\\\ 0 & I\\end{bmatrix}\n",
        "  \\approx\n",
        "  \\begin{bmatrix}C & 0 \\\\ B & -\\Delta t B M^{-1} B^{T}\\end{bmatrix}\n",
        "  \\begin{bmatrix}I & \\Delta t M^{-1} B^{T} \\\\ 0 & I\\end{bmatrix}.\n",
        "$$"
      ]
    },
    {
      "cell_type": "markdown",
      "metadata": {
        "id": "RD5RJ-etgQsD"
      },
      "source": [
        "### Implementation of algebraic Chorin-Temam scheme in FEniCS"
      ]
    },
    {
      "cell_type": "markdown",
      "metadata": {
        "id": "IdKUxJiUgY1C"
      },
      "source": [
        "First, we need to import the block package, in order to perform block operations."
      ]
    },
    {
      "cell_type": "code",
      "metadata": {
        "id": "N82tJFzL9Qbf"
      },
      "source": [
        "%%capture\n",
        "!rm -rf *\n",
        "!pip install git+https://mbotti@bitbucket.org/mbotti/cbc_mod.block.git\n",
        "from block import *\n",
        "from block.dolfin_util import *\n",
        "from block.iterative import *\n",
        "from block.algebraic.petsc import *"
      ],
      "execution_count": 2,
      "outputs": []
    },
    {
      "cell_type": "markdown",
      "metadata": {
        "id": "OhoF_Zmpgmyw"
      },
      "source": [
        "The numerical scheme is described by the following steps:\n",
        "\n",
        "*   Solve the predictor step\n",
        "    $$\n",
        "    C \\tilde{\\boldsymbol{U}}_{n+1} = \\boldsymbol{f}_{n+1} +\n",
        "    \\frac{1}{\\Delta t} M \\boldsymbol{U}_n-B^T \\boldsymbol{P}_n.\n",
        "    $$\n",
        "\n",
        "*   Solve the Poisson problem for the pressure\n",
        "    $$\n",
        "    B M^{-1} B^{T} \\delta\\boldsymbol{P}_{n+1} = \n",
        "    \\frac{1}{\\Delta t} B \\tilde{\\boldsymbol{U}}_{n+1}.\n",
        "    $$\n",
        "\n",
        "*   Update the velocity (projection step)\n",
        "    $$\n",
        "    \\boldsymbol{U}_{n+1} =  \\tilde{\\boldsymbol{U}}_{n+1} \n",
        "    - \\Delta t M^{-1} B^{T} \\delta\\boldsymbol{P}_{n+1}.\n",
        "    $$\n",
        "\n",
        "*   Update the pressure\n",
        "    $$\n",
        "      \\boldsymbol{P}_{n+1} = \\boldsymbol{P}_n \n",
        "      + \\delta\\boldsymbol{P}_{n+1}.\n",
        "    $$"
      ]
    },
    {
      "cell_type": "code",
      "metadata": {
        "id": "7kWWn1vX9U6q",
        "outputId": "234eb310-40f9-4499-9813-ea854725ce61",
        "colab": {
          "base_uri": "https://localhost:8080/"
        }
      },
      "source": [
        "# 1. mesh generation\n",
        "n = 120\n",
        "\n",
        "hole = Circle(Point(0.0, 0.0), 0.2)\n",
        "box = Rectangle(Point(-1.0, -1.0), Point(4.0, 1.0))\n",
        "geometry = box - hole\n",
        "mesh = generate_mesh(geometry, n)\n",
        "\n",
        "# 2. finite element space\n",
        "degree = 1\n",
        "V = VectorFunctionSpace(mesh, 'CG', degree+1)\n",
        "Q = FunctionSpace(mesh, 'CG', degree)\n",
        "\n",
        "def inflow(x, on_boundary):\n",
        "  return on_boundary and near(x[0], -1.0)\n",
        "\n",
        "def rigid_wall(x, on_boundary):\n",
        "  return on_boundary and not near(x[0], -1.0) and not near(x[0], 4.0)\n",
        "\n",
        "u_inflow = Expression(('1 - x[1] * x[1]', '0'), degree=2)\n",
        "\n",
        "bcs = [DirichletBC(V, u_inflow, inflow),\n",
        "       DirichletBC(V, Constant((0.0, 0.0)), rigid_wall)]\n",
        "\n",
        "# 3. problem definition\n",
        "u = TrialFunction(V)\n",
        "v = TestFunction(V)\n",
        "\n",
        "p = TrialFunction(Q)\n",
        "q = TestFunction(Q)\n",
        "\n",
        "f = Constant((0.0, 0.0))\n",
        "Re = Constant(1000)\n",
        "dt = 0.5\n",
        "\n",
        "u_old, p_old = Function(V), Function(Q)\n",
        "\n",
        "c = (dot(u, v) / Constant(dt) + dot(grad(u) * u_old, v) + inner(grad(u), grad(v)) / Re) * dx\n",
        "bT = (- p * div(v)) * dx\n",
        "b = (- div(u) * q) * dx\n",
        "m = dot(u, v) / Constant(dt) * dx\n",
        "\n",
        "L1 = (dot(u_old, v) / Constant(dt) + dot(f, v)) * dx\n",
        "\n",
        "# 4. solution\n",
        "time = 0.0\n",
        "\n",
        "u, p = Function(V), Function(Q)\n",
        "u.rename('velocity', 'velocity')\n",
        "p.rename('pressure', 'pressure')\n",
        "\n",
        "ufile = File('velocity.pvd')\n",
        "pfile = File('pressure.pvd')\n",
        "\n",
        "ufile << (u, time)\n",
        "pfile << (p, time)\n",
        "\n",
        "BT = assemble(bT)\n",
        "for bc in bcs:\n",
        "  bc.zero(BT)\n",
        "B = assemble(b)\n",
        "\n",
        "# Dirichlet BCs for the velocity field must be applied also to $M$!\n",
        "# We replace M with its lumped version $M_L$ to speed up the solver\n",
        "M = assemble(m)\n",
        "for bc in bcs:\n",
        "  bc.apply(M)\n",
        "Minv = LumpedInvDiag(M)\n",
        "\n",
        "while time < 40.0:\n",
        "  time += dt\n",
        "  f.t = time\n",
        "\n",
        "  u_old.assign(u)\n",
        "  p_old.assign(p)\n",
        "  \n",
        "  # first step: velocity prediction\n",
        "  rhs = assemble(L1) - BT * p_old.vector()\n",
        "\n",
        "  C = assemble(c)\n",
        "  for bc in bcs:\n",
        "    bc.apply(C, rhs)\n",
        "\n",
        "  Cinv = LU(C)\n",
        "  u_tilde = Cinv * rhs\n",
        "  \n",
        "  # second step: compute pressure\n",
        "  rhs = B * u_tilde\n",
        "  \n",
        "  S = B * Minv * BT\n",
        "  Sinv = LGMRES(S)\n",
        "  delta_p = Sinv * rhs\n",
        "  \n",
        "  # third step: update velocity and pressure\n",
        "  u_tilde -= Minv * BT * delta_p\n",
        "  \n",
        "  u.vector().set_local(u_tilde.get_local())\n",
        "  p.vector().set_local(p_old.vector().get_local() + delta_p.get_local())\n",
        "  \n",
        "  ufile << (u, time)\n",
        "  pfile << (p, time)"
      ],
      "execution_count": 4,
      "outputs": [
        {
          "output_type": "stream",
          "name": "stdout",
          "text": [
            "LGMRES converged [iter=20, time=4.05s, res=9.8e-06]\n",
            "LGMRES converged [iter=20, time=4.03s, res=7.6e-06]\n",
            "LGMRES converged [iter=21, time=5.13s, res=7.5e-06]\n",
            "LGMRES converged [iter=20, time=4.04s, res=9.0e-06]\n",
            "LGMRES converged [iter=20, time=4.02s, res=6.7e-06]\n",
            "LGMRES converged [iter=15, time=3.13s, res=8.5e-06]\n",
            "LGMRES converged [iter=21, time=4.22s, res=5.3e-06]\n",
            "LGMRES converged [iter=21, time=4.25s, res=3.8e-06]\n",
            "LGMRES converged [iter=19, time=3.88s, res=9.6e-06]\n",
            "LGMRES converged [iter=16, time=3.74s, res=8.8e-06]\n",
            "LGMRES converged [iter=18, time=3.65s, res=9.6e-06]\n",
            "LGMRES converged [iter=13, time=2.66s, res=8.2e-06]\n",
            "LGMRES converged [iter=13, time=2.64s, res=5.7e-06]\n",
            "LGMRES converged [iter=13, time=2.63s, res=8.5e-06]\n",
            "LGMRES converged [iter=12, time=2.42s, res=6.8e-06]\n",
            "LGMRES converged [iter=13, time=2.64s, res=7.9e-06]\n",
            "LGMRES converged [iter=12, time=2.48s, res=1.0e-05]\n",
            "LGMRES converged [iter=11, time=2.25s, res=7.4e-06]\n",
            "LGMRES converged [iter=12, time=2.43s, res=5.1e-06]\n",
            "LGMRES converged [iter=12, time=2.41s, res=7.0e-06]\n",
            "LGMRES converged [iter=11, time=2.20s, res=8.1e-06]\n",
            "LGMRES converged [iter=11, time=2.19s, res=1.0e-05]\n",
            "LGMRES converged [iter=11, time=2.23s, res=9.9e-06]\n",
            "LGMRES converged [iter=11, time=2.22s, res=7.5e-06]\n",
            "LGMRES converged [iter= 8, time=1.63s, res=8.0e-06]\n",
            "LGMRES converged [iter= 8, time=1.62s, res=5.9e-06]\n",
            "LGMRES converged [iter= 8, time=1.61s, res=8.9e-06]\n",
            "LGMRES converged [iter=12, time=2.45s, res=5.0e-06]\n",
            "LGMRES converged [iter=12, time=2.42s, res=4.9e-06]\n",
            "LGMRES converged [iter=12, time=6.01s, res=6.0e-06]\n",
            "LGMRES converged [iter=12, time=2.46s, res=6.4e-06]\n",
            "LGMRES converged [iter=11, time=2.24s, res=9.3e-06]\n",
            "LGMRES converged [iter=11, time=2.24s, res=3.8e-06]\n",
            "LGMRES converged [iter=10, time=2.08s, res=8.8e-06]\n",
            "LGMRES converged [iter=11, time=2.28s, res=9.1e-06]\n",
            "LGMRES converged [iter=11, time=2.28s, res=6.8e-06]\n",
            "LGMRES converged [iter=12, time=2.45s, res=8.8e-06]\n",
            "LGMRES converged [iter=12, time=2.46s, res=9.8e-06]\n",
            "LGMRES converged [iter=12, time=2.45s, res=9.2e-06]\n",
            "LGMRES converged [iter=12, time=2.47s, res=6.4e-06]\n",
            "LGMRES converged [iter=10, time=2.07s, res=3.3e-06]\n",
            "LGMRES converged [iter=11, time=2.27s, res=8.7e-06]\n",
            "LGMRES converged [iter=12, time=2.44s, res=9.6e-06]\n",
            "LGMRES converged [iter=13, time=2.73s, res=5.0e-06]\n",
            "LGMRES converged [iter=13, time=2.68s, res=5.0e-06]\n",
            "LGMRES converged [iter= 9, time=1.85s, res=8.0e-06]\n",
            "LGMRES converged [iter= 9, time=1.85s, res=9.0e-06]\n",
            "LGMRES converged [iter=11, time=2.25s, res=9.7e-06]\n",
            "LGMRES converged [iter=13, time=2.69s, res=3.9e-06]\n",
            "LGMRES converged [iter=10, time=2.08s, res=6.9e-06]\n",
            "LGMRES converged [iter= 9, time=1.82s, res=1.0e-05]\n",
            "LGMRES converged [iter=10, time=2.05s, res=9.7e-06]\n",
            "LGMRES converged [iter=12, time=2.42s, res=8.0e-06]\n",
            "LGMRES converged [iter= 9, time=1.82s, res=9.4e-06]\n",
            "LGMRES converged [iter= 9, time=1.83s, res=8.1e-06]\n",
            "LGMRES converged [iter=13, time=2.62s, res=3.2e-06]\n",
            "LGMRES converged [iter=13, time=2.70s, res=2.9e-06]\n",
            "LGMRES converged [iter=13, time=2.64s, res=4.2e-06]\n",
            "LGMRES converged [iter=13, time=2.67s, res=4.0e-06]\n",
            "LGMRES converged [iter=12, time=2.41s, res=9.8e-06]\n",
            "LGMRES converged [iter=13, time=2.64s, res=4.1e-06]\n",
            "LGMRES converged [iter=12, time=2.44s, res=8.0e-06]\n",
            "LGMRES converged [iter=12, time=2.47s, res=7.5e-06]\n",
            "LGMRES converged [iter=11, time=2.22s, res=7.3e-06]\n",
            "LGMRES converged [iter=11, time=2.25s, res=9.9e-06]\n",
            "LGMRES converged [iter= 9, time=1.88s, res=9.9e-06]\n",
            "LGMRES converged [iter= 7, time=1.44s, res=4.2e-06]\n",
            "LGMRES converged [iter= 9, time=1.84s, res=8.5e-06]\n",
            "LGMRES converged [iter=12, time=2.49s, res=6.2e-06]\n",
            "LGMRES converged [iter= 8, time=1.64s, res=9.5e-06]\n",
            "LGMRES converged [iter= 8, time=1.66s, res=8.8e-06]\n",
            "LGMRES converged [iter= 8, time=1.63s, res=7.8e-06]\n",
            "LGMRES converged [iter= 9, time=1.84s, res=8.1e-06]\n",
            "LGMRES converged [iter= 9, time=1.85s, res=9.3e-06]\n",
            "LGMRES converged [iter= 9, time=1.85s, res=9.5e-06]\n",
            "LGMRES converged [iter= 8, time=1.61s, res=8.2e-06]\n",
            "LGMRES converged [iter= 8, time=1.64s, res=8.8e-06]\n",
            "LGMRES converged [iter=12, time=2.41s, res=6.7e-06]\n",
            "LGMRES converged [iter=11, time=2.26s, res=3.2e-06]\n",
            "LGMRES converged [iter=10, time=2.06s, res=8.7e-06]\n"
          ]
        }
      ]
    }
  ]
}