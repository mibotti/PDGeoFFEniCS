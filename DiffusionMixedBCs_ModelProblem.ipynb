{
  "nbformat": 4,
  "nbformat_minor": 0,
  "metadata": {
    "colab": {
      "name": "Lab3_Ex2.ipynb",
      "provenance": [],
      "collapsed_sections": []
    },
    "kernelspec": {
      "name": "python3",
      "display_name": "Python 3"
    }
  },
  "cells": [
    {
      "cell_type": "markdown",
      "metadata": {
        "id": "iCA0c15ZpQD9"
      },
      "source": [
        "# Laplace problem with mixed boundary conditions"
      ]
    },
    {
      "cell_type": "markdown",
      "metadata": {
        "id": "m-5Hctq_pbUV"
      },
      "source": [
        "We consider the Laplace problem with mixed boundary conditions. On the unit square domain $\\Omega = {[0,1]}^2$, the differential problem reads:\n",
        "\\begin{equation*}\n",
        "  \\begin{cases}\n",
        "    -\\nabla\\cdot{( k \\boldsymbol{\\nabla}u)} = f, \\qquad & \\text{in }\\Omega, \\\\\n",
        "    u = g_D, \\qquad & \\text{on }\\Gamma_D\n",
        "      = \\{(x,y) \\in \\mathbb{R}^2 \\,|\\, x \\in \\{0, 1\\} \\text{ and } y \\in (0, 1) \\}, \\\\\n",
        "    -k \\boldsymbol{\\nabla} u\\cdot{\\boldsymbol{n}} = g_N, \\qquad & \\text{on }\\Gamma_N\n",
        "      = \\{(x,y) \\in \\mathbb{R}^2 \\,|\\, x \\in (0, 1) \\text{ and } y = 0 \\}, \\\\\n",
        "    -k \\boldsymbol{\\nabla} u\\cdot{\\boldsymbol{n}} = \\alpha (u - u_R), \\qquad & \\text{on }\\Gamma_R\n",
        "      = \\{(x,y) \\in \\mathbb{R}^2 \\,|\\, x \\in (0, 1) \\text{ and } y = 1 \\},\n",
        "  \\end{cases}\n",
        "\\end{equation*}\n",
        "with problem data given by\n",
        "\\begin{equation*}\n",
        "  k = 1, \\quad\n",
        "  \\alpha = 1, \\quad\n",
        "  f = 0, \\quad\n",
        "  g_D = 0, \\quad\n",
        "  g_N = -1, \\quad\n",
        "  u_R = 1.\n",
        "\\end{equation*}"
      ]
    },
    {
      "cell_type": "markdown",
      "metadata": {
        "id": "UdQndTTcqtvR"
      },
      "source": [
        "1.   Derive the expression for the **bilinear form** and **linear functional** associated to the **weak formulation** of the problem\n",
        "\n",
        "2.   Solve the problem using the variational approach in FEniCS. Use the space $\\mathbb{P}^k$ of continuous piecewise polynomial functions with degree at most $k$.\n",
        "\n"
      ]
    },
    {
      "cell_type": "markdown",
      "metadata": {
        "id": "nGxnNb7ErPAu"
      },
      "source": [
        "## Weak formulation"
      ]
    },
    {
      "cell_type": "markdown",
      "metadata": {
        "id": "d3vNZlAjrSIm"
      },
      "source": [
        "We multiply the equation by a test\n",
        "function $v$ and we integrate over the domain $\\Omega$ to obtain:\n",
        "\\begin{equation*}\n",
        "  -\\int_\\Omega \\nabla\\cdot{( k \\boldsymbol{\\nabla}u)} v \\, \n",
        "  d\\boldsymbol{x} = \\int_\\Omega f v \\, d\\boldsymbol{x},\n",
        "\\end{equation*}\n",
        "integrating by parts:\n",
        "\\begin{equation*}\n",
        "  \\int_{\\partial\\Omega} (-k \\boldsymbol{\\nabla} u\\cdot{\\boldsymbol{n}}) v \\, d\\sigma +\n",
        "  \\int_\\Omega k\\boldsymbol{\\nabla} u\\cdot \\boldsymbol{\\nabla} v \\, d\\boldsymbol{x} =\n",
        "  \\int_\\Omega f v \\, d\\vec{x}.\n",
        "\\end{equation*}\n",
        "\n",
        "The **integral over the boundary $\\partial\\Omega$ is split into three contributions**:\n",
        "\\begin{equation*}\n",
        "  \\int_{\\partial\\Omega} (-k \\boldsymbol{\\nabla} u\\cdot{\\boldsymbol{n}}) v \\, d\\sigma =\n",
        "  \\int_{\\Gamma_D} (-k \\boldsymbol{\\nabla} u\\cdot{\\boldsymbol{n}}) v \\, d\\sigma +\n",
        "  \\int_{\\Gamma_N} (-k \\boldsymbol{\\nabla} u\\cdot{\\boldsymbol{n}}) v \\, d\\sigma +\n",
        "  \\int_{\\Gamma_R} (-k \\boldsymbol{\\nabla} u\\cdot{\\boldsymbol{n}}) v \\, d\\sigma.\n",
        "\\end{equation*}\n",
        "\n",
        "\n",
        "*    On the **Dirichlet boundary** $\\Gamma_D$ we assume that the test function $v$ is equal to $0$, since the value of $u$ is fixed equal to $0$ (essential BC). \n",
        "\n",
        "*    On the **Neumann boundary** $\\Gamma_N$ the value of the heat flux is known (natural BC):\n",
        "\\begin{equation*}\n",
        "  \\int_{\\Gamma_N} (-k \\boldsymbol{\\nabla} u\\cdot{\\boldsymbol{n}}) v \\, d\\sigma =\n",
        "    \\int_{\\Gamma_N} g_N v \\, d\\sigma.\n",
        "\\end{equation*}\n",
        "\n",
        "*    On the **Robin boundary** $\\Gamma_R$ the condition is enforced as in the Neumann case (natural BC)\n",
        "\\begin{equation*}\n",
        "  \\int_{\\Gamma_R} (-k \\boldsymbol{\\nabla} u\\cdot{\\boldsymbol{n}}) v \\, d\\sigma =\n",
        "    \\int_{\\Gamma_R} \\alpha (u - u_R) v \\, d\\sigma.\n",
        "\\end{equation*}\n",
        "\n",
        "Then, we reorder the terms to leave the functions depending on $u$ on the left-hand side and the functions depending on the problem data on the right-hand side. Proceeding in this way, we obtain\n",
        "\\begin{equation*}\n",
        "  \\int_\\Omega  k\\boldsymbol{\\nabla} u\\cdot \\boldsymbol{\\nabla} v \\, d\\boldsymbol{x}\n",
        "  + \\int_{\\Gamma_R} \\alpha u v \\, d\\sigma =\n",
        "  \\int_\\Omega f v \\, d\\boldsymbol{x}\n",
        "  - \\int_{\\Gamma_N} g_N v \\, d\\sigma\n",
        "  + \\int_{\\Gamma_R} \\alpha u_R v \\, d\\sigma.\n",
        "\\end{equation*}"
      ]
    },
    {
      "cell_type": "markdown",
      "metadata": {
        "id": "VZwoNVc3vEAD"
      },
      "source": [
        "Therefore the **weak formulation** reads:  \n",
        "$$\n",
        "\\text{Find } u\\in H^1_{0,\\Gamma_D}(\\Omega) \\;\\text{ such that } \\; a(u, v) = L(v) \\quad \\forall v\\in H^1_{0,\\Gamma_D}(\\Omega),\n",
        "$$ \n",
        "where the **bilinear form** is defined by\n",
        "\\begin{equation*}\n",
        "  a(u, v) = \\int_\\Omega k\\boldsymbol{\\nabla} u\\cdot \\boldsymbol{\\nabla} v \\, d\\boldsymbol{x}\n",
        "          + \\int_{\\Gamma_R} \\alpha u v \\, d\\sigma,\n",
        "\\end{equation*}\n",
        "and the **linear functional** is defined such that\n",
        "\\begin{equation*}\n",
        "  L(v) = \\int_\\Omega f v \\, d\\boldsymbol{x} \n",
        "       - \\int_{\\Gamma_N} g_N v \\, d\\sigma\n",
        "       + \\int_{\\Gamma_R} \\alpha u_R v \\, d\\sigma.\n",
        "\\end{equation*}"
      ]
    },
    {
      "cell_type": "markdown",
      "metadata": {
        "id": "aUCi0r6Yx6pC"
      },
      "source": [
        "#### **Exercise**: Verify that the assumptions of the Lax-Milgram theorem are satisfied (assuming sufficient regularity of the data). Is the bilinear function $a$ symmetric?"
      ]
    },
    {
      "cell_type": "markdown",
      "metadata": {
        "id": "FwdBrKB90CA1"
      },
      "source": [
        "## Numerical solution with FEniCS"
      ]
    },
    {
      "cell_type": "code",
      "metadata": {
        "id": "eq5kY9KTkk1X"
      },
      "source": [
        "%%capture\n",
        "try:\n",
        "    import dolfin\n",
        "except ImportError:\n",
        "    !wget \"https://fem-on-colab.github.io/releases/fenics-install.sh\" -O \"/tmp/fenics-install.sh\" && bash \"/tmp/fenics-install.sh\"\n",
        "    import dolfin"
      ],
      "execution_count": null,
      "outputs": []
    },
    {
      "cell_type": "code",
      "metadata": {
        "id": "_RzkW1JjlUCl"
      },
      "source": [
        "from fenics import *"
      ],
      "execution_count": null,
      "outputs": []
    },
    {
      "cell_type": "markdown",
      "metadata": {
        "id": "vQoJoSY50cGs"
      },
      "source": [
        "First, we generate the mesh."
      ]
    },
    {
      "cell_type": "code",
      "metadata": {
        "id": "CTNUN2-y0SiL",
        "colab": {
          "base_uri": "https://localhost:8080/"
        },
        "outputId": "89365531-7577-4ea9-baf7-be6505912dd1"
      },
      "source": [
        "# 1a. generate the mesh\n",
        "nx, ny = 80, 80\n",
        "mesh = UnitSquareMesh(nx, ny, 'crossed')\n",
        "dim = mesh.geometric_dimension()\n",
        "print(dim)"
      ],
      "execution_count": null,
      "outputs": [
        {
          "output_type": "stream",
          "text": [
            "2\n"
          ],
          "name": "stdout"
        }
      ]
    },
    {
      "cell_type": "markdown",
      "metadata": {
        "id": "DKtP4Ihi0wuq"
      },
      "source": [
        "In this case, since we have to deal with different types of boundary condition, we have to **distinguish the different portion of the boundary $\\partial\\Omega$**"
      ]
    },
    {
      "cell_type": "code",
      "metadata": {
        "id": "ta3lUr_j0iUI"
      },
      "source": [
        "# 1b. mark the boundaries\n",
        "boundary_markers = MeshFunction('size_t', mesh, dim-1, 0)\n",
        "boundary_markers.rename('boundary label', 'boundary')\n",
        "\n",
        "# Neumann boundary\n",
        "class BottomBoundary(SubDomain):\n",
        "    def inside(self, x, on_boundary):\n",
        "        return on_boundary and near(x[1], 0.0)\n",
        "\n",
        "# Robin boundary\n",
        "class TopBoundary(SubDomain):\n",
        "    def inside(self, x, on_boundary):\n",
        "        return on_boundary and near(x[1], 1.0)\n",
        "\n",
        "# Dirichlet boundaries\n",
        "class LeftBoundary(SubDomain):\n",
        "    def inside (self, x, on_boudary):\n",
        "        return on_boudary and near(x[0], 0.0)\n",
        "\n",
        "class RightBoundary(SubDomain):\n",
        "    def inside (self, x, on_boudary):\n",
        "        return on_boudary and near(x[0], 1.0)\n",
        "\n",
        "\n",
        "bottom = BottomBoundary()\n",
        "top = TopBoundary()\n",
        "left = LeftBoundary()\n",
        "right = RightBoundary()\n",
        "\n",
        "# we assign an integer label for each portion of the boundary\n",
        "bottom.mark(boundary_markers, 1)\n",
        "right.mark(boundary_markers, 2)\n",
        "top.mark(boundary_markers, 3)\n",
        "left.mark(boundary_markers, 4)"
      ],
      "execution_count": null,
      "outputs": []
    },
    {
      "cell_type": "code",
      "metadata": {
        "id": "VFvZ1cpR4zBB",
        "colab": {
          "base_uri": "https://localhost:8080/"
        },
        "outputId": "a2ca3675-5fbd-4bfb-e9c5-d4ffb92d6065"
      },
      "source": [
        "# to understand built-in classes and function we can look on the FEniCS manual or use the help\n",
        "help(MeshFunction)\n",
        "\n",
        "help(near)\n",
        "near(0.5, 0.45, 0.1)\n",
        "#near(0.5, 0.4, 0.05)"
      ],
      "execution_count": null,
      "outputs": [
        {
          "output_type": "stream",
          "text": [
            "Help on class MeshFunction in module dolfin.mesh.meshfunction:\n",
            "\n",
            "class MeshFunction(builtins.object)\n",
            " |  Static methods defined here:\n",
            " |  \n",
            " |  __new__(cls, value_type, mesh, dim, value=None)\n",
            " |      Create and return a new object.  See help(type) for accurate signature.\n",
            " |  \n",
            " |  ----------------------------------------------------------------------\n",
            " |  Data descriptors defined here:\n",
            " |  \n",
            " |  __dict__\n",
            " |      dictionary for instance variables (if defined)\n",
            " |  \n",
            " |  __weakref__\n",
            " |      list of weak references to the object (if defined)\n",
            "\n",
            "Help on built-in function near in module dolfin.cpp.math:\n",
            "\n",
            "near(...) method of builtins.PyCapsule instance\n",
            "    near(x0: float, x1: float, eps: float=3e-16) -> bool\n",
            "\n"
          ],
          "name": "stdout"
        },
        {
          "output_type": "execute_result",
          "data": {
            "text/plain": [
              "True"
            ]
          },
          "metadata": {
            "tags": []
          },
          "execution_count": 4
        }
      ]
    },
    {
      "cell_type": "markdown",
      "metadata": {
        "id": "ZImhsFVV6kE1"
      },
      "source": [
        "Since we need to perform integrals over the boundary edges we need to define the Lesbegue measure *ds*:"
      ]
    },
    {
      "cell_type": "code",
      "metadata": {
        "id": "8J4H2jTE5XqW"
      },
      "source": [
        "# 1c. setting up the measures\n",
        "dx = Measure('dx', domain=mesh)\n",
        "ds = Measure('ds', domain=mesh, subdomain_data=boundary_markers)"
      ],
      "execution_count": null,
      "outputs": []
    },
    {
      "cell_type": "markdown",
      "metadata": {
        "id": "SpjAzrZ87AAv"
      },
      "source": [
        "Now we can move to the second step of the FEM method implemented with FEniCS, namely the definition of the discrete space: "
      ]
    },
    {
      "cell_type": "code",
      "metadata": {
        "id": "t2Sok3jj6jA3"
      },
      "source": [
        "# 2a. definition of finite element space\n",
        "degree = 1\n",
        "V = FunctionSpace(mesh, 'CG', degree)"
      ],
      "execution_count": null,
      "outputs": []
    },
    {
      "cell_type": "markdown",
      "metadata": {
        "id": "6uA8Q_957bo3"
      },
      "source": [
        "As usual **homogeneous Dirichlet conditions** can be enforced in a **strong way** by fixing some of the DOFs of the discrete space to zero. "
      ]
    },
    {
      "cell_type": "code",
      "metadata": {
        "id": "52coc0Ua6-u3"
      },
      "source": [
        "# 2b. definition of Dirichlet boundary conditions\n",
        "gD = Constant(0.0)\n",
        "\n",
        "bc = [\n",
        "    DirichletBC(V, gD, boundary_markers, 2),\n",
        "    DirichletBC(V, gD, boundary_markers, 4)]"
      ],
      "execution_count": null,
      "outputs": []
    },
    {
      "cell_type": "markdown",
      "metadata": {
        "id": "NpXOJQzC8ZnJ"
      },
      "source": [
        "Now we can move to the main part of the program. i.e. the **definition and assembling of the discrete problem**. The FEniCS formulation corresponds exactly to the weak form defined above."
      ]
    },
    {
      "cell_type": "code",
      "metadata": {
        "id": "Eh6ZIqfh7XC1",
        "colab": {
          "base_uri": "https://localhost:8080/"
        },
        "outputId": "9cd023d6-7b1a-4326-ad3e-ff5a458b894b"
      },
      "source": [
        "# 3a. definition of bilinear forms, linear functionals \n",
        "k = Constant(1.0)\n",
        "alpha = Constant(1.0)\n",
        "\n",
        "f = Constant(0.0)\n",
        "gN = Constant(-1.0)\n",
        "uR = Constant(1.0)\n",
        "\n",
        "u = TrialFunction(V)\n",
        "v = TestFunction(V)\n",
        "\n",
        "a = k * dot(grad(u), grad(v)) * dx + alpha * u * v * ds(3)\n",
        "L = f * v * dx - gN * v * ds(1) + alpha * uR * v * ds(3)\n",
        "\n",
        "# 3b. assembling the discrete problem\n",
        "A, b = assemble_system(a, L, bc)"
      ],
      "execution_count": null,
      "outputs": [
        {
          "output_type": "stream",
          "text": [
            "Calling FFC just-in-time (JIT) compiler, this may take some time.\n"
          ],
          "name": "stdout"
        }
      ]
    },
    {
      "cell_type": "markdown",
      "metadata": {
        "id": "M0XveoCOApfy"
      },
      "source": [
        "### Iterative algebraic solvers "
      ]
    },
    {
      "cell_type": "markdown",
      "metadata": {
        "id": "Y__ZERz89ks1"
      },
      "source": [
        "Notice above that we did not solve the discrete system yet, but we just perform the assembling. Since the problem considered here is a bit more involved than the Laplace problem of Ex 1, we use an **iterative solver** instead of the built-in direct solver provided by *solve(a == L, u, bc)*."
      ]
    },
    {
      "cell_type": "code",
      "metadata": {
        "id": "1-lWoRvX9OwP",
        "colab": {
          "base_uri": "https://localhost:8080/"
        },
        "outputId": "741a742c-a86e-45b3-e214-425c9224a17e"
      },
      "source": [
        "# 4b. solve the system\n",
        "u = Function(V)\n",
        "u.rename('temperature', 'temperature')\n",
        "\n",
        "x = u.vector()\n",
        "\n",
        "# Timer() is used to measure the computational time\n",
        "timer = Timer()\n",
        "\n",
        "# There are different choices for the parameters to set up the conjugate gradient solver\n",
        "precon = 'none'\n",
        "#precon = 'amg'\n",
        "solver = KrylovSolver('cg', precon)\n",
        "solver.parameters[\"relative_tolerance\"] = 5e-8\n",
        "#solver.parameters[\"maximum_iterations\"] = 1000\n",
        "#solver.parameters['monitor_convergence'] = True\n",
        "\n",
        "solver.solve(A, x, b)\n",
        "\n",
        "elapsed, _, _ = timer.elapsed()\n",
        "print('Time to solve: {:.3f}s'.format(elapsed))"
      ],
      "execution_count": null,
      "outputs": [
        {
          "output_type": "stream",
          "text": [
            "<dolfin.cpp.la.PETScVector object at 0x7f1a03f81a40>\n",
            "Time to solve: 0.080s\n"
          ],
          "name": "stdout"
        }
      ]
    },
    {
      "cell_type": "markdown",
      "metadata": {
        "id": "_ZisJoAy_Lzw"
      },
      "source": [
        "Finally, we conclude with the post-processing. In this case we export the solution for visualisation in Paraview."
      ]
    },
    {
      "cell_type": "code",
      "metadata": {
        "id": "ijfcHiZD9ivb",
        "colab": {
          "base_uri": "https://localhost:8080/"
        },
        "outputId": "98750175-9be9-42df-95bc-c0c8e60962fb"
      },
      "source": [
        "# 5a. save solution\n",
        "vtkfile = File('ex02.pvd')\n",
        "vtkfile << u"
      ],
      "execution_count": null,
      "outputs": [
        {
          "output_type": "execute_result",
          "data": {
            "text/plain": [
              "<dolfin.cpp.la.PETScVector at 0x7fec97dc9200>"
            ]
          },
          "metadata": {
            "tags": []
          },
          "execution_count": 14
        }
      ]
    },
    {
      "cell_type": "markdown",
      "metadata": {
        "id": "bBr546-hAOgY"
      },
      "source": [
        "#### **Exercise**: Perform the convergence analysis as we have done for the homogeneous Dirichlet problem. Take again $k=1$, $\\alpha=1$, and as exact solution $u(x, y) = \\sin{(\\pi x)} \\sin{(\\pi y)}$. Infer the load function $f$ and the boundary data ($g_D, g_N, u_R$) from the exact solution $u$."
      ]
    },
    {
      "cell_type": "code",
      "metadata": {
        "id": "8txh2DuDCE1B"
      },
      "source": [
        "def solver(n, degree):\n",
        "  nx, ny = n, n\n",
        "  mesh = UnitSquareMesh(nx, ny, 'crossed')\n",
        "  dim = mesh.geometric_dimension()\n",
        "\n",
        "  boundary_markers = MeshFunction('size_t', mesh, dim-1, 0)\n",
        "  boundary_markers.rename('boundary label', 'boundary')\n",
        "\n",
        "  class BottomBoundary(SubDomain): # Neumann boundary\n",
        "    def inside(self, x, on_boundary):\n",
        "      return on_boundary and near(x[1], 0)\n",
        "\n",
        "  class TopBoundary(SubDomain): # Robin boundary\n",
        "    def inside(self, x, on_boundary):\n",
        "      return on_boundary and near(x[1], 1)\n",
        "\n",
        "  class LeftBoundary(SubDomain): # Dirichlet boundary\n",
        "    def inside(self, x, on_boundary):\n",
        "      return on_boundary and near(x[0], 0)\n",
        "\n",
        "  class RightBoundary(SubDomain): # Dirichlet boundary\n",
        "    def inside(self, x, on_boundary):\n",
        "      return on_boundary and near(x[0], 1)\n",
        "\n",
        "  bottom = BottomBoundary()\n",
        "  top = TopBoundary()\n",
        "  left = LeftBoundary()\n",
        "  right = RightBoundary()\n",
        "\n",
        "  bottom.mark(boundary_markers, 1)\n",
        "  right.mark(boundary_markers, 2)\n",
        "  top.mark(boundary_markers, 3)\n",
        "  left.mark(boundary_markers, 4)\n",
        "\n",
        "  V = FunctionSpace(mesh, 'CG', degree)\n",
        "\n",
        "  gD = Constant(0.0)\n",
        "  bc = [DirichletBC(V, gD, boundary_markers, 2),\n",
        "        DirichletBC(V, gD, boundary_markers, 4)]\n",
        "\n",
        "  #dx = Measure('dx', domain=mesh)\n",
        "  ds = Measure('ds', domain=mesh, subdomain_data=boundary_markers)\n",
        "\n",
        "  u = TrialFunction(V)\n",
        "  v = TestFunction(V)\n",
        "  \n",
        "  k = Constant(1.0)\n",
        "  alpha = Constant(1.0)\n",
        "\n",
        "  f = Expression('2*pi*pi*sin(pi*x[0])*sin(pi*x[1])', degree=degree+1)\n",
        "  gN = Expression('pi*sin(x[0])', degree=degree+1)\n",
        "  uR = Expression('-pi*sin(x[0])', degree=degree+1)\n",
        "\n",
        "  a = k*inner(grad(u), grad(v))*dx + alpha*u*v*ds(3)\n",
        "  L = f*v*dx - gN*v*ds(1) + alpha*uR*v*ds(3)\n",
        "\n",
        "  A, b = assemble_system(a, L, bc)\n",
        "\n",
        "  u = Function(V)\n",
        "  x = u.vector()\n",
        "\n",
        "  precon = 'none'\n",
        "  tol = 5e-8\n",
        "  solver = KrylovSolver('cg', precon)\n",
        "  solver.parameters[\"relative_tolerance\"] = tol\n",
        "  solver.solve(A, x, b)\n",
        "\n",
        "  return u"
      ],
      "execution_count": null,
      "outputs": []
    },
    {
      "cell_type": "code",
      "metadata": {
        "colab": {
          "base_uri": "https://localhost:8080/"
        },
        "id": "X0TxjzsXiPxE",
        "outputId": "8726dc19-0569-4ba0-ba5d-688204d23752"
      },
      "source": [
        "import numpy as np\n",
        "\n",
        "M = np.zeros((4,5))\n",
        "\n",
        "for degree in [1, 2]:\n",
        "  u = Expression('sin(pi*x[0])*sin(pi*x[1])', degree=degree+2)\n",
        "  f = Expression('2*pi*pi*sin(pi*x[0])*sin(pi*x[1])', degree=degree+1)\n",
        "\n",
        "  gN = Expression('pi*sin(x[0])', degree=degree+1)\n",
        "  uR = Expression('-pi*sin(x[0])', degree=degree+1)\n",
        "\n",
        "  for j in range(5):\n",
        "    n = 10*(2**j)\n",
        "\n",
        "    uh = solver(n, degree)\n",
        "\n",
        "    errL2 = errornorm(u, uh, 'L2')\n",
        "    errH1 = errornorm(u, uh, 'H10')\n",
        "\n",
        "    i = 2*(degree-1)\n",
        "    M[i, j] = errL2\n",
        "    M[i+1, j] = errH1\n",
        "\n",
        "    print('n={} degree={} eL2={:.2e} eH1={:.2e}'.format(n, degree, errL2, errH1));\n",
        "\n",
        "print()"
      ],
      "execution_count": null,
      "outputs": [
        {
          "output_type": "stream",
          "text": [
            "n=10 degree=1 eL2=1.68e-01 eH1=7.77e-01\n",
            "n=20 degree=1 eL2=1.70e-01 eH1=7.73e-01\n",
            "n=40 degree=1 eL2=1.70e-01 eH1=7.73e-01\n",
            "n=80 degree=1 eL2=1.70e-01 eH1=7.74e-01\n",
            "n=160 degree=1 eL2=1.70e-01 eH1=7.74e-01\n",
            "Calling FFC just-in-time (JIT) compiler, this may take some time.\n",
            "Calling FFC just-in-time (JIT) compiler, this may take some time.\n",
            "Calling FFC just-in-time (JIT) compiler, this may take some time.\n",
            "Calling FFC just-in-time (JIT) compiler, this may take some time.\n",
            "Calling FFC just-in-time (JIT) compiler, this may take some time.\n",
            "Calling FFC just-in-time (JIT) compiler, this may take some time.\n",
            "Calling FFC just-in-time (JIT) compiler, this may take some time.\n",
            "Calling FFC just-in-time (JIT) compiler, this may take some time.\n",
            "n=10 degree=2 eL2=1.70e-01 eH1=7.72e-01\n",
            "n=20 degree=2 eL2=1.70e-01 eH1=7.74e-01\n",
            "n=40 degree=2 eL2=1.70e-01 eH1=7.74e-01\n",
            "n=80 degree=2 eL2=1.70e-01 eH1=7.74e-01\n",
            "n=160 degree=2 eL2=1.70e-01 eH1=7.74e-01\n",
            "\n"
          ],
          "name": "stdout"
        }
      ]
    },
    {
      "cell_type": "code",
      "metadata": {
        "id": "QMjSbiv7GhCT",
        "colab": {
          "base_uri": "https://localhost:8080/"
        },
        "outputId": "146211b2-7602-4942-eaec-f62ada653532"
      },
      "source": [
        "import matplotlib.pyplot as plt\n",
        "\n",
        "nx, ny = 10, 10\n",
        "mesh = UnitSquareMesh(nx, ny, 'crossed')\n",
        "dim = mesh.geometric_dimension()\n",
        "\n",
        "boundary_markers = MeshFunction('size_t', mesh, dim-1, 0)\n",
        "boundary_markers.rename('boundary label', 'boundary')\n",
        "\n",
        "class BottomBoundary(SubDomain): # Neumann boundary\n",
        "  def inside(self, x, on_boundary):\n",
        "    return on_boundary and near(x[1], 0)\n",
        "\n",
        "class TopBoundary(SubDomain): # Robin boundary\n",
        "  def inside(self, x, on_boundary):\n",
        "    return on_boundary and near(x[1], 1)\n",
        "\n",
        "class LeftBoundary(SubDomain): # Dirichlet boundary\n",
        "  def inside(self, x, on_boundary):\n",
        "    return on_boundary and near(x[0], 0)\n",
        "\n",
        "class RightBoundary(SubDomain): # Dirichlet boundary\n",
        "  def inside(self, x, on_boundary):\n",
        "    return on_boundary and near(x[0], 1)\n",
        "\n",
        "bottom = BottomBoundary()\n",
        "top = TopBoundary()\n",
        "left = LeftBoundary()\n",
        "right = RightBoundary()\n",
        "\n",
        "bottom.mark(boundary_markers, 1)\n",
        "right.mark(boundary_markers, 2)\n",
        "top.mark(boundary_markers, 3)\n",
        "left.mark(boundary_markers, 4)\n",
        "\n",
        "degree = 1\n",
        "V = FunctionSpace(mesh, 'CG', degree)\n",
        "\n",
        "gD = Constant(0.0)\n",
        "bc = [DirichletBC(V, gD, boundary_markers, 2),\n",
        "      DirichletBC(V, gD, boundary_markers, 4)]\n",
        "\n",
        "dx = Measure('dx', domain=mesh)\n",
        "ds = Measure('ds', domain=mesh, subdomain_data=boundary_markers)\n",
        "\n",
        "u = TrialFunction(V)\n",
        "v = TestFunction(V)\n",
        "  \n",
        "k = Constant(1.0)\n",
        "alpha = Constant(1.0)\n",
        "\n",
        "f = Expression('2*pi*pi*sin(pi*x[0])*sin(pi*x[1])', degree=degree+1)\n",
        "gN = Expression('pi*sin(x[0])', degree=degree+1)\n",
        "uR = Expression('-pi*sin(x[0])', degree=degree+1)\n",
        "\n",
        "a = k*dot(grad(u), grad(v))*dx + alpha*u*v*ds(3)\n",
        "L = f*v*dx - gN*v*ds(1) + alpha*uR*v*ds(3)\n",
        "\n",
        "A, b = assemble_system(a, L, bc)\n",
        "\n",
        "u = Function(V)\n",
        "x = u.vector()\n",
        "\n",
        "precon = 'none'\n",
        "tol = 5e-8\n",
        "solver = KrylovSolver('cg', precon)\n",
        "solver.parameters[\"relative_tolerance\"] = tol\n",
        "solver.solve(A, x, b)\n",
        "\n",
        "u = Expression('sin(pi*x[0])*sin(pi*x[1])', degree=degree+2)\n",
        "\n",
        "#plot(x)\n",
        "#plot(mesh)\n",
        "#plt.show()"
      ],
      "execution_count": null,
      "outputs": [
        {
          "output_type": "stream",
          "text": [
            "Calling FFC just-in-time (JIT) compiler, this may take some time.\n"
          ],
          "name": "stdout"
        }
      ]
    },
    {
      "cell_type": "code",
      "metadata": {
        "id": "-TSvGk0-HS2x"
      },
      "source": [],
      "execution_count": null,
      "outputs": []
    }
  ]
}