{
  "cells": [
    {
      "cell_type": "markdown",
      "metadata": {
        "id": "b9XGck1m5dWv"
      },
      "source": [
        "# Unsteady Stokes problem"
      ]
    },
    {
      "cell_type": "markdown",
      "metadata": {
        "id": "O1xXqea05tb7"
      },
      "source": [
        "We consider the unsteady Stokes problem defined in the domain $\\Omega := {[0,1]}^2$ by the following system of PDEs, boundary conditions, and initial conditions: \n",
        "$$\n",
        "\\begin{cases}\n",
        "  \\frac{\\partial \\boldsymbol{u}}{\\partial t} \n",
        "  -\\mu\\boldsymbol{\\Delta} \\boldsymbol{u} + \\boldsymbol{\\nabla} p = \\boldsymbol{f}, \n",
        "  \\qquad&\\text{in }\\Omega\\times(0,1), \\\\\n",
        "  \\boldsymbol{\\nabla} \\cdot \\boldsymbol{u} = 0, \n",
        "  \\qquad &\\text{in }\\Omega\\times(0,1), \\\\\n",
        "  \\boldsymbol{u} = \\boldsymbol{u}_D \\;\\; &{\\rm on} \\ \\Gamma_D\\times(0,1), \\\\\n",
        "  (\\mu\\boldsymbol{\\nabla} \\boldsymbol{u} - p)\\cdot\\boldsymbol{n} = \\boldsymbol{g}_N\\;\\; \n",
        "  &{\\rm on}\\ \\partial\\Omega\\setminus \\Gamma_D\\times(0,1), \\\\\n",
        "  \\boldsymbol{u}(\\cdot,t=0) = \\boldsymbol{u}_0, &\\text{in }\\Omega. \n",
        "\\end{cases}\n",
        "$$\n",
        "\n",
        "In the following test case we consider $\\Gamma_D = \\{\\boldsymbol{x}\\in\\partial\\Omega\\; |\\; x_1 = 0\\} \\cup \\{\\boldsymbol{x}\\in\\partial\\Omega\\; |\\; x_2 = 0\\}.$ \n"
      ]
    },
    {
      "cell_type": "markdown",
      "metadata": {
        "id": "V7b2-sIPK6U6"
      },
      "source": [
        "## Saddle-point weak formulation (primal form)"
      ]
    },
    {
      "cell_type": "markdown",
      "metadata": {
        "id": "LBFw9OJ2K6U6"
      },
      "source": [
        "The weak formulation is derived by testing the first equation with a vector-valued function $\\boldsymbol{v}$ in $H^1_{0,\\Gamma_D}(\\Omega)^d$ and the second equation with $q\\in L^2(\\Omega)$. Assuming, for the sake of simplicity, that $\\boldsymbol{u}_D = \\boldsymbol{0}$, and integrating by parts in the first equation, we end up with the saddle point problem\n",
        "\\begin{align*}\n",
        "\\int_{\\Omega} \\frac{\\partial\\boldsymbol{u}}{\\partial t} \\cdot \\boldsymbol{v} +\n",
        "\\int_{\\Omega} \\mu \\boldsymbol{\\nabla} \\boldsymbol{u} \\cdot \\boldsymbol{\\nabla} \\boldsymbol{v}\n",
        "- (\\boldsymbol{\\nabla} \\cdot \\boldsymbol{v}) \\ p \\ {\\rm d} x\n",
        "&= \\int_{\\Omega} \\boldsymbol{f} \\cdot \\boldsymbol{v} \\, {\\rm d} x + \\int_{\\Gamma_N} \\boldsymbol{g}_N \\cdot \\boldsymbol{v} \\, {\\rm d} s. \\\\\n",
        "\\int_\\Omega (\\boldsymbol{\\nabla} \\cdot \\boldsymbol{u}) \\ q \\ {\\rm d} x &= 0\n",
        "\\end{align*}\n",
        "\n",
        "Defining $a: H^1_{0,\\Gamma_D}(\\Omega)^d\\times H^1_{0,\\Gamma_D}(\\Omega)^d\\to\\mathbb{R}$ and $b:H^1_{0,\\Gamma_D}(\\Omega)^d\\times L^2(\\Omega)\\to\\mathbb{R}$ such that\n",
        "\\begin{align*}\n",
        "a(\\boldsymbol{v},\\boldsymbol{w}) &:=\\int_{\\Omega} \\mu \\boldsymbol{\\nabla} \\boldsymbol{v} \\cdot \\boldsymbol{\\nabla} \\boldsymbol{w}\\  {\\rm d} x, \n",
        "\\quad\\forall\\ v,w\\in H^1_{0,\\Gamma_D}(\\Omega)^d \\\\ \n",
        "b(\\boldsymbol{v},q) &:= -\\int_\\Omega (\\boldsymbol{\\nabla} \\cdot \\boldsymbol{v}) \\ q \\ {\\rm d} x, \\quad\\forall\\ v\\in H^1_{0,\\Gamma_D}(\\Omega)^d \\;\\text{and}\\; \\forall\\ q\\in L^2(\\Omega),\n",
        "\\end{align*}\n",
        "\n",
        "the weak form of Stokes problem reads: For all $t\\in (0,1)$, find $(u,p)(t)$ such that\n",
        "\n",
        "\\begin{align*}\n",
        "\\left(\\frac{\\partial\\boldsymbol{u}}{\\partial t}, \\boldsymbol{v}\\right)_\\Omega +\n",
        "a(\\boldsymbol{u},\\boldsymbol{v}) + b(\\boldsymbol{v},p)\n",
        "&= \\int_{\\Omega} \\boldsymbol{f} \\cdot \\boldsymbol{v} \\, {\\rm d} x + \\int_{\\Gamma_N} \\boldsymbol{g}_N \\cdot \\boldsymbol{v} \\, {\\rm d} s. \\\\\n",
        "b(\\boldsymbol{u},q) &= 0.\n",
        "\\end{align*}"
      ]
    },
    {
      "cell_type": "markdown",
      "metadata": {
        "id": "TXvkGWw39CRV"
      },
      "source": [
        "## Numerical solution with discontinuous Galerkin method in FEniCS I"
      ]
    },
    {
      "cell_type": "code",
      "source": [
        "%%capture\n",
        "try:\n",
        "    import dolfin\n",
        "except ImportError:\n",
        "    !wget \"https://fem-on-colab.github.io/releases/fenics-install.sh\" -O \"/tmp/fenics-install.sh\" && bash \"/tmp/fenics-install.sh\"\n",
        "    import dolfin"
      ],
      "metadata": {
        "id": "OzgUb4L9K9nT"
      },
      "execution_count": null,
      "outputs": []
    },
    {
      "cell_type": "code",
      "execution_count": null,
      "metadata": {
        "id": "eC5R9QJL5xck"
      },
      "outputs": [],
      "source": [
        "from fenics import *\n",
        "from mshr import *\n",
        "import matplotlib.pyplot as plt\n",
        "import numpy as np"
      ]
    },
    {
      "cell_type": "code",
      "execution_count": null,
      "metadata": {
        "id": "j7ZXyNjJK6U8"
      },
      "outputs": [],
      "source": [
        "def dg_stokes(n, deg, dt, mu, u_exact, p_exact, f, gNt, gNr):    \n",
        "    # 1. generate the mesh and mark the boundaries\n",
        "    # mesh = UnitSquareMesh(n, n, 'crossed')\n",
        "    square = Rectangle(Point(0.0, 0.0), Point(1.0, 1.0))\n",
        "    mesh = generate_mesh(square, n)\n",
        "    \n",
        "    boundary_markers = MeshFunction('size_t', mesh, mesh.geometric_dimension()-1, 0)\n",
        "\n",
        "    class top_boundary(SubDomain):\n",
        "        def inside(self, x, on_boundary):\n",
        "            return on_boundary and near(x[1], 1)\n",
        "\n",
        "    class right_boundary(SubDomain):\n",
        "        def inside(self, x, on_boundary):\n",
        "            return on_boundary and near(x[0], 1)\n",
        "\n",
        "    class other_boundary(SubDomain):\n",
        "        def inside(self, x, on_boundary):\n",
        "            return near(x[0], 0) or near(x[1], 0)\n",
        "\n",
        "    top = top_boundary()\n",
        "    top.mark(boundary_markers, 1)\n",
        "    right = right_boundary()\n",
        "    right.mark(boundary_markers, 2)\n",
        "    other = other_boundary()\n",
        "    other.mark(boundary_markers, 3)\n",
        "    \n",
        "    ds = Measure('ds', domain=mesh, subdomain_data=boundary_markers)\n",
        "\n",
        "    # 2. finite element space\n",
        "    V = VectorElement('DG', mesh.ufl_cell(), deg)\n",
        "    Q = FiniteElement('DG', mesh.ufl_cell(), deg-1)\n",
        "    X = FunctionSpace(mesh, V * Q)\n",
        "\n",
        "    # 3. problem definition\n",
        "    u, p = TrialFunctions(X)\n",
        "    v, q = TestFunctions(X)\n",
        "    x_old = Function(X)\n",
        "    u_old, p_old = split(x_old)\n",
        "    \n",
        "    n = FacetNormal(mesh)\n",
        "    h = CellDiameter(mesh)\n",
        "    h_avg = (h('+') + h('-'))/2\n",
        "    alpha = 10.1*mu*deg**2\n",
        "    beta = 2.1/deg\n",
        "\n",
        "    a = (dot(u, v)/Constant(dt))*dx  \\\n",
        "      + (mu*inner(grad(u), grad(v)) - p*div(v) + div(u)*q)*dx  \\\n",
        "      - inner(jump(u, n), avg(q))*dS + inner(jump(v, n), avg(p))*dS \\\n",
        "      - inner(u, n)*q*ds(3) + inner(v, n)*p*ds(3) \\\n",
        "      - inner(dot(avg(mu*grad(u)), n('+')), jump(v))*dS - inner(jump(u), dot(mu*avg(grad(v)), n('+')))*dS \\\n",
        "      - inner(dot(mu*grad(u), n), v)*ds(3) - inner(u, dot(mu*grad(v), n))*ds(3) \\\n",
        "      + alpha/h_avg*inner(jump(u), jump(v))*dS + alpha/h*inner(u, v)*ds(3) \\\n",
        "      + beta*h_avg*jump(p)*jump(q)*dS \n",
        "\n",
        "    L = (dot(u_old, v)/Constant(dt)) * dx + dot(f, v) * dx + dot(gNt, v) * ds(1) + dot(gNr, v) * ds(2)\n",
        "    \n",
        "    # 4. solution\n",
        "    A = assemble(a)\n",
        "    Ainv = LUSolver(A)\n",
        "\n",
        "    time = 0.0\n",
        "    max_eH1 = 0.0\n",
        "    max_eL2 = 0.0\n",
        "\n",
        "    while time < 1.0:\n",
        "        time += dt\n",
        "        f.t = time\n",
        "        gNt.t = time\n",
        "        gNr.t = time\n",
        "        u_exact.t = time\n",
        "        p_exact.t = time\n",
        "        \n",
        "        b = assemble(L)\n",
        "        Ainv.solve(x_old.vector(), b)\n",
        "        u_old, p_old = x_old.split()\n",
        "  \n",
        "        eH1 = errornorm(u_exact, u_old, 'H1')\n",
        "        eL2 = errornorm(p_exact, p_old, 'L2')\n",
        "        #print('time={:.2} eH1={:.3e} eL2={:.3e}'.format(time, eH1, eL2))\n",
        "  \n",
        "        max_eH1 = max(max_eH1, eH1)\n",
        "        max_eL2 = max(max_eL2, eL2)\n",
        "    \n",
        "    return max_eH1, max_eL2"
      ]
    },
    {
      "cell_type": "markdown",
      "metadata": {
        "id": "t5EtEx37K6U9"
      },
      "source": [
        "## Exact Solution for convergence test I"
      ]
    },
    {
      "cell_type": "markdown",
      "metadata": {
        "id": "TucfThbzK6U9"
      },
      "source": [
        "Compute the functions $\\boldsymbol{f}$, $\\boldsymbol{g}_N$, $\\boldsymbol{u}_D$ and $\\boldsymbol{u}_0$ corresponding to the analytical solution\n",
        "$$\n",
        "            \\boldsymbol{u}(x,y) = \\sin(2t) \\begin{bmatrix}(1-\\cos(\\pi x))\\sin(\\pi y) \\\\ \\sin(\\pi x)(\\cos(\\pi y)-1)\\end{bmatrix},\n",
        "            \\qquad\n",
        "            p(x,y) = -\\frac{\\sin(2t)}{4}(\\cos{(2\\pi x)}+\\cos{(2\\pi y)}).\n",
        "$$\n",
        "\n",
        "Assess the convergence, measuring the errors as \n",
        "$$\n",
        "{\\rm err}_u = \\max_{t\\in(0,1]}||\\boldsymbol{u} - \\boldsymbol{u}_h||_{H^1(\\Omega)}, \n",
        "\\quad\\text{ and}\\quad {\\rm err}_p = \\max_{t\\in(0,1]}||p - p_h||_ {L^2(\\Omega)}.\n",
        "$$"
      ]
    },
    {
      "cell_type": "code",
      "execution_count": null,
      "metadata": {
        "colab": {
          "base_uri": "https://localhost:8080/"
        },
        "id": "yLPNW6NZK6U-",
        "outputId": "af84977c-fe41-42dc-b848-e6140956ed98"
      },
      "outputs": [
        {
          "output_type": "stream",
          "name": "stdout",
          "text": [
            "errors: u_H1=4.509e-01 p_L2=1.113e-01\n",
            "errors: u_H1=2.253e-01 p_L2=4.801e-02\n",
            "errors: u_H1=1.153e-01 p_L2=1.850e-02\n",
            "errors: u_H1=5.943e-02 p_L2=1.023e-02\n"
          ]
        }
      ],
      "source": [
        "u_exact = Expression((\n",
        "    '(1.0-cos(pi*x[0])) * sin(pi*x[1]) * sin(2 * t)',\n",
        "    'sin(pi*x[0]) * (cos(pi*x[1])-1.0) * sin(2 * t)'\n",
        "), degree=4, t=0.0)\n",
        "p_exact = Expression(\n",
        "    '-0.25 * (cos(2*pi*x[0]) + cos(2*pi*x[1])) * sin(2 * t)',\n",
        "    degree=4, t=0.0)\n",
        "\n",
        "mu = Constant(1.0)\n",
        "f = Expression((\n",
        "        'mu*pi*pi*sin(pi*x[1])*(1-2*cos(pi*x[0]))*sin(2*t) + 0.5*pi*sin(2*pi*x[0])*sin(2*t) + 2*(1-cos(pi*x[0]))*sin(pi*x[1])*cos(2*t)',\n",
        "        'mu*pi*pi*sin(pi*x[0])*(2*cos(pi*x[1])-1)*sin(2*t) + 0.5*pi*sin(2*pi*x[1])*sin(2*t) + 2*sin(pi*x[0])*(cos(pi*x[1])-1)*cos(2*t)'\n",
        "               ), degree=2, t=0.0, mu=mu)\n",
        "gNt = Expression(('mu * pi * (cos(pi*x[0])-1.0) * sin(2*t)', '0.25 * (cos(2*pi*x[0]) + cos(2*pi*x[1])) * sin(2*t)'\n",
        "                 ), degree=2, t=0.0, mu=mu)\n",
        "gNr = Expression(('0.25 * (cos(2*pi*x[0]) + cos(2*pi*x[1])) * sin(2*t)', 'mu * pi * (1.0-cos(pi*x[1])) * sin(2*t)'\n",
        "                 ), degree=2, t=0.0, mu=mu)\n",
        "\n",
        "degree = 1\n",
        "dt = 0.02\n",
        "for n in [8, 16, 32, 64]:\n",
        "    euH1, epL2 = dg_stokes(n, degree, dt, mu, u_exact, p_exact, f, gNt, gNr)\n",
        "    print('errors: u_H1={:.3e} p_L2={:.3e}'.format(euH1, epL2))"
      ]
    },
    {
      "cell_type": "markdown",
      "metadata": {
        "id": "EQYdWGWBK6U-"
      },
      "source": [
        "## Pseudostress weak formulation (dual form)"
      ]
    },
    {
      "cell_type": "markdown",
      "metadata": {
        "id": "FlnUl_zmK6U_"
      },
      "source": [
        "We rewrite the Stokes problem in a different form by introducing the stress $\\boldsymbol{\\sigma}(\\boldsymbol{u},p) = \\mu\\boldsymbol{\\nabla}\\boldsymbol{u} - p\\mathbb{I}_d$ as additional variable. Then, the Stokes system reads\n",
        "\n",
        "$$\n",
        "\\begin{cases}\n",
        "  \\frac{\\partial \\boldsymbol{u}}{\\partial t} \n",
        "  -\\boldsymbol{\\nabla}\\cdot\\boldsymbol{\\sigma} = \\boldsymbol{f}, \n",
        "  \\qquad&\\text{in }\\Omega\\times(0,1), \\\\\n",
        "  \\mu^{-1}{\\rm dev}(\\boldsymbol{\\sigma}) - \\boldsymbol{\\nabla}\\boldsymbol{u} = 0, \n",
        "  \\qquad &\\text{in }\\Omega\\times(0,1), \\\\\n",
        "  \\boldsymbol{u} = \\boldsymbol{u}_D \\;\\; &{\\rm on} \\ \\Gamma_D\\times(0,1), \\\\\n",
        "  \\boldsymbol{\\sigma}\\cdot\\boldsymbol{n} = \\boldsymbol{g}_N\\;\\; \n",
        "  &{\\rm on}\\ \\partial\\Omega\\setminus \\Gamma_D\\times(0,1), \\\\\n",
        "  \\boldsymbol{\\sigma}(\\cdot,t=0) = \\boldsymbol{\\sigma}_0, &\\text{in }\\Omega, \n",
        "\\end{cases}\n",
        "$$\n",
        "\n",
        "where the deviatioric operator is defined such that \n",
        "${\\rm dev}(\\boldsymbol{\\tau}) = \\boldsymbol{\\tau} - \\frac1d {\\rm tr}(\\boldsymbol{\\tau})\\mathbb{I}_d$.\n",
        "Notice that the incompressibility constraint $\\boldsymbol{\\nabla}\\cdot\\boldsymbol{u} = 0$ is enforced through the second equation of the previous system that yields ${\\rm tr}(\\boldsymbol{\\nabla}\\boldsymbol{u}) = \\boldsymbol{\\nabla}\\cdot\\boldsymbol{u} = 0$. \n",
        "\n",
        "We remark that we have also replaced the initial condition on $\\boldsymbol{u}(\\cdot,t=0)$ with a condition on $\\boldsymbol{\\sigma}(\\cdot,t=0)$. This can be done under the assumption that the velocity and pressure solution are sufficiently regular. Finally, we point out that the pressure can be recoverd from the stress according to $p = -\\frac1d {\\rm tr}(\\boldsymbol{\\sigma})$."
      ]
    },
    {
      "cell_type": "markdown",
      "metadata": {
        "id": "nol11euAK6U_"
      },
      "source": [
        "Assuming enough regularity of the problem data and solution, we can derive in time the second and third equations and plug the expression of $\\frac{\\partial \\boldsymbol{u}}{\\partial t}$ that we get from the first equation into the second one. Thus, we obtain\n",
        "\n",
        "$$\n",
        "\\begin{cases}\n",
        "  \\mu^{-1}\\frac{\\partial}{\\partial t} {\\rm dev}(\\boldsymbol{\\sigma})\n",
        "  - \\boldsymbol{\\nabla}\\left(\\boldsymbol{\\nabla}\\cdot\\boldsymbol{\\sigma}\\right)=\\boldsymbol{F}, \n",
        "  \\qquad &\\text{in }\\Omega\\times(0,1), \\\\\n",
        "  \\boldsymbol{\\nabla}\\cdot\\boldsymbol{\\sigma}=\\boldsymbol{g}_D \\;\\; &{\\rm on}\\ \\Gamma_D\\times(0,1), \\\\\n",
        "  \\boldsymbol{\\sigma}\\cdot\\boldsymbol{n} = \\boldsymbol{g}_N\\;\\; \n",
        "  &{\\rm on}\\ \\partial\\Omega\\setminus \\Gamma_D\\times(0,1), \\\\\n",
        "  \\boldsymbol{\\sigma}(\\cdot,t=0) = \\boldsymbol{\\sigma}_0, &\\text{in }\\Omega, \n",
        "\\end{cases}\n",
        "$$\n",
        "\n",
        "with $\\boldsymbol{F}= \\boldsymbol{\\nabla}\\boldsymbol{f}$ and $\\boldsymbol{g}_D = \\frac{\\partial\\boldsymbol{u}_D}{\\partial t}-\\boldsymbol{f}$. In this way, we reformulated the problem only in the pseudostress variable $\\boldsymbol{\\sigma}$."
      ]
    },
    {
      "cell_type": "markdown",
      "metadata": {
        "id": "BgE2euMzK6U_"
      },
      "source": [
        "For simplicity, we assume that $\\boldsymbol{g}_N=\\boldsymbol{0}$, so that we can define the functional space for the pseudostress tensor field $\\boldsymbol{\\sigma}$ as $$\\boldsymbol{H}_{0,\\Gamma_n}({\\rm div}, \\Omega)^d = \\{\\boldsymbol{\\eta}\\in\\boldsymbol{H}({\\rm div}, \\Omega)^d \\;|\\; \\boldsymbol{\\eta}\\cdot\\boldsymbol{n}=0 \\; \\text{on}\\; \\Gamma_N\\}.$$ \n",
        "\n",
        "Testing the first equation with $\\boldsymbol{\\tau}\\in \\boldsymbol{H}_{0,\\Gamma_n}({\\rm div}, \\Omega)^d$ and integrating by parts we obtain the following dual weak formulation of the Stokes problem:\n",
        "\n",
        "\\begin{align*}\n",
        "\\int_{\\Omega} \\mu^{-1} \\frac{\\partial{\\rm dev}(\\boldsymbol{\\sigma})}{\\partial t} : {\\rm dev}(\\boldsymbol{\\tau}) \n",
        "+ \\int_{\\Omega} (\\boldsymbol{\\nabla}\\cdot\\boldsymbol{\\sigma}) \\cdot (\\boldsymbol{\\nabla}\\cdot\\boldsymbol{\\tau})\n",
        "\\ {\\rm d} x\n",
        "    &= \\int_{\\Omega} \\boldsymbol{F} : \\boldsymbol{\\tau} \\, {\\rm d} x \n",
        "    + \\int_{\\Gamma_D} \\boldsymbol{g}_D \\cdot \\boldsymbol{\\tau}\\boldsymbol{n} \\, {\\rm d} s, \n",
        "\\end{align*}"
      ]
    },
    {
      "cell_type": "markdown",
      "metadata": {
        "id": "vtuZAbs0K6U_"
      },
      "source": [
        "## Numerical solution with discontinuous Galerkin method in FEniCS II"
      ]
    },
    {
      "cell_type": "code",
      "execution_count": null,
      "metadata": {
        "id": "cejpOrhcK6U_"
      },
      "outputs": [],
      "source": [
        "def dg_psstokes(n, deg, dt, mu, s_exact, f, gD):    \n",
        "    # 1. generate the mesh and mark the boundaries\n",
        "    square = Rectangle(Point(0.0, 0.0), Point(1.0, 1.0))\n",
        "    mesh = generate_mesh(square, n)    \n",
        "    boundary_markers = MeshFunction('size_t', mesh, mesh.geometric_dimension()-1, 0)\n",
        "\n",
        "    class top_boundary(SubDomain):\n",
        "        def inside(self, x, on_boundary):\n",
        "            return on_boundary and near(x[1], 1)\n",
        "\n",
        "    class right_boundary(SubDomain):\n",
        "        def inside(self, x, on_boundary):\n",
        "            return on_boundary and near(x[0], 1)\n",
        "\n",
        "    class other_boundary(SubDomain):\n",
        "        def inside(self, x, on_boundary):\n",
        "            return near(x[0], 0) or near(x[1], 0)\n",
        "\n",
        "    top = top_boundary()\n",
        "    top.mark(boundary_markers, 1)\n",
        "    right = right_boundary()\n",
        "    right.mark(boundary_markers, 2)\n",
        "    other = other_boundary()\n",
        "    other.mark(boundary_markers, 3)\n",
        "    \n",
        "    ds = Measure('ds', domain=mesh, subdomain_data=boundary_markers)\n",
        "\n",
        "    # 2. finite element space\n",
        "    S = TensorFunctionSpace(mesh, 'DG', deg)\n",
        "\n",
        "    # 3. problem definition\n",
        "    s = TrialFunction(S)\n",
        "    r = TestFunction(S)\n",
        "    s_old = Function(S)\n",
        "    \n",
        "    n = FacetNormal(mesh)\n",
        "    h = CellDiameter(mesh)\n",
        "    h_avg = (h('+') + h('-'))/2\n",
        "    alpha = 10.1*deg**2\n",
        "\n",
        "    a = inner(dev(s), dev(r))/(mu*Constant(dt)) * dx + dot(div(s), div(r)) * dx  \\\n",
        "      - dot(avg(div(s)), jump(r, n)) * dS - dot(jump(s, n), avg(div(r))) * dS \\\n",
        "      - dot(div(s), dot(r, n)) * ds(3) - dot(dot(s, n), div(r)) * ds(3) \\\n",
        "      + alpha/h_avg * dot(jump(s, n), jump(r, n)) * dS \\\n",
        "      + alpha/h*dot(dot(s, n), dot(r, n)) * ds(3)  \n",
        "\n",
        "    L = (inner(dev(s_old), dev(r))/(mu*Constant(dt)) + inner(f, r)) * dx + dot(gD, dot(r, n)) * (ds(1)+ds(2))\n",
        "    \n",
        "    # 4. solution\n",
        "    A = assemble(a)\n",
        "    Ainv = LUSolver(A)\n",
        "\n",
        "    time = 0.0\n",
        "    max_eHd = 0.0\n",
        "    max_eL2 = 0.0\n",
        "\n",
        "    while time < 1.0:\n",
        "        time += dt\n",
        "        f.t = time\n",
        "        gD.t = time\n",
        "        s_exact.t = time       \n",
        "        b = assemble(L)\n",
        "        Ainv.solve(s_old.vector(), b)\n",
        "  \n",
        "        eHd = errornorm(s_exact, s_old, 'Hdiv0')\n",
        "        eL2 = errornorm(s_exact, s_old, 'L2')\n",
        "        max_eHd = max(max_eHd, eHd)\n",
        "        max_eL2 = max(max_eL2, eL2)\n",
        "    \n",
        "    return max_eHd, max_eL2"
      ]
    },
    {
      "cell_type": "markdown",
      "metadata": {
        "id": "p-Rp341UK6VA"
      },
      "source": [
        "## Exact Solution for convergence test II"
      ]
    },
    {
      "cell_type": "markdown",
      "metadata": {
        "id": "O_W6XKMoK6VA"
      },
      "source": [
        "Compute the functions $\\boldsymbol{F}$, $\\boldsymbol{g}_D$, $\\boldsymbol{g}_N$ and $\\boldsymbol{\\sigma}_0$ corresponding to the analytical solution\n",
        "$$\n",
        "            \\boldsymbol{\\sigma}(x,y) = \\sin(2t) \\begin{bmatrix}\\sin(\\pi x)\\sin(\\pi y) & 0 \\\\ 0 & -\\sin(\\pi x)\\sin(\\pi y)\\end{bmatrix}.           \n",
        "$$\n",
        "\n",
        "Assess the convergence, measuring the errors as \n",
        "$$\n",
        "{\\rm err}_{\\rm div} = \\max_{t\\in(0,1]}||\\boldsymbol{\\sigma} - \\boldsymbol{\\sigma}_h||_{H({\\rm div},\\Omega)}, \n",
        "\\quad\\text{ and}\\quad {\\rm err}_{L2} = \\max_{t\\in(0,1]}||\\boldsymbol{\\sigma} - \\boldsymbol{\\sigma}_h||_ {L^2(\\Omega)}.\n",
        "$$"
      ]
    },
    {
      "cell_type": "code",
      "execution_count": null,
      "metadata": {
        "colab": {
          "base_uri": "https://localhost:8080/"
        },
        "id": "WC0lVW6rK6VA",
        "outputId": "fc260bba-f2a0-46e4-e7a1-1b6ca76bbad8"
      },
      "outputs": [
        {
          "output_type": "stream",
          "name": "stdout",
          "text": [
            "errors: s_Hdiv=4.641e-01 s_L2=4.138e-02\n",
            "errors: s_Hdiv=2.330e-01 s_L2=8.362e-03\n",
            "errors: s_Hdiv=1.170e-01 s_L2=2.391e-03\n"
          ]
        }
      ],
      "source": [
        "s_exact = Expression((\n",
        "    ('sin(pi*x[0]) * sin(pi*x[1]) * sin(2*t)', '0'),\n",
        "    ('0', '-sin(pi*x[0]) * sin(pi*x[1]) * sin(2*t)')\n",
        "), degree=4, t=0.0)\n",
        "\n",
        "mu = Constant(1.0)\n",
        "f = Expression((\n",
        "        ('pi*pi*sin(pi*x[0])*sin(pi*x[1])*sin(2*t) + 2*cos(2*t)*sin(pi*x[0])*sin(pi*x[1])/mu', '-pi*pi*cos(pi*x[0])*cos(pi*x[1])*sin(2*t)'),\n",
        "        ('pi*pi*cos(pi*x[0])*cos(pi*x[1])*sin(2*t)', '-pi*pi*sin(pi*x[0])*sin(pi*x[1])*sin(2*t) - 2*cos(2*t)*sin(pi*x[0])*sin(pi*x[1])/mu')\n",
        "               ), degree=2, t=0.0, mu=mu)\n",
        "gD = Expression(('pi*cos(pi*x[0])*sin(pi*x[1])*sin(2*t)', '-pi*sin(pi*x[0])*cos(pi*x[1])*sin(2*t)'), degree=2, t=0)\n",
        "\n",
        "degree = 1\n",
        "dt = 0.002\n",
        "for n in [4, 8, 16]:\n",
        "    esHd, esL2 = dg_psstokes(n, degree, dt, mu, s_exact, f, gD)\n",
        "    print('errors: s_Hdiv={:.3e} s_L2={:.3e}'.format(esHd, esL2))"
      ]
    },
    {
      "cell_type": "markdown",
      "metadata": {
        "id": "0h_Obo6fK6VA"
      },
      "source": [
        "## Weakly-symmetric stress variational formulation (dual form)"
      ]
    },
    {
      "cell_type": "markdown",
      "metadata": {
        "id": "5drmZ8peK6VB"
      },
      "source": [
        "We consider the dual formulation of the previous case but as primary variable we consider the physical stress \n",
        "$$\n",
        "\\boldsymbol{\\sigma}_{\\rm phy}(\\boldsymbol{u},p) = \\mu\\boldsymbol{\\nabla}_{\\rm s}\\boldsymbol{u} - p\\mathbb{I}_d\n",
        "= \\boldsymbol{\\sigma} + {\\rm dev} (\\boldsymbol{\\sigma})^T,\n",
        "$$\n",
        "which is a symmetric tensor. The symmetry constraint is enforced weakly in order to ensure the stability of the method without compromising the convergence performance."
      ]
    },
    {
      "cell_type": "code",
      "execution_count": null,
      "metadata": {
        "id": "U9I5my25K6VB"
      },
      "outputs": [],
      "source": [
        "def dg_wsstokes(n, deg, dt, mu, s_exact, f, gD):    \n",
        "    # 1. generate the mesh and mark the boundaries\n",
        "    square = Rectangle(Point(0.0, 0.0), Point(1.0, 1.0))\n",
        "    mesh = generate_mesh(square, n)    \n",
        "    boundary_markers = MeshFunction('size_t', mesh, mesh.geometric_dimension()-1, 0)\n",
        "\n",
        "    class top_boundary(SubDomain):\n",
        "        def inside(self, x, on_boundary):\n",
        "            return on_boundary and near(x[1], 1)\n",
        "\n",
        "    class right_boundary(SubDomain):\n",
        "        def inside(self, x, on_boundary):\n",
        "            return on_boundary and near(x[0], 1)\n",
        "\n",
        "    class other_boundary(SubDomain):\n",
        "        def inside(self, x, on_boundary):\n",
        "            return near(x[0], 0) or near(x[1], 0)\n",
        "\n",
        "    top = top_boundary()\n",
        "    top.mark(boundary_markers, 1)\n",
        "    right = right_boundary()\n",
        "    right.mark(boundary_markers, 2)\n",
        "    other = other_boundary()\n",
        "    other.mark(boundary_markers, 3)  \n",
        "    ds = Measure('ds', domain=mesh, subdomain_data=boundary_markers)\n",
        "\n",
        "    # 2. finite element space \n",
        "    S = TensorElement('DG', mesh.ufl_cell(), deg)\n",
        "    Q = FiniteElement('DG', mesh.ufl_cell(), deg-1)\n",
        "    X = FunctionSpace(mesh, MixedElement([S, Q]))\n",
        "\n",
        "    # 3. problem definition\n",
        "    s, q = TrialFunctions(X)\n",
        "    r, p = TestFunctions(X)\n",
        "    x_old = Function(X)\n",
        "    s_old, q_old = split(x_old)\n",
        "    \n",
        "    n = FacetNormal(mesh)\n",
        "    h = CellDiameter(mesh)\n",
        "    h_avg = (h('+') + h('-'))/2\n",
        "    alpha = 10.1*deg**2\n",
        "\n",
        "    a = inner(dev(s), dev(r))/(mu*Constant(dt)) * dx + dot(div(s), div(r)) * dx  \\\n",
        "      - dot(avg(div(s)), jump(r, n)) * dS - dot(jump(s, n), avg(div(r))) * dS \\\n",
        "      - dot(div(s), dot(r, n)) * ds(3) - dot(dot(s, n), div(r)) * ds(3) \\\n",
        "      + alpha/h_avg * dot(jump(s, n), jump(r, n)) * dS \\\n",
        "      + alpha/h*dot(dot(s, n), dot(r, n)) * ds(3) \\\n",
        "      + (p * (s[0,1] - s[1,0]) + q * (r[0,1] - r[1,0])) * dx\n",
        "\n",
        "    L = (inner(dev(s_old), dev(r))/(mu*Constant(dt)) + inner(f, r)) * dx + dot(gD, dot(r, n)) * (ds(1)+ds(2))\n",
        "    \n",
        "    # 4. solution\n",
        "    A = assemble(a)\n",
        "    Ainv = LUSolver(A)\n",
        "\n",
        "    time = 0.0\n",
        "    max_eHd = 0.0\n",
        "    max_eL2 = 0.0\n",
        "    max_eLq = 0.0\n",
        "\n",
        "    while time < 1.0:\n",
        "        time += dt\n",
        "        f.t = time\n",
        "        gD.t = time\n",
        "        s_exact.t = time       \n",
        "        b = assemble(L)\n",
        "        Ainv.solve(x_old.vector(), b)\n",
        "        s_old, q_old = x_old.split()\n",
        "  \n",
        "        eHd = errornorm(s_exact, s_old, 'Hdiv0')\n",
        "        eL2 = errornorm(s_exact, s_old, 'L2')\n",
        "        eLq = norm(q_old, 'L2')\n",
        "        max_eHd = max(max_eHd, eHd)\n",
        "        max_eL2 = max(max_eL2, eL2)\n",
        "        max_eLq = max(max_eLq, eLq)\n",
        "    \n",
        "    return max_eHd, max_eL2, max_eLq"
      ]
    },
    {
      "cell_type": "markdown",
      "metadata": {
        "id": "zpb3BYSKK6VB"
      },
      "source": [
        "The **exact solution** is the same as in the previous convergence test case."
      ]
    },
    {
      "cell_type": "code",
      "execution_count": null,
      "metadata": {
        "colab": {
          "base_uri": "https://localhost:8080/"
        },
        "id": "0mofBstsK6VB",
        "outputId": "0a9ee790-79b6-4bf0-e46c-195d300ff001"
      },
      "outputs": [
        {
          "output_type": "stream",
          "name": "stdout",
          "text": [
            "errors: s_Hdiv=4.641e-01 s_L2=4.043e-02 q_L2=1.337e-02\n",
            "errors: s_Hdiv=2.330e-01 s_L2=9.115e-03 q_L2=4.831e-03\n",
            "errors: s_Hdiv=1.170e-01 s_L2=4.171e-03 q_L2=3.686e-03\n"
          ]
        }
      ],
      "source": [
        "s_exact = Expression((('sin(pi*x[0]) * sin(pi*x[1]) * sin(2*t)', '0'),\n",
        "                      ('0', '-sin(pi*x[0]) * sin(pi*x[1]) * sin(2*t)')), degree=5, t=0.0)\n",
        "mu = Constant(1.0)\n",
        "f = Expression((\n",
        "        ('pi*pi*sin(pi*x[0])*sin(pi*x[1])*sin(2*t) + 2*cos(2*t)*sin(pi*x[0])*sin(pi*x[1])/mu', '-pi*pi*cos(pi*x[0])*cos(pi*x[1])*sin(2*t)'),\n",
        "        ('pi*pi*cos(pi*x[0])*cos(pi*x[1])*sin(2*t)', '-pi*pi*sin(pi*x[0])*sin(pi*x[1])*sin(2*t) - 2*cos(2*t)*sin(pi*x[0])*sin(pi*x[1])/mu')\n",
        "               ), degree=2, t=0.0, mu=mu)\n",
        "gD = Expression(('pi*cos(pi*x[0])*sin(pi*x[1])*sin(2*t)', '-pi*sin(pi*x[0])*cos(pi*x[1])*sin(2*t)'), degree=2, t=0)\n",
        "\n",
        "degree = 1\n",
        "dt = 0.005\n",
        "for n in [4, 8, 16]:\n",
        "    esHd, esL2, eqL2 = dg_wsstokes(n, degree, dt, mu, s_exact, f, gD)\n",
        "    print('errors: s_Hdiv={:.3e} s_L2={:.3e} q_L2={:.3e}'.format(esHd, esL2, eqL2))"
      ]
    }
  ],
  "metadata": {
    "colab": {
      "collapsed_sections": [],
      "name": "dGUnsteadyStokes_ConvergenceTest.ipynb",
      "provenance": []
    },
    "kernelspec": {
      "display_name": "Python 3 (ipykernel)",
      "language": "python",
      "name": "python3"
    },
    "language_info": {
      "codemirror_mode": {
        "name": "ipython",
        "version": 3
      },
      "file_extension": ".py",
      "mimetype": "text/x-python",
      "name": "python",
      "nbconvert_exporter": "python",
      "pygments_lexer": "ipython3",
      "version": "3.7.12"
    }
  },
  "nbformat": 4,
  "nbformat_minor": 0
}