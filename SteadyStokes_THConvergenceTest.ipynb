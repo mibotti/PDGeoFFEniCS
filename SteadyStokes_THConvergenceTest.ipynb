{
  "nbformat": 4,
  "nbformat_minor": 0,
  "metadata": {
    "colab": {
      "name": "Lab7_Ex1.ipynb",
      "provenance": [],
      "collapsed_sections": []
    },
    "kernelspec": {
      "name": "python3",
      "display_name": "Python 3"
    }
  },
  "cells": [
    {
      "cell_type": "markdown",
      "metadata": {
        "id": "O6JMFzfjr16z"
      },
      "source": [
        "# The Stokes problem"
      ]
    },
    {
      "cell_type": "markdown",
      "metadata": {
        "id": "xwytkxS6LD1N"
      },
      "source": [
        "On the unit square domain $\\Omega$, we consider the Stokes equations"
      ]
    },
    {
      "cell_type": "markdown",
      "metadata": {
        "id": "pUvsjyFsKjuM"
      },
      "source": [
        "\\begin{align*} \n",
        "- \\boldsymbol{\\nabla} \\cdot (\\boldsymbol{\\nabla} \\boldsymbol{u} - p I) &= \\boldsymbol{f} \\quad {\\rm in} \\ \\Omega, \\\\ \n",
        "\\boldsymbol{\\nabla} \\cdot \\boldsymbol{u} &= 0 \\quad {\\rm in} \\ \\Omega. \\\\ \n",
        "\\end{align*}"
      ]
    },
    {
      "cell_type": "markdown",
      "metadata": {
        "id": "_OrnBlXrKzmg"
      },
      "source": [
        "A typical set of boundary conditions on the boundary $\\partial \\Omega = \\Gamma_{D} \\cup \\Gamma_{N}$ can be:\n",
        "\\begin{align*} \\boldsymbol{u} &= \\boldsymbol{u}_0 \\quad {\\rm on} \\ \\Gamma_{D}, \\\\ \\boldsymbol{\\nabla} \\boldsymbol{u} \\cdot \\boldsymbol{n} + p \\boldsymbol{n} &= \\boldsymbol{g}_N \\, \\quad\\;\\; {\\rm on} \\ \\Gamma_{N}. \\\\ \\end{align*}"
      ]
    },
    {
      "cell_type": "markdown",
      "metadata": {
        "id": "Sv6EReoKLQNg"
      },
      "source": [
        "## Weak formulation"
      ]
    },
    {
      "cell_type": "markdown",
      "metadata": {
        "id": "mmtLj8rxLSZb"
      },
      "source": [
        "The weak formulation is derived by testing the first equation with a vector-valued function $\\boldsymbol{v}$ in $H^1_0(\\Omega)^d$ and the second equation with $q\\in L^2(\\Omega)$. Assuming, for the sake of simplicity, that $\\boldsymbol{u}_D = \\boldsymbol{0}$, and integrating by parts in the first equation, we end up with the saddle point problem\n",
        "\\begin{align*}\n",
        "\\int_{\\Omega} \\boldsymbol{\\nabla} \\boldsymbol{u} \\cdot \\boldsymbol{\\nabla} \\boldsymbol{v}\n",
        "- (\\boldsymbol{\\nabla} \\cdot \\boldsymbol{v}) \\ p \\ {\\rm d} x\n",
        "&= \\int_{\\Omega} \\boldsymbol{f} \\cdot \\boldsymbol{v} \\, {\\rm d} x + \\int_{\\Gamma_N} \\boldsymbol{g} \\cdot \\boldsymbol{v} \\, {\\rm d} s. \\\\\n",
        "\\int_\\Omega (\\boldsymbol{\\nabla} \\cdot \\boldsymbol{u}) \\ q \\ {\\rm d} x &= 0\n",
        "\\end{align*}\n",
        "The Stokes equations can easily be formulated in a \"total\" variational form; that is, a form where the two variables, the velocity and the pressure, are approximated simultaneously. Summing the two previous equations, we obtain the weak problem: Find $ (\\boldsymbol{u}, p) \\in W$ such that\n",
        "\\begin{equation*} a((\\boldsymbol{u}, p), (\\boldsymbol{v}, q)) = L((\\boldsymbol{v}, q)) \\end{equation*}\n",
        "for all $(\\boldsymbol{v}, q) \\in W$, where\n",
        "\\begin{align*} a((\\boldsymbol{u}, p), (\\boldsymbol{v}, q)) &= \\int_{\\Omega} \\boldsymbol{\\nabla} \\boldsymbol{u} \\cdot \\boldsymbol{\\nabla} \\boldsymbol{v} - (\\boldsymbol{\\nabla} \\cdot \\boldsymbol{v}) \\ p + (\\boldsymbol{\\nabla} \\cdot \\boldsymbol{u}) \\ q \\, {\\rm d} x, \\\\ L((\\boldsymbol{v}, q)) &= \\int_{\\Omega} \\boldsymbol{f} \\cdot \\boldsymbol{v} \\, {\\rm d} x + \\int_{\\Gamma_N} \\boldsymbol{g} \\cdot \\boldsymbol{v} \\, {\\rm d} s. \\\\ \\end{align*}\n",
        "The space $W$ should be a product function space $W = H^1_0(\\Omega)^d \\times L^2(\\Omega)$, such that $\\boldsymbol{u} \\in H^1_0(\\Omega)^d$ and $q \\in L^2(\\Omega)$."
      ]
    },
    {
      "cell_type": "markdown",
      "metadata": {
        "id": "clsQzW96rbic"
      },
      "source": [
        "## Numerical solution with FEniCS"
      ]
    },
    {
      "cell_type": "markdown",
      "metadata": {
        "id": "_Fd1oxkfN6vG"
      },
      "source": [
        "We want to solve the problem using the **stable pairs of finite elements spaces $\\mathbb{P}^2/ \\mathbb{P}^1$** on a uniform mesh sequence with an increasing number of subdivisions $n$. \n",
        "Then, we **verify numerically the convergence performances**."
      ]
    },
    {
      "cell_type": "code",
      "metadata": {
        "id": "UqLGya2cqkWG"
      },
      "source": [
        "%%capture\n",
        "try:\n",
        "    import dolfin\n",
        "except ImportError:\n",
        "    !wget \"https://fem-on-colab.github.io/releases/fenics-install.sh\" -O \"/tmp/fenics-install.sh\" && bash \"/tmp/fenics-install.sh\"\n",
        "    import dolfin"
      ],
      "execution_count": null,
      "outputs": []
    },
    {
      "cell_type": "code",
      "source": [
        "from fenics import *\n",
        "import matplotlib.pyplot as plt\n",
        "import numpy as np"
      ],
      "metadata": {
        "id": "eltmqE24A6Bt"
      },
      "execution_count": null,
      "outputs": []
    },
    {
      "cell_type": "markdown",
      "metadata": {
        "id": "1GzKfFkV3JUW"
      },
      "source": [
        "After generating the mesh, we have to define the discrete spaces. In this case we built a \"mixed finite element\" (an **element pair**) consisting of **continuous piecewise quadratics (for the velocity) and continuous piecewise linears (for the pressure)** (called Taylor–Hood (TH) elements and is a stable pair for the Stokes equations)."
      ]
    },
    {
      "cell_type": "code",
      "metadata": {
        "id": "JdUrxrEe31nX",
        "colab": {
          "base_uri": "https://localhost:8080/",
          "height": 133
        },
        "outputId": "2d7be825-c78b-4b23-95a7-60eb09c45da2"
      },
      "source": [
        "# Example for building a finite element pair in FEniCS\n",
        "mesh = UnitSquareMesh(2, 2, 'crossed')\n",
        "print(mesh.ufl_cell())\n",
        "\n",
        "V = VectorElement('CG', mesh.ufl_cell(), 2)\n",
        "Q = FiniteElement('CG', mesh.ufl_cell(), 1)\n",
        "print(V,Q)\n",
        "\n",
        "X = FunctionSpace(mesh, V*Q)\n",
        "print(X)"
      ],
      "execution_count": null,
      "outputs": [
        {
          "output_type": "stream",
          "text": [
            "triangle\n",
            "<vector element with 2 components of <CG2 on a triangle>> <CG1 on a triangle>\n",
            "FunctionSpace(Mesh(VectorElement(FiniteElement('Lagrange', triangle, 1), dim=2), 0), MixedElement(VectorElement(FiniteElement('Lagrange', triangle, 2), dim=2), FiniteElement('Lagrange', triangle, 1)))\n"
          ],
          "name": "stdout"
        }
      ]
    },
    {
      "cell_type": "code",
      "metadata": {
        "id": "8gybmmPiqp39"
      },
      "source": [
        "def solve_stokes(n, degree, u_exact, p_exact, f):\n",
        "    # 1. mesh generation\n",
        "    nx, ny = n, n\n",
        "    mesh = UnitSquareMesh(nx, ny, 'crossed')\n",
        "\n",
        "    # 2. finite element space\n",
        "    V = VectorElement('CG', mesh.ufl_cell(), degree+1)\n",
        "    Q = FiniteElement('CG', mesh.ufl_cell(), degree)\n",
        "    #X = FunctionSpace(mesh, MixedElement([V, Q]))\n",
        "\n",
        "    TH = V * Q\n",
        "    X = FunctionSpace(mesh, TH)\n",
        "\n",
        "    # 3. problem definition\n",
        "    u, p = TrialFunctions(X)\n",
        "    v, q = TestFunctions(X)\n",
        "\n",
        "    def boundary(x, on_boundary):\n",
        "          return on_boundary\n",
        "\n",
        "    def origin(x):\n",
        "        return near(x[0], 0.0) and near(x[1], 0.0)\n",
        "\n",
        "    bc = DirichletBC(X.sub(0), u_exact, boundary)\n",
        "    \n",
        "    # to enforce the average value for the pressure with fix one boundary DOF \n",
        "    bc_pressure = DirichletBC(X.sub(1), p_exact(0, 0), origin, 'pointwise')\n",
        "\n",
        "    a = (inner(grad(u), grad(v)) - p*div(v) - div(u)*q) * dx\n",
        "    L = dot(f, v) * dx\n",
        "\n",
        "    # 4. solution\n",
        "    x = Function(X)\n",
        "    solve(a == L, x, [bc, bc_pressure])\n",
        "\n",
        "    u, p = x.split()\n",
        "\n",
        "    u.rename('velocity', 'velocity')\n",
        "    p.rename('pressure', 'pressure')\n",
        "\n",
        "    return u, p"
      ],
      "execution_count": null,
      "outputs": []
    },
    {
      "cell_type": "markdown",
      "metadata": {
        "id": "Vu0cIeP_rLKb"
      },
      "source": [
        "## Convergence analysis considering an analytical test case"
      ]
    },
    {
      "cell_type": "markdown",
      "metadata": {
        "id": "f7AqMZIbOkzf"
      },
      "source": [
        "Compute the functions $\\boldsymbol{f}$ and $\\boldsymbol{g}$ corresponding to the analytical solution\n",
        "$$\n",
        "            \\boldsymbol{u}(x,y) = \\begin{bmatrix}-\\cos{x}\\sin{y} \\\\ \\sin{x}\\cos{y}\\end{bmatrix},\n",
        "            \\qquad\n",
        "            p(x,y) = -\\frac{1}{4}(\\cos{(2x)}+\\cos{(2y)}).\n",
        "$$\n",
        "\n",
        "Assess the convergence of the Taylor-Hood FE method, measuring the errors as \n",
        "$$\n",
        "||\\boldsymbol{u} - \\boldsymbol{u}_h||_{H^1(\\Omega)}, \\quad\\text{ and}\\quad ||p - p_h||_ {L^2(\\Omega)}.\n",
        "$$"
      ]
    },
    {
      "cell_type": "code",
      "metadata": {
        "id": "VhxHSy9erGAH",
        "colab": {
          "base_uri": "https://localhost:8080/",
          "height": 233
        },
        "outputId": "cfd7d4f5-ab9f-4c88-ff54-4547f8fb8b09"
      },
      "source": [
        "u_exact = Expression((\n",
        "        '-cos(x[0]) * sin(x[1])',\n",
        "        'sin(x[0]) * cos(x[1])'\n",
        "    ), degree=2)\n",
        "p_exact = Expression(\n",
        "    '-0.25 * (cos(2*x[0]) + cos(2*x[1]))',\n",
        "    degree=2)\n",
        "f = Expression((\n",
        "        '-2 * cos(x[0]) * sin(x[1]) + 0.5 * sin(2 * x[0])',\n",
        "        '2 * sin(x[0]) * cos(x[1]) + 0.5 * sin(2 * x[1])'\n",
        "    ), degree=2)\n",
        "\n",
        "for degree in [1, 2]:\n",
        "  for n in [5, 10, 20, 40]:\n",
        "    uh, ph = solve_stokes(n, degree, u_exact, p_exact, f)\n",
        "    \n",
        "    eL2 = errornorm(p_exact, ph, 'L2')\n",
        "    eH1 = errornorm(u_exact, uh, 'H1')\n",
        "\n",
        "    print('n={} degree={} eL2={:.2e} eH1={:.2e}'.format(n, degree, eL2, eH1))\n",
        "  print()"
      ],
      "execution_count": null,
      "outputs": [
        {
          "output_type": "stream",
          "text": [
            "n=5 degree=1 eL2=3.97e-03 eH1=1.60e-03\n",
            "n=10 degree=1 eL2=1.01e-03 eH1=3.99e-04\n",
            "n=20 degree=1 eL2=2.55e-04 eH1=9.97e-05\n",
            "n=40 degree=1 eL2=6.38e-05 eH1=2.49e-05\n",
            "\n",
            "n=5 degree=2 eL2=9.15e-05 eH1=3.26e-05\n",
            "n=10 degree=2 eL2=7.12e-06 eH1=4.32e-06\n",
            "n=20 degree=2 eL2=6.79e-07 eH1=5.54e-07\n",
            "n=40 degree=2 eL2=7.55e-08 eH1=7.01e-08\n",
            "\n"
          ],
          "name": "stdout"
        }
      ]
    },
    {
      "cell_type": "code",
      "metadata": {
        "id": "Edie3qt1jYOa"
      },
      "source": [],
      "execution_count": null,
      "outputs": []
    }
  ]
}