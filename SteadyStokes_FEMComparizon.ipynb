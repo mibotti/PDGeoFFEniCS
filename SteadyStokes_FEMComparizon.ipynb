{
  "cells": [
    {
      "cell_type": "markdown",
      "metadata": {
        "id": "nd8kMV1_fcjX"
      },
      "source": [
        "# Stabilized FEM for the Stokes problem"
      ]
    },
    {
      "cell_type": "markdown",
      "metadata": {
        "id": "viXqRaXSfj3x"
      },
      "source": [
        "On the unit square domain $\\Omega$ we consider the Stokes problem expressed by \n",
        "\\begin{align*} \n",
        "- \\boldsymbol{\\Delta}\\boldsymbol{u} +\\boldsymbol{\\nabla}  p  &= \\boldsymbol{f} \\quad {\\rm in} \\ \\Omega, \\\\ \n",
        "\\boldsymbol{\\nabla} \\cdot \\boldsymbol{u} &= 0 \\quad {\\rm in} \\ \\Omega, \\\\ \n",
        "\\boldsymbol{u} &= \\boldsymbol{u}_D \\;\\; {\\rm on} \\ \\Gamma_D, \\\\\n",
        "(\\boldsymbol{\\nabla} \\boldsymbol{u} - p)\\cdot\\boldsymbol{n} &= \\boldsymbol{g}_N\\;\\; {\\rm on}\\ \\partial\\Omega \\setminus \\Gamma_D.\n",
        "\\end{align*}"
      ]
    },
    {
      "cell_type": "markdown",
      "metadata": {
        "id": "2MypN-bVP3Gp"
      },
      "source": [
        "## Saddle-point weak formulation"
      ]
    },
    {
      "cell_type": "markdown",
      "metadata": {
        "id": "JsfuAhwTP58h"
      },
      "source": [
        "The weak formulation is derived by testing the first equation with a vector-valued function $\\boldsymbol{v}$ in $H^1_0(\\Omega)^d$ and the second equation with $q\\in L^2(\\Omega)$. Assuming, for the sake of simplicity, that $\\boldsymbol{u}_D = \\boldsymbol{0}$, and integrating by parts in the first equation, we end up with the saddle point problem\n",
        "\\begin{align*}\n",
        "\\int_{\\Omega} \\boldsymbol{\\nabla} \\boldsymbol{u} \\cdot \\boldsymbol{\\nabla} \\boldsymbol{v}\n",
        "- (\\boldsymbol{\\nabla} \\cdot \\boldsymbol{v}) \\ p \\ {\\rm d} x\n",
        "&= \\int_{\\Omega} \\boldsymbol{f} \\cdot \\boldsymbol{v} \\, {\\rm d} x + \\int_{\\Gamma_N} \\boldsymbol{g} \\cdot \\boldsymbol{v} \\, {\\rm d} s. \\\\\n",
        "\\int_\\Omega (\\boldsymbol{\\nabla} \\cdot \\boldsymbol{u}) \\ q \\ {\\rm d} x &= 0\n",
        "\\end{align*}\n",
        "\n",
        "Defining $a: H^1_0(\\Omega)^d\\times H^1_0(\\Omega)^d$ and $b:H^1_0(\\Omega)^d\\times L^2(\\Omega)$ such that\n",
        "\\begin{align*}\n",
        "a(\\boldsymbol{v},\\boldsymbol{w}) &:=\\int_{\\Omega} \\boldsymbol{\\nabla} \\boldsymbol{v} \\cdot \\boldsymbol{\\nabla} \\boldsymbol{w}\\  {\\rm d} x, \n",
        "\\quad\\forall\\ v,w\\in H^1_0(\\Omega)^d \\\\ \n",
        "b(\\boldsymbol{v},q) &:= -\\int_\\Omega (\\boldsymbol{\\nabla} \\cdot \\boldsymbol{v}) \\ q \\ {\\rm d} x, \\quad\\forall\\ v\\in H^1_0(\\Omega)^d \\;\\text{and}\\; \\forall\\ q\\in L^2(\\Omega),\n",
        "\\end{align*}\n",
        "the weak form of Stokes problem reads: Find $(u,p)$ such that\n",
        "\\begin{align*}\n",
        "a(\\boldsymbol{u},\\boldsymbol{v}) + b(\\boldsymbol{v},p)\n",
        "&= \\int_{\\Omega} \\boldsymbol{f} \\cdot \\boldsymbol{v} \\, {\\rm d} x + \\int_{\\Gamma_N} \\boldsymbol{g} \\cdot \\boldsymbol{v} \\, {\\rm d} s. \\\\\n",
        "b(\\boldsymbol{u},q) &= 0.\n",
        "\\end{align*}"
      ]
    },
    {
      "cell_type": "markdown",
      "metadata": {
        "id": "BdvmSb8WglNA"
      },
      "source": [
        "## Numerical solution with FEniCS"
      ]
    },
    {
      "cell_type": "code",
      "execution_count": null,
      "metadata": {
        "id": "Q3N4Q-dsBfz1",
        "vscode": {
          "languageId": "python"
        }
      },
      "outputs": [],
      "source": [
        "%%capture\n",
        "try:\n",
        "    import dolfin\n",
        "except ImportError:\n",
        "    !wget \"https://fem-on-colab.github.io/releases/fenics-install.sh\" -O \"/tmp/fenics-install.sh\" && bash \"/tmp/fenics-install.sh\"\n",
        "    import dolfin"
      ]
    },
    {
      "cell_type": "code",
      "execution_count": null,
      "metadata": {
        "id": "GKRAoGANfyOF",
        "vscode": {
          "languageId": "python"
        }
      },
      "outputs": [],
      "source": [
        "from fenics import *\n",
        "from mshr import *\n",
        "import matplotlib.pyplot as plt\n",
        "import numpy as np"
      ]
    },
    {
      "cell_type": "markdown",
      "metadata": {
        "id": "XG7upUqqsXow"
      },
      "source": [
        "We want to compare the **stabilized $\\mathbb{P}^1$-$\\mathbb{P}^1$ FEM** and the **equal-order discontinuous Galerkin (dG) method** for Stokes with respect to two other first order stable elements, i.e. the **MINI element** and the **Crouzeix--Raviart element**."
      ]
    },
    {
      "cell_type": "markdown",
      "metadata": {
        "id": "l_9H17wmFrPZ"
      },
      "source": [
        "#### FE solution with MINI element"
      ]
    },
    {
      "cell_type": "code",
      "execution_count": null,
      "metadata": {
        "id": "ts-LQH1a2tW3",
        "vscode": {
          "languageId": "python"
        }
      },
      "outputs": [],
      "source": [
        "def mini_stokes(n, u_exact, p_exact, f, gNt, gNr):    \n",
        "    # 1. generate the mesh and mark the boundaries\n",
        "    mesh = UnitSquareMesh(n, n, 'crossed')\n",
        "    \n",
        "    boundary_markers = MeshFunction('size_t', mesh, mesh.geometric_dimension()-1, 0)\n",
        "\n",
        "    class top_boundary(SubDomain):\n",
        "        def inside(self, x, on_boundary):\n",
        "            return on_boundary and near(x[1], 1)\n",
        "\n",
        "    class right_boundary(SubDomain):\n",
        "        def inside(self, x, on_boundary):\n",
        "            return on_boundary and near(x[0], 1)\n",
        "\n",
        "    class other_boundary(SubDomain):\n",
        "        def inside(self, x, on_boundary):\n",
        "            return near(x[0], 0) or near(x[1], 0)\n",
        "\n",
        "    top = top_boundary()\n",
        "    top.mark(boundary_markers, 1)\n",
        "    right = right_boundary()\n",
        "    right.mark(boundary_markers, 2)\n",
        "    other = other_boundary()\n",
        "    other.mark(boundary_markers, 3)\n",
        "    \n",
        "    ds = Measure('ds', domain=mesh, subdomain_data=boundary_markers)\n",
        "\n",
        "    # 2. finite element spaces and Dirichlet BC\n",
        "    Q = FiniteElement('CG', mesh.ufl_cell(), 1)\n",
        "    B = FiniteElement(\"Bubble\", mesh.ufl_cell(), mesh.topology().dim() + 1)\n",
        "    V = VectorElement(NodalEnrichedElement(Q, B))\n",
        "    X = FunctionSpace(mesh, V * Q)\n",
        "\n",
        "    bc = DirichletBC(X.sub(0), u_exact, boundary_markers, 3)\n",
        "\n",
        "    # 3. problem definition\n",
        "    u, p = TrialFunctions(X)\n",
        "    v, q = TestFunctions(X)\n",
        "\n",
        "    a = (inner(grad(u), grad(v)) - p*div(v) - div(u)*q) * dx\n",
        "    L = dot(f, v) * dx + dot(gNt, v) * ds(1) + dot(gNr, v) * ds(2)\n",
        "\n",
        "    # 4. solution\n",
        "    x = Function(X)\n",
        "    solve(a == L, x, bc)\n",
        "\n",
        "    u, p = x.split()\n",
        "    return u, p"
      ]
    },
    {
      "cell_type": "markdown",
      "metadata": {
        "id": "XcBeznoFF1Qr"
      },
      "source": [
        "#### FE solution with Crouzeix-Raviart element"
      ]
    },
    {
      "cell_type": "code",
      "execution_count": null,
      "metadata": {
        "id": "mlUVTKRC7R8h",
        "vscode": {
          "languageId": "python"
        }
      },
      "outputs": [],
      "source": [
        "def cr_stokes(n, u_exact, p_exact, f, gNt, gNr):    \n",
        "    # 1. generate the mesh and mark the boundaries\n",
        "    mesh = UnitSquareMesh(n, n, 'crossed')\n",
        "    \n",
        "    boundary_markers = MeshFunction('size_t', mesh, mesh.geometric_dimension()-1, 0)\n",
        "\n",
        "    class top_boundary(SubDomain):\n",
        "        def inside(self, x, on_boundary):\n",
        "            return on_boundary and near(x[1], 1)\n",
        "\n",
        "    class right_boundary(SubDomain):\n",
        "        def inside(self, x, on_boundary):\n",
        "            return on_boundary and near(x[0], 1)\n",
        "\n",
        "    class other_boundary(SubDomain):\n",
        "        def inside(self, x, on_boundary):\n",
        "            return near(x[0], 0) or near(x[1], 0)\n",
        "\n",
        "    top = top_boundary()\n",
        "    top.mark(boundary_markers, 1)\n",
        "    right = right_boundary()\n",
        "    right.mark(boundary_markers, 2)\n",
        "    other = other_boundary()\n",
        "    other.mark(boundary_markers, 3)\n",
        "    \n",
        "    ds = Measure('ds', domain=mesh, subdomain_data=boundary_markers)\n",
        "\n",
        "    # 2. finite element space and Dirichlet BC\n",
        "    V = VectorElement('CR', mesh.ufl_cell(), 1)\n",
        "    Q = FiniteElement('DG', mesh.ufl_cell(), 0)\n",
        "    X = FunctionSpace(mesh, V * Q)\n",
        "\n",
        "    bc = DirichletBC(X.sub(0), u_exact, boundary_markers, 3)\n",
        "\n",
        "    # 3. problem definition\n",
        "    u, p = TrialFunctions(X)\n",
        "    v, q = TestFunctions(X)\n",
        "\n",
        "    a = (inner(grad(u), grad(v)) - p*div(v) - div(u)*q) * dx\n",
        "    L = dot(f, v) * dx + dot(gNt, v) * ds(1) + dot(gNr, v) * ds(2)\n",
        "\n",
        "    # 4. solution\n",
        "    x = Function(X)\n",
        "    solve(a == L, x, bc)\n",
        "\n",
        "    u, p = x.split()\n",
        "    return u, p"
      ]
    },
    {
      "cell_type": "markdown",
      "metadata": {
        "id": "hJUZHPdDglOS"
      },
      "source": [
        "#### FE solution with discontinuous Galerkin element"
      ]
    },
    {
      "cell_type": "code",
      "execution_count": null,
      "metadata": {
        "id": "V3gn07EtgquS",
        "vscode": {
          "languageId": "python"
        }
      },
      "outputs": [],
      "source": [
        "def dg_stokes(n, deg, u_exact, p_exact, f, gNt, gNr):    \n",
        "    # 1. generate the mesh and mark the boundaries\n",
        "    mesh = UnitSquareMesh(n, n, 'crossed')\n",
        "    \n",
        "    boundary_markers = MeshFunction('size_t', mesh, mesh.geometric_dimension()-1, 0)\n",
        "\n",
        "    class top_boundary(SubDomain):\n",
        "        def inside(self, x, on_boundary):\n",
        "            return on_boundary and near(x[1], 1)\n",
        "\n",
        "    class right_boundary(SubDomain):\n",
        "        def inside(self, x, on_boundary):\n",
        "            return on_boundary and near(x[0], 1)\n",
        "\n",
        "    class other_boundary(SubDomain):\n",
        "        def inside(self, x, on_boundary):\n",
        "            return near(x[0], 0) or near(x[1], 0)\n",
        "\n",
        "    top = top_boundary()\n",
        "    top.mark(boundary_markers, 1)\n",
        "    right = right_boundary()\n",
        "    right.mark(boundary_markers, 2)\n",
        "    other = other_boundary()\n",
        "    other.mark(boundary_markers, 3)\n",
        "    \n",
        "    ds = Measure('ds', domain=mesh, subdomain_data=boundary_markers)\n",
        "\n",
        "    # 2. finite element space and Dirichlet BC\n",
        "    V = VectorElement('DG', mesh.ufl_cell(), deg)\n",
        "    Q = FiniteElement('DG', mesh.ufl_cell(), deg)\n",
        "    X = FunctionSpace(mesh, V * Q)\n",
        "\n",
        "    # 3. problem definition\n",
        "    u, p = TrialFunctions(X)\n",
        "    v, q = TestFunctions(X)\n",
        "    n = FacetNormal(mesh)\n",
        "    h = CellDiameter(mesh)\n",
        "    h_avg = (h('+') + h('-'))/2\n",
        "    alpha = 10.1*deg**2\n",
        "    beta = 3.1/deg\n",
        "\n",
        "    # Define forms\n",
        "    a = (inner(grad(u), grad(v)) - p*div(v) + div(u)*q)*dx  \\\n",
        "      - inner(jump(u, n), avg(q))*dS + inner(jump(v, n), avg(p))*dS \\\n",
        "      - inner(u, n)*q*ds(3) + inner(v, n)*p*ds(3) \\\n",
        "      - inner(dot(avg(grad(u)), n('+')), jump(v))*dS \\\n",
        "      - inner(jump(u), dot(avg(grad(v)), n('+')))*dS \\\n",
        "      - inner(dot(grad(u), n), v)*ds(3) \\\n",
        "      - inner(u, dot(grad(v), n))*ds(3) \\\n",
        "      + alpha/h_avg*inner(jump(u), jump(v))*dS \\\n",
        "      + alpha/h*inner(u, v)*ds(3) \\\n",
        "      + beta*h_avg*jump(p)*jump(q)*dS \n",
        "\n",
        "    L = dot(f, v) * dx + dot(gNt, v) * ds(1) + dot(gNr, v) * ds(2)\n",
        "\n",
        "    # 4. solution\n",
        "    x = Function(X)\n",
        "    solve(a == L, x)\n",
        "\n",
        "    u, p = x.split()\n",
        "    return u, p"
      ]
    },
    {
      "cell_type": "markdown",
      "metadata": {
        "id": "53zTvZPTF5_o"
      },
      "source": [
        "#### FE solution with SUPG stabilized P1-P1 element"
      ]
    },
    {
      "cell_type": "code",
      "execution_count": null,
      "metadata": {
        "id": "O0_C7ifs7_Hj",
        "vscode": {
          "languageId": "python"
        }
      },
      "outputs": [],
      "source": [
        "def supg_stokes(n, u_exact, p_exact, f, gNt, gNr):    \n",
        "    # 1. generate the mesh and mark the boundaries\n",
        "    mesh = UnitSquareMesh(n, n, 'crossed')\n",
        "    \n",
        "    boundary_markers = MeshFunction('size_t', mesh, mesh.geometric_dimension()-1, 0)\n",
        "\n",
        "    class top_boundary(SubDomain):\n",
        "        def inside(self, x, on_boundary):\n",
        "            return on_boundary and near(x[1], 1)\n",
        "\n",
        "    class right_boundary(SubDomain):\n",
        "        def inside(self, x, on_boundary):\n",
        "            return on_boundary and near(x[0], 1)\n",
        "\n",
        "    class other_boundary(SubDomain):\n",
        "        def inside(self, x, on_boundary):\n",
        "            return near(x[0], 0) or near(x[1], 0)\n",
        "\n",
        "    top = top_boundary()\n",
        "    top.mark(boundary_markers, 1)\n",
        "    right = right_boundary()\n",
        "    right.mark(boundary_markers, 2)\n",
        "    other = other_boundary()\n",
        "    other.mark(boundary_markers, 3)\n",
        "    \n",
        "    ds = Measure('ds', domain=mesh, subdomain_data=boundary_markers)\n",
        "\n",
        "    # 2. finite element space and Dirichlet BC\n",
        "    V = VectorElement('CG', mesh.ufl_cell(), 1)\n",
        "    Q = FiniteElement('CG', mesh.ufl_cell(), 1)\n",
        "    X = FunctionSpace(mesh, V * Q)\n",
        "\n",
        "    bc = DirichletBC(X.sub(0), u_exact, boundary_markers, 3)\n",
        "\n",
        "    # 3. problem definition\n",
        "    u, p = TrialFunctions(X)\n",
        "    v, q = TestFunctions(X)\n",
        "\n",
        "    a = (inner(grad(u), grad(v)) - p*div(v) + div(u)*q) * dx\n",
        "    L = dot(f, v) * dx + dot(gNt, v) * ds(1) + dot(gNr, v) * ds(2)\n",
        "  \n",
        "    h = CellDiameter(X.mesh())\n",
        "    tau_K = 0.5 * (h**2) \n",
        "    a += tau_K * (inner(grad(p), grad(q)) + div(u)*div(v)) * dx\n",
        "    L += tau_K * dot(f,grad(q)) * dx  \n",
        "\n",
        "    # 4. solution\n",
        "    x = Function(X)\n",
        "    solve(a == L, x, bc)\n",
        "\n",
        "    u, p = x.split()\n",
        "    return u, p"
      ]
    },
    {
      "cell_type": "markdown",
      "metadata": {
        "id": "2BxDKLe9GF3P"
      },
      "source": [
        "#### FE solution with P1-P1 element stabilized with pressure mass matrix"
      ]
    },
    {
      "cell_type": "code",
      "execution_count": null,
      "metadata": {
        "id": "OaNfyNeA86ra",
        "vscode": {
          "languageId": "python"
        }
      },
      "outputs": [],
      "source": [
        "def massstab_stokes(n, u_exact, p_exact, f, gNt, gNr):    \n",
        "    # 1. generate the mesh and mark the boundaries\n",
        "    mesh = UnitSquareMesh(n, n, 'crossed')\n",
        "    \n",
        "    boundary_markers = MeshFunction('size_t', mesh, mesh.geometric_dimension()-1, 0)\n",
        "\n",
        "    class top_boundary(SubDomain):\n",
        "        def inside(self, x, on_boundary):\n",
        "            return on_boundary and near(x[1], 1)\n",
        "\n",
        "    class right_boundary(SubDomain):\n",
        "        def inside(self, x, on_boundary):\n",
        "            return on_boundary and near(x[0], 1)\n",
        "\n",
        "    class other_boundary(SubDomain):\n",
        "        def inside(self, x, on_boundary):\n",
        "            return near(x[0], 0) or near(x[1], 0)\n",
        "\n",
        "    top = top_boundary()\n",
        "    top.mark(boundary_markers, 1)\n",
        "    right = right_boundary()\n",
        "    right.mark(boundary_markers, 2)\n",
        "    other = other_boundary()\n",
        "    other.mark(boundary_markers, 3)\n",
        "    \n",
        "    ds = Measure('ds', domain=mesh, subdomain_data=boundary_markers)\n",
        "\n",
        "    # 2. finite element space and Dirichlet BC\n",
        "    V = VectorElement('CG', mesh.ufl_cell(), 1)\n",
        "    Q = FiniteElement('DG', mesh.ufl_cell(), 0)\n",
        "    X = FunctionSpace(mesh, V * Q)\n",
        "\n",
        "    bc = DirichletBC(X.sub(0), u_exact, boundary_markers, 3)\n",
        "\n",
        "    # 3. problem definition\n",
        "    u, p = TrialFunctions(X)\n",
        "    v, q = TestFunctions(X)\n",
        "\n",
        "    a = (inner(grad(u), grad(v)) - p*div(v) + div(u)*q) * dx\n",
        "    L = dot(f, v) * dx + dot(gNt, v) * ds(1) + dot(gNr, v) * ds(2)\n",
        "\n",
        "    h = CellDiameter(mesh)\n",
        "    a_stab = a + (h**2) * p * q * dx\n",
        "\n",
        "    # 4. solution\n",
        "    x = Function(X)\n",
        "    solve(a_stab == L, x, bc)\n",
        "\n",
        "    u, p = x.split()\n",
        "    return u, p"
      ]
    },
    {
      "cell_type": "markdown",
      "metadata": {
        "id": "BlDOwF_liA98"
      },
      "source": [
        "### Convergence analysis and comparizon of the different methods"
      ]
    },
    {
      "cell_type": "markdown",
      "metadata": {
        "id": "Z4v8EUHviD70"
      },
      "source": [
        "Compute the functions $\\boldsymbol{f}$, $\\boldsymbol{g}_N$ and $\\boldsymbol{u}_D$ corresponding to the analytical solution\n",
        "$$\n",
        "            \\boldsymbol{u}(x,y) = \\begin{bmatrix}(1-\\cos(\\pi x))\\sin(\\pi y) \\\\ \\sin(\\pi x)(\\cos(\\pi y)-1)\\end{bmatrix},\n",
        "            \\qquad\n",
        "            p(x,y) = -\\frac{1}{4}(\\cos{(2\\pi x)}+\\cos{(2\\pi y)}).\n",
        "$$\n",
        "\n",
        "Assess the convergence, measuring the errors as \n",
        "$$\n",
        "||\\boldsymbol{u} - \\boldsymbol{u}_h||_{H^1(\\Omega)}, \\quad\\text{ and}\\quad ||p - p_h||_ {L^2(\\Omega)}.\n",
        "$$"
      ]
    },
    {
      "cell_type": "code",
      "execution_count": null,
      "metadata": {
        "colab": {
          "base_uri": "https://localhost:8080/"
        },
        "id": "TuXfpaNnh52h",
        "outputId": "fe71b2d7-e08a-4487-a82b-25a97af7208e",
        "vscode": {
          "languageId": "python"
        }
      },
      "outputs": [
        {
          "name": "stdout",
          "output_type": "stream",
          "text": [
            "n=10 eL2=8.70e-02 eH1=3.27e-01\n",
            "n=20 eL2=3.09e-02 eH1=1.62e-01\n",
            "n=40 eL2=1.09e-02 eH1=8.08e-02\n",
            "n=80 eL2=3.86e-03 eH1=4.03e-02\n",
            "\n",
            "n=10 eL2=1.18e-01 eH1=3.45e-01\n",
            "n=20 eL2=5.92e-02 eH1=1.74e-01\n",
            "n=40 eL2=2.97e-02 eH1=8.72e-02\n",
            "n=80 eL2=1.49e-02 eH1=4.37e-02\n",
            "\n",
            "n=10 eL2=3.98e-01 eH1=5.18e-01\n",
            "n=20 eL2=1.47e-01 eH1=2.24e-01\n",
            "n=40 eL2=5.28e-02 eH1=1.01e-01\n",
            "n=80 eL2=1.89e-02 eH1=4.72e-02\n",
            "\n",
            "n=10 eL2=9.56e-02 eH1=3.20e-01\n",
            "n=20 eL2=3.77e-02 eH1=1.58e-01\n",
            "n=40 eL2=1.27e-02 eH1=7.79e-02\n",
            "n=80 eL2=4.43e-03 eH1=3.88e-02\n"
          ]
        }
      ],
      "source": [
        "u_exact = Expression((\n",
        "        '(1.0-cos(pi*x[0])) * sin(pi*x[1])',\n",
        "        'sin(pi*x[0]) * (cos(pi*x[1])-1.0)'\n",
        "                    ), degree=3)\n",
        "p_exact = Expression(\n",
        "        '-0.25 * (cos(2*pi*x[0]) + cos(2*pi*x[1]))',\n",
        "        degree=3)\n",
        "f = Expression((\n",
        "        '-2*pi*pi*cos(pi*x[0])*sin(pi*x[1]) + 0.5*pi*sin(2*pi*x[0]) + pi*pi*sin(pi*x[1])',\n",
        "        '2*pi*pi*sin(pi*x[0])*cos(pi*x[1]) + 0.5*pi*sin(2*pi*x[1]) - pi*pi*sin(pi*x[0])'\n",
        "               ), degree=2)\n",
        "\n",
        "gNt = Expression(('pi * (cos(pi*x[0])-1.0)', '0.25 * (cos(2*pi*x[0]) + cos(2*pi*x[1]))'\n",
        "                 ), degree=2)\n",
        "gNr = Expression(('0.25 * (cos(2*pi*x[0]) + cos(2*pi*x[1]))', 'pi * (1.0-cos(pi*x[1]))'\n",
        "                 ), degree=2)\n",
        "\n",
        "for n in [10, 20, 40, 80]:\n",
        "    uh, ph = mini_stokes(n, u_exact, p_exact, f, gNt, gNr)\n",
        "    \n",
        "    eL2 = errornorm(p_exact, ph, 'L2')\n",
        "    eH1 = errornorm(u_exact, uh, 'H1')\n",
        "\n",
        "    print('n={} eL2={:.2e} eH1={:.2e}'.format(n, eL2, eH1))\n",
        "\n",
        "print()\n",
        "for n in [10, 20, 40, 80]:\n",
        "    uh, ph = cr_stokes(n, u_exact, p_exact, f, gNt, gNr)\n",
        "    \n",
        "    eL2 = errornorm(p_exact, ph, 'L2')\n",
        "    eH1 = errornorm(u_exact, uh, 'H1')\n",
        "\n",
        "    print('n={} eL2={:.2e} eH1={:.2e}'.format(n, eL2, eH1))\n",
        "\n",
        "print()\n",
        "for n in [10, 20, 40, 80]:\n",
        "    uh, ph = supg_stokes(n, u_exact, p_exact, f, gNt, gNr)\n",
        "    \n",
        "    eL2 = errornorm(p_exact, ph, 'L2')\n",
        "    eH1 = errornorm(u_exact, uh, 'H1')\n",
        "\n",
        "    print('n={} eL2={:.2e} eH1={:.2e}'.format(n, eL2, eH1))\n",
        "\n",
        "print()\n",
        "degree = 1\n",
        "for n in [10, 20, 40, 80]:\n",
        "    uh, ph = dg_stokes(n, degree, u_exact, p_exact, f, gNt, gNr)\n",
        "    \n",
        "    eL2 = errornorm(p_exact, ph, 'L2')\n",
        "    eH1 = errornorm(u_exact, uh, 'H1')\n",
        "\n",
        "    print('n={} eL2={:.2e} eH1={:.2e}'.format(n, eL2, eH1))"
      ]
    },
    {
      "cell_type": "code",
      "execution_count": null,
      "metadata": {
        "id": "VcQ3aHuLsMZB",
        "vscode": {
          "languageId": "python"
        }
      },
      "outputs": [],
      "source": []
    }
  ],
  "metadata": {
    "colab": {
      "collapsed_sections": [],
      "name": "Lab8_Ex1.ipynb",
      "provenance": []
    },
    "kernelspec": {
      "display_name": "Python 3",
      "name": "python3"
    }
  },
  "nbformat": 4,
  "nbformat_minor": 0
}
