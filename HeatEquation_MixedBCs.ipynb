{
  "nbformat": 4,
  "nbformat_minor": 0,
  "metadata": {
    "colab": {
      "name": "HeatEquation_MixedBCs.ipynb",
      "provenance": [],
      "collapsed_sections": []
    },
    "kernelspec": {
      "name": "python3",
      "display_name": "Python 3"
    }
  },
  "cells": [
    {
      "cell_type": "markdown",
      "metadata": {
        "id": "fnqWPQTms309"
      },
      "source": [
        "# The heat equation"
      ]
    },
    {
      "cell_type": "markdown",
      "metadata": {
        "id": "CGieT42WtHF7"
      },
      "source": [
        "Let $\\Omega= (0,1) \\times (0,1)$ and consider the heat equation\n",
        "\n",
        "$$\n",
        "\\frac{\\partial u}{\\partial t} - k \\Delta u = 0 \\quad \\text{in} \\; \\Omega \\;\\text{ and } \\; t>0,\n",
        "$$\n",
        "\n",
        "where the temperature field is denoted by $u$ and the thermal diffusivity by $k =10^{-2}$. The initial distribution of temperature is uniform and equal to $u(\\cdot,t=0)=20$. The heat equation allows to determine the evolution in time of the temperature distribution $u$ in $\\Omega$ for $t > 0$."
      ]
    },
    {
      "cell_type": "markdown",
      "metadata": {
        "id": "VJwH2UJ3tTl-"
      },
      "source": [
        "The equation needs to be complemented with proper boundary conditions, which represent the interaction of the system with the surrounding environment. For every $t>0$, the temperature is kept fixed at \n",
        "\n",
        "$$\n",
        "  u = 40 \\quad\\text{ on }  \n",
        "  \\Gamma_D = \\left\\{(x,y)\\in \\partial\\Omega \\,|\\, x = 0 \\text{ and } y \\in \\left(\\frac{1}{4}, \\frac{3}{4}\\right) \\right\\},\n",
        "$$\n",
        "\n",
        "while on the boundary \n",
        "\n",
        "$$\n",
        "  \\Gamma_R= \\left\\{(x,y) \\in \\partial\\Omega \\,|\\, x \\in \n",
        "  \\left(\\frac{1}{4}, \\frac{3}{4}\\right) \\text{ and } y = 1\\right\\}\n",
        "$$\n",
        "\n",
        "the material may exchange energy with the surrounding environment (owing to the difference of the temperature of the material with the temperature of the environment $u_{\\text{env}} = 5$) according to the linear Newton's law of cooling\n",
        "\n",
        "$$\n",
        "  -k \\boldsymbol{\\nabla} u \\cdot\\boldsymbol{n}=\\alpha (u-u_{\\text{env}}),\n",
        "$$\n",
        "\n",
        "with $\\alpha = 10^{-2}$. Finally, the remaining part of the boundary $\\Gamma_N=\\partial\\Omega\\setminus(\\Gamma_D\\cup\\Gamma_R)$ is adiabatic, i.e. \n",
        "\n",
        "$$\n",
        "  -k \\boldsymbol{\\nabla} u \\cdot \\boldsymbol{n} = 0.\n",
        "$$"
      ]
    },
    {
      "cell_type": "markdown",
      "metadata": {
        "id": "t8l7kmHMtxkC"
      },
      "source": [
        "## Weak formulation in space"
      ]
    },
    {
      "cell_type": "markdown",
      "metadata": {
        "id": "zF1Tuti3ucSR"
      },
      "source": [
        "First of all we observe that the function $\\tilde{u}=u-40$ solve the heat equation and satisfies a homogeneous Dirichlet condition on $\\Gamma_D$. The Neumman condition for $\\tilde{u}$ is still homogeneous, but the Robin condition need to be modified according to\n",
        "$$\n",
        "-k \\nabla \\tilde{u} \\cdot \\vec{n} = \\alpha (\\tilde{u} -\\tilde{u}_{\\text{env}}),\n",
        "$$\n",
        "with $\\tilde{u}_{\\text{env}} = u_{\\text{env}}-40$.\n",
        "For simplicity, we rename $\\tilde{u}$ with $u$ observing that, in the end, we have to add 40 to obtain the solution to the physical problem. \n",
        "\n",
        "We multiply the equation by a test\n",
        "function $v\\in H^1_{0,\\Gamma_D}(\\Omega)$ and we integrate by parts over $\\Omega$ to obtain:\n",
        "\\begin{equation*}\n",
        "\\int_{\\Omega} \\dfrac{\\partial u}{\\partial t} v  \\, d\\boldsymbol{x} +\n",
        "  \\int_{\\partial\\Omega} (-k \\boldsymbol{\\nabla} u\\cdot{\\boldsymbol{n}}) v \\, d\\sigma +\n",
        "  \\int_\\Omega k\\boldsymbol{\\nabla} u\\cdot \\boldsymbol{\\nabla} v \\, d\\boldsymbol{x} =0.\n",
        "\\end{equation*}\n",
        "\n",
        "Since we are dealing with homogeneous Dirichlet and Neumann condition, **the contributions of $\\Gamma_D$ and $\\Gamma_N$ on the integral over the boundary $\\partial\\Omega$ vanish**. Thus we can rewrite the boundary term as\n",
        "\\begin{equation*}\n",
        "  \\int_{\\partial\\Omega} (-k \\boldsymbol{\\nabla} u\\cdot{\\boldsymbol{n}}) v \\, d\\sigma =\n",
        "  \\int_{\\Gamma_R} (-k \\boldsymbol{\\nabla} u\\cdot{\\boldsymbol{n}}) v \\, d\\sigma,\n",
        "\\end{equation*}\n",
        "and enforce the **Robin condition** on $\\Gamma_R$ according to\n",
        "\\begin{equation*}\n",
        "  \\int_{\\Gamma_R} (-k \\boldsymbol{\\nabla} u\\cdot{\\boldsymbol{n}}) v \\, d\\sigma =\n",
        "    \\int_{\\Gamma_R} \\alpha (u - u_{\\text{env}} +40) v \\, d\\sigma.\n",
        "\\end{equation*}\n",
        "\n",
        "Then, we reorder the terms to leave the functions depending on $u$ on the left-hand side and the functions depending on the problem data on the right-hand side. Proceeding in this way, we obtain\n",
        "\\begin{equation*}\n",
        "\\int_{\\Omega} \\dfrac{\\partial u}{\\partial t} v  \\, d\\boldsymbol{x} +\n",
        "  \\int_\\Omega  k\\boldsymbol{\\nabla} u\\cdot \\boldsymbol{\\nabla} v \\, d\\boldsymbol{x}\n",
        "  + \\int_{\\Gamma_R} \\alpha u v \\, d\\sigma =\n",
        "  \\int_{\\Gamma_R} \\alpha (u_{\\text{env}} -40) v \\, d\\sigma.\n",
        "\\end{equation*}"
      ]
    },
    {
      "cell_type": "markdown",
      "metadata": {
        "id": "NjtCNq3i1sz9"
      },
      "source": [
        "Therefore the **weak formulation in space** reads:  \n",
        "$$\n",
        "\\text{Find } u\\in H^1(0,T_f;L^2(\\Omega)) \\cap L^2(0,T_f;H^1_{0,\\Gamma_D}(\\Omega)) \\;\\text{ such that } \\; \n",
        "\\dfrac{\\partial}{\\partial t} (u,v)_\\Omega\n",
        "+a(u, v) = L(v) \\quad \\forall v\\in H^1_{0,\\Gamma_D}(\\Omega),\n",
        "$$ \n",
        "where the **bilinear form** $a$ and the **linear functional** L are defined by\n",
        "\\begin{equation*}\n",
        "  a(u, v) = \\int_\\Omega k\\boldsymbol{\\nabla} u\\cdot \\boldsymbol{\\nabla} v \\, d\\boldsymbol{x}\n",
        "          + \\int_{\\Gamma_R} \\alpha u v \\, d\\sigma,\n",
        "\\qquad\n",
        "  L(v) = \\int_{\\Gamma_R} \\alpha (u_{\\text{env}} -40) v \\, d\\sigma.\n",
        "\\end{equation*}\n",
        "The previous equation is completed with the initial condition $u(\\cdot,t=0)= 20 -40 = -20$."
      ]
    },
    {
      "cell_type": "markdown",
      "metadata": {
        "id": "9P7fMb3UhGbT"
      },
      "source": [
        "## Semi-discrete formulation"
      ]
    },
    {
      "cell_type": "markdown",
      "metadata": {
        "id": "HZ4e7_V2ht6n"
      },
      "source": [
        "Let's consider a uniform subdivision of the time interval $I$ into $N$ subintervals of length $\\delta t$. For conciseness, we adopt the notation $u_n= u(n\\ \\delta t)$ and $f_n= f(n\\ \\delta t)$ for all $n\\in\\{ 0, N\\}$.\n",
        "Discretizing the time derivative by the **$\\theta$-method**, i.e.\n",
        "      $$\n",
        "        \\frac{\\partial u}{\\partial t} = A u + f\n",
        "        \\quad\\rightarrow\\quad\n",
        "        \\frac{u_{n+1} - u_{n}}{\\delta t} =\n",
        "          \\theta A u_{n+1} + (1 - \\theta) A u_{n} +\n",
        "          \\theta f_{n+1} + (1 - \\theta) f_n,\n",
        "      $$\n",
        "leads to\n",
        "$$\n",
        "\\left(\\frac{u_{n+1} - u_{n}}{\\delta t},v \\right)_\\Omega\n",
        "+\\theta a(u_{n+1},v) + (1-\\theta) a(u_n,v) =\n",
        "\\theta L_{n+1}(v) + (1-\\theta) L_n(v) \\quad \\forall n\\in\\{ 1, N\\},\n",
        "$$\n",
        "with $u_0$ given by the initial condition. \n",
        "\n",
        "Rearranging the previous equation, and observing that $L_{n} = L$ for all $n\\in\\{ 1, N\\}$ since $u_{\\rm env}$ is constant in time, we obtain the semi-discrete formulation: For all $n\\in\\{ 0, N-1\\}$, find $u_{n+1}$ such that\n",
        "\n",
        "$$\n",
        "(u_{n+1},v)_\\Omega + \\delta t\\theta\\ a(u_{n+1},v)=\n",
        "(u_{n},v)_\\Omega + \\delta t(\\theta-1)\\ a(u_{n},v)+\n",
        "\\delta t L(v).\n",
        "$$"
      ]
    },
    {
      "cell_type": "markdown",
      "metadata": {
        "id": "imOPkmerkhku"
      },
      "source": [
        "We remark that the choice **$\\theta = 0.5$** corresponds to the second-order convergent **Crank-Nicolson time advancing scheme**."
      ]
    },
    {
      "cell_type": "markdown",
      "metadata": {
        "id": "TUYY2G-L239F"
      },
      "source": [
        "## Numerical solution with FEniCS"
      ]
    },
    {
      "cell_type": "markdown",
      "metadata": {
        "id": "qNn1-SVahLdT"
      },
      "source": [
        "We solve the problem using the **$\\mathbb{P}^2$ FEM for the spatial discretization** and the **Crank-Nicolson scheme for the advance in time**."
      ]
    },
    {
      "cell_type": "code",
      "metadata": {
        "id": "g3ca3qmvsznV"
      },
      "source": [
        "%%capture\n",
        "try:\n",
        "    import dolfin\n",
        "except ImportError:\n",
        "    !wget \"https://fem-on-colab.github.io/releases/fenics-install.sh\" -O \"/tmp/fenics-install.sh\" && bash \"/tmp/fenics-install.sh\"\n",
        "    import dolfin"
      ],
      "execution_count": null,
      "outputs": []
    },
    {
      "cell_type": "code",
      "source": [
        "from fenics import *\n",
        "from mshr import *\n",
        "import matplotlib.pyplot as plt\n",
        "import numpy as np"
      ],
      "metadata": {
        "id": "ycqd1K4LEKMv"
      },
      "execution_count": null,
      "outputs": []
    },
    {
      "cell_type": "markdown",
      "metadata": {
        "id": "V4TWOcvCBBaH"
      },
      "source": [
        "After importing fenics, we generate the mesh and distinguish the different portions of the boundary in order to account for the mixed type BCs."
      ]
    },
    {
      "cell_type": "code",
      "metadata": {
        "id": "VVEIXxw43B_F"
      },
      "source": [
        "# 1a. generate the mesh\n",
        "nx, ny = 50, 50\n",
        "mesh = UnitSquareMesh(nx, ny, 'crossed')\n",
        "dim = mesh.geometric_dimension()\n",
        "\n",
        "\n",
        "# 1b. mark the boundaries\n",
        "boundary_markers = MeshFunction('size_t', mesh, dim-1, 0)\n",
        "\n",
        "class Boundary(SubDomain):\n",
        "    def inside(self, x, on_boundary):\n",
        "        return on_boundary\n",
        "\n",
        "class DirichletBoundary(SubDomain):\n",
        "    def inside(self, x, on_boundary):\n",
        "        return on_boundary and near(x[0], 0.0) and (0.25 <= x[1] <= 0.75)\n",
        "\n",
        "class RobinBoundary(SubDomain):\n",
        "    def inside(self, x, on_boundary):\n",
        "        return on_boundary and near(x[1], 1.0) and (0.25 <= x[0] <= 0.75)\n",
        "\n",
        "Boundary().mark(boundary_markers, 1)\n",
        "DirichletBoundary().mark(boundary_markers, 2)\n",
        "RobinBoundary().mark(boundary_markers, 3)\n",
        "\n",
        "\n",
        "# 1c. setting up the measures\n",
        "dx = Measure('dx', domain=mesh)\n",
        "ds = Measure('ds', domain=mesh, subdomain_data=boundary_markers)"
      ],
      "execution_count": null,
      "outputs": []
    },
    {
      "cell_type": "markdown",
      "metadata": {
        "id": "rh6eLBVpBV3v"
      },
      "source": [
        "Then, we define the finite dimensional space for the approximation and enforce the essential boundary condition."
      ]
    },
    {
      "cell_type": "code",
      "metadata": {
        "id": "7d-_-Dg13YAJ"
      },
      "source": [
        "# 2a. definition of finite element space\n",
        "degree = 2\n",
        "V = FunctionSpace(mesh, 'CG', degree)\n",
        "\n",
        "# 2b. denition of Dirichlet conditions\n",
        "gD = Constant(0.0)\n",
        "bc = DirichletBC(V, gD, boundary_markers, 2)"
      ],
      "execution_count": null,
      "outputs": []
    },
    {
      "cell_type": "markdown",
      "metadata": {
        "id": "R6gxJBE_Biuj"
      },
      "source": [
        "Now we can define the discrete problem following, as usual the variational approach of FEniCS."
      ]
    },
    {
      "cell_type": "code",
      "metadata": {
        "id": "El7X-bjc3gyz"
      },
      "source": [
        "# 3a. definition of problem data\n",
        "k = Constant(1.e-2)\n",
        "alpha = Constant(1.e-2)\n",
        "Tfin = 200.0\n",
        "dt = 5.0\n",
        "theta = 0.5\n",
        "\n",
        "uEnv = Constant(-35.0)\n",
        "u_old = project(Constant(-20), V)\n",
        "u_old.rename('temperature', 'temperature')\n",
        "\n",
        "# 3b. Assemble matrix and rhs\n",
        "u = TrialFunction(V)\n",
        "v = TestFunction(V)\n",
        "\n",
        "a = (u * v / dt + theta * k * dot(grad(u), grad(v))) * dx + theta * alpha * u * v * ds(3)\n",
        "L = (u_old * v / dt - (1 - theta) * k * inner(grad(u_old), grad(v))) * dx + alpha * (uEnv - (1 - theta) * u_old) * v * ds(3)"
      ],
      "execution_count": null,
      "outputs": []
    },
    {
      "cell_type": "markdown",
      "metadata": {
        "id": "CjOe4VkFB41F"
      },
      "source": [
        "To conclude, we invert the matrix A and perform the advance in time. "
      ]
    },
    {
      "cell_type": "code",
      "metadata": {
        "id": "JMaabwmK30PG",
        "colab": {
          "base_uri": "https://localhost:8080/",
          "height": 286
        },
        "outputId": "c6f0c209-bd7e-4c9c-d53a-c7ca6c214780"
      },
      "source": [
        "# 4a. assemble the system\n",
        "A = assemble(a)\n",
        "bc.apply(A)\n",
        "Ainv = LUSolver(A)\n",
        "\n",
        "# 4b. solve the system\n",
        "t = 0\n",
        "vtkfile = File('ex02.pvd')\n",
        "vtkfile << (u_old, t)\n",
        "while t < Tfin:\n",
        "    t += dt\n",
        "\n",
        "    b = assemble(L)\n",
        "    bc.apply(b)\n",
        "\n",
        "    Ainv.solve(u_old.vector(), b)\n",
        "    \n",
        "    # export the solution at each time step\n",
        "    vtkfile << (u_old, t)\n",
        "\n",
        "# 5. plot solution at final time\n",
        "plot(u_old)"
      ],
      "execution_count": null,
      "outputs": [
        {
          "output_type": "execute_result",
          "data": {
            "text/plain": [
              "<matplotlib.tri.tricontour.TriContourSet at 0x7f65d887d860>"
            ]
          },
          "metadata": {
            "tags": []
          },
          "execution_count": 6
        },
        {
          "output_type": "display_data",
          "data": {
            "image/png": "[encoded data removed]",
            "text/plain": [
              "<Figure size 432x288 with 1 Axes>"
            ]
          },
          "metadata": {
            "tags": [],
            "needs_background": "light"
          }
        }
      ]
    }
  ]
}