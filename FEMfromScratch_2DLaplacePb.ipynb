{
  "nbformat": 4,
  "nbformat_minor": 0,
  "metadata": {
    "colab": {
      "name": "2DLaplacian_FEM.ipynb",
      "provenance": [],
      "collapsed_sections": []
    },
    "kernelspec": {
      "name": "python3",
      "display_name": "Python 3"
    }
  },
  "cells": [
    {
      "cell_type": "markdown",
      "metadata": {
        "id": "i9jVyxtEkpHh"
      },
      "source": [
        "# FEM from scratch: Laplace problem"
      ]
    },
    {
      "cell_type": "code",
      "metadata": {
        "id": "2e1y-9bVR-nR"
      },
      "source": [
        "import numpy as np\n",
        "import matplotlib.pyplot as plt"
      ],
      "execution_count": 1,
      "outputs": []
    },
    {
      "cell_type": "markdown",
      "metadata": {
        "id": "FqCaUpqFim8z"
      },
      "source": [
        "We implement the $\\mathbb{P}^1$ FEM for solving the Laplace problem with Dirichlet and Neumann boundary conditions. On the unit square $\\Omega = {[0,1]}^2$ we consider \n",
        "\\begin{equation*}\n",
        "  \\begin{cases}\n",
        "    -\\Delta u = f, \\qquad & \\text{in }\\Omega, \\\\\n",
        "    u = g_D, \\qquad & \\text{on }\\Gamma_D, \\\\\n",
        "    \\boldsymbol{\\nabla}{u}\\cdot\\boldsymbol{n} = g_N & \\text{on }\\Gamma_N.\n",
        "  \\end{cases}\n",
        "\\end{equation*}\n",
        "\n",
        "We test the solver using the simple analytical solution given by \n",
        "$$\n",
        "u(x,y) = (1-x^2)(1-y^2),\n",
        "$$\n",
        "from which we infer $f = 4 - 2(x^2+y^2)$. .\n",
        "We consider three different configurations of boundary conditions:\n",
        "\n",
        "1.   **Problem 1**: full Dirichlet conditions, i.e.  $\\Gamma_D = \\partial\\Omega$\n",
        "2.   **Problem 2**: mixed homogeneous conditions, i.e. $\\Gamma_D := \\{ (x,y)\\in\\partial\\Omega\\ | x=1 \\} \\cup \\{ (x,y)\\in\\partial\\Omega\\ | y=1 \\}$ and $\\Gamma_N :=\\partial\\Omega\\setminus\\Gamma_D$ (which, indeed, yields $g_D=0$ and $g_N=0$). \n",
        "3.   **Problem 3**: mixed non-homogeneous conditions, i.e.\n",
        "$\\Gamma_D := \\{ (x,y)\\in\\partial\\Omega\\ | x=0 \\} \\cup \\{ (x,y)\\in\\partial\\Omega\\ | x=1 \\}$ and $\\Gamma_N :=\\partial\\Omega\\setminus\\Gamma_D$. \n",
        "\n"
      ]
    },
    {
      "cell_type": "markdown",
      "metadata": {
        "id": "KsYDSdp5K0H9"
      },
      "source": [
        "### Step 1: Mesh generation and reordering of boundary nodes"
      ]
    },
    {
      "cell_type": "code",
      "metadata": {
        "id": "jx8ChM2nA9YI"
      },
      "source": [
        "def left_mesh(a, b, nx, ny):\n",
        "  '''\n",
        "  construct a left-type uniform triangular mesh of [0,a] x [0,b] starting from a \n",
        "  cartesian grid with nx cells in the x-direction and ny cells in the y-direction\n",
        "  '''\n",
        "  P = np.zeros(((nx+1)*(ny+1),2))\n",
        "  T = np.zeros((2*nx*ny,3), dtype=np.int)\n",
        "\n",
        "  x = np.linspace(0, a, nx+1)\n",
        "  y = np.linspace(0, b, ny+1)\n",
        "\n",
        "  for i in range(0, nx+1):\n",
        "      for j in range(0, ny+1):\n",
        "          # create node matrix P (ordered from bottom-left to top-right)\n",
        "          P[i*(ny+1)+j,0] = x[i]\n",
        "          P[i*(ny+1)+j,1] = y[j]\n",
        "\n",
        "          # create correspondence matrix T with local backward orientation\n",
        "          if (i<nx) & (j<ny):\n",
        "              T[2*(i*ny+j),0] = i*(ny+1) + j\n",
        "              T[2*(i*ny+j),1] = (i+1)*(ny+1) + j\n",
        "              T[2*(i*ny+j),2] = i*(ny+1) + j+1\n",
        "              \n",
        "              T[2*(i*ny+j)+1,0] = i*(ny+1) + j+1\n",
        "              T[2*(i*ny+j)+1,1] = (i+1)*(ny+1) + j\n",
        "              T[2*(i*ny+j)+1,2] = (i+1)*(ny+1) + j+1\n",
        "\n",
        "  return P, T"
      ],
      "execution_count": 2,
      "outputs": []
    },
    {
      "cell_type": "code",
      "metadata": {
        "id": "CalT2Et5-96j"
      },
      "source": [
        "def Dirichlet(a, b, Point, tol, pb = 0):\n",
        "  '''\n",
        "  condition defining the Dirichlet boundary\n",
        "  '''\n",
        "  edge_0 = Point[0] < tol\n",
        "  edge_1 = Point[1] < tol \n",
        "  edge_2 = Point[0] > a-tol\n",
        "  edge_3 = Point[1] > b-tol\n",
        "  \n",
        "  if pb == 0:    # full Dirichlet problem\n",
        "    diric_bc = (edge_0 or edge_1) or (edge_2 or edge_3)\n",
        "  elif pb == 1:  # mixed homogeneous problem\n",
        "    diric_bc = edge_2 or edge_3\n",
        "  elif pb == 2:  # mixed non-homogeneous problem\n",
        "    diric_bc = edge_0 or edge_2\n",
        "  else:\n",
        "    print('wrong pb argument:') \n",
        "    print('  0= full Dirichelt, 1= mixed homogeneous, 2= mixed non-homogeneous')\n",
        "\n",
        "  return diric_bc"
      ],
      "execution_count": 3,
      "outputs": []
    },
    {
      "cell_type": "code",
      "metadata": {
        "id": "r--FAF3T_qdt"
      },
      "source": [
        "def Neumann(a, b, Point, tol, pb = 0):\n",
        "  '''\n",
        "  condition defining the Neumann boundary\n",
        "  '''\n",
        "  edge_0 = Point[0] < tol\n",
        "  edge_1 = Point[1] < tol \n",
        "  edge_2 = Point[0] > a-tol\n",
        "  edge_3 = Point[1] > b-tol\n",
        "\n",
        "  if pb == 0:    # full Dirichlet problem\n",
        "    neuma_bc = False\n",
        "  elif pb == 1:  # mixed homogeneous problem\n",
        "    neuma_bc = edge_0 or edge_1\n",
        "  elif pb == 2:  # mixed non-homogeneous problem\n",
        "    neuma_bc = edge_1 or edge_3\n",
        "  else:\n",
        "    print('wrong pb argument:') \n",
        "    print('  0= full Dirichelt, 1= mixed homogeneous, 2= mixed non-homogeneous')\n",
        "\n",
        "  return neuma_bc"
      ],
      "execution_count": 4,
      "outputs": []
    },
    {
      "cell_type": "code",
      "metadata": {
        "id": "b_4dk1nCL1bT"
      },
      "source": [
        "def ordered_mesh(a, b, nx, ny, pb = 0):\n",
        "  '''\n",
        "  construct a left-type uniform triangular mesh of [0,a] x [0,b] starting from a \n",
        "  cartesian grid with nx cells in the x-direction and ny cells in the y-direction\n",
        "  P,T are modified in order to put internal nodes first and Dirichlet nodes last\n",
        "  '''\n",
        "  P, T = left_mesh(a, b, nx, ny)\n",
        "  P_new = np.zeros(P.shape)\n",
        "  T_new = np.zeros(T.shape, dtype = int)\n",
        "  \n",
        "  n_bndry = 2 * (nx + ny) \n",
        "  n_inter = 0\n",
        "  n_diric = 0\n",
        "  n_neumn = 0\n",
        "\n",
        "  tol = min(a/(2*nx), b/(2*ny))\n",
        "  v = np.zeros(P[:,0].size, dtype = int)     # permutation map\n",
        "\n",
        "  for i in range(P[:,0].size):\n",
        "\n",
        "    if Dirichlet(a, b, P[i,:], tol, pb):\n",
        "      # node i belongs to Dirichlet boundary\n",
        "      v[i] = P[:,0].size - n_diric - 1\n",
        "      n_diric += 1\n",
        "    elif Neumann(a, b, P[i,:], tol, pb):\n",
        "      # node i belongs to Neumann boundary\n",
        "      v[i] = P[:,0].size - n_bndry + n_neumn \n",
        "      n_neumn += 1\n",
        "    else: \n",
        "      # node i is internal \n",
        "      v[i] = n_inter\n",
        "      n_inter += 1\n",
        "    \n",
        "    # update nodes matrix P \n",
        "    P_new[v[i],:] = P[i,:]\n",
        "\n",
        "  # update elements matrix T\n",
        "  T_new[:,:] = v[T[:,:]]\n",
        "\n",
        "  return P_new, T_new, n_diric, n_neumn"
      ],
      "execution_count": 5,
      "outputs": []
    },
    {
      "cell_type": "code",
      "metadata": {
        "id": "ZP5sTx4UDe0o"
      },
      "source": [
        "def plot_mesh(P, E):\n",
        "  for i in range(E[:,0].size):\n",
        "    x = [P[E[i, E[0,:].size-1], 0], P[E[i, 0], 0]]\n",
        "    y = [P[E[i, E[0,:].size-1], 1], P[E[i, 0], 1]]\n",
        "    plt.plot(x, y, \"k\")\n",
        "    for j in range(E[0,:].size-1):\n",
        "      x = [P[E[i, j], 0], P[E[i, j+1], 0]]\n",
        "      y = [P[E[i, j], 1], P[E[i, j+1], 1]]\n",
        "      plt.plot(x, y, \"k\")\n",
        "        \n",
        "  plt.show()"
      ],
      "execution_count": 6,
      "outputs": []
    },
    {
      "cell_type": "code",
      "metadata": {
        "id": "GtvGwAfYGNnB",
        "colab": {
          "base_uri": "https://localhost:8080/",
          "height": 591
        },
        "outputId": "e4cc3b78-4003-4951-f752-ec602e3d044a"
      },
      "source": [
        "P, T, n_diric, n_neumn = ordered_mesh(1, 1, 4, 2, 2)\n",
        "plot_mesh(P,T)\n",
        "print(P)"
      ],
      "execution_count": 7,
      "outputs": [
        {
          "output_type": "stream",
          "name": "stderr",
          "text": [
            "/usr/local/lib/python3.7/dist-packages/ipykernel_launcher.py:7: DeprecationWarning: `np.int` is a deprecated alias for the builtin `int`. To silence this warning, use `int` by itself. Doing this will not modify any behavior and is safe. When replacing `np.int`, you may wish to use e.g. `np.int64` or `np.int32` to specify the precision. If you wish to review your current use, check the release note link for additional information.\n",
            "Deprecated in NumPy 1.20; for more details and guidance: https://numpy.org/devdocs/release/1.20.0-notes.html#deprecations\n",
            "  import sys\n"
          ]
        },
        {
          "output_type": "display_data",
          "data": {
            "text/plain": [
              "<Figure size 432x288 with 1 Axes>"
            ],
            "image/png": "[encoded data removed]"
          },
          "metadata": {
            "needs_background": "light"
          }
        },
        {
          "output_type": "stream",
          "name": "stdout",
          "text": [
            "[[0.25 0.5 ]\n",
            " [0.5  0.5 ]\n",
            " [0.75 0.5 ]\n",
            " [0.25 0.  ]\n",
            " [0.25 1.  ]\n",
            " [0.5  0.  ]\n",
            " [0.5  1.  ]\n",
            " [0.75 0.  ]\n",
            " [0.75 1.  ]\n",
            " [1.   1.  ]\n",
            " [1.   0.5 ]\n",
            " [1.   0.  ]\n",
            " [0.   1.  ]\n",
            " [0.   0.5 ]\n",
            " [0.   0.  ]]\n"
          ]
        }
      ]
    },
    {
      "cell_type": "markdown",
      "metadata": {
        "id": "b_NIHQIdK6Kn"
      },
      "source": [
        "### Assembling of stiffness matrix and right-hand side"
      ]
    },
    {
      "cell_type": "markdown",
      "metadata": {
        "id": "lDvEVoQP9ThD"
      },
      "source": [
        "Let $\\phi_i$ be the hat-function associated to the $i$-th node in the mesh $\\mathcal{T}_h$. We denote with $\\mathcal{E}_h^N$ the set of boundary edges belonging to the Neumann boundary. The linear system associated to the FEM approximation reads $M \\boldsymbol{u} = \\boldsymbol{F}$, where\n",
        "\n",
        "*   The stiffness matrix $M$ is given by:\n",
        "$$\n",
        "M_{ij} = \\sum_{T\\in \\mathcal{T}_h}\\int_T \\boldsymbol{\\nabla} \\phi_i \\cdot \\boldsymbol{\\nabla} \\phi_j\n",
        "$$\n",
        "*   the right-hand side vector $\\boldsymbol{F}$ is given by:\n",
        "$$\n",
        "F_i = \\sum_{T\\in \\mathcal{T}_h}\\int_T f\\phi_i +\n",
        "\\sum_{E\\in \\mathcal{E}_h^N}\\int_E g_N\\phi_i - \n",
        "\\sum_{P_j\\in \\mathcal{V}_h^D} g_D(P_j)\\sum_{T\\in \\mathcal{T}_h}\\int_T \\boldsymbol{\\nabla} \\phi_i \\cdot \\boldsymbol{\\nabla} \\phi_j.\n",
        "$$\n",
        "\n",
        "In **problem 1** and **problem 2** the contribution to $\\boldsymbol{F}$ associated to the Neumann BC vanishes. \n",
        "Moreover, we can deal with non-homogenoeous Dirichlet conditions using the usual trick. Thus, we start by focusing on the assembling of $M$ and the term corresponding to the volumetric load function. We will explain later how to take into account the BCs."
      ]
    },
    {
      "cell_type": "markdown",
      "metadata": {
        "id": "ERG2lYz2JLec"
      },
      "source": [
        "Let the nodes $P_i$ and $P_j$ belong to the boundary of element $T$ and let $e_i$ and $e_j$ be the edges of $T$ opposed to the vertices $P_i$ and $P_j$, respectively. We observe that \n",
        "$$\n",
        "(\\boldsymbol{\\nabla}\\phi_i)_{|T} = \\frac{R_{\\pi/2} \\boldsymbol{e}_i}{2\\ |T|}, \\quad\\text{ and }\\;\\;\n",
        "(\\boldsymbol{\\nabla}\\phi_i\\cdot\\boldsymbol{\\nabla}\\phi_j)_{|T} =\n",
        "\\frac{\\boldsymbol{e}_i \\cdot \\boldsymbol{e}_j}{4\\ |T|^2}.\n",
        "$$\n",
        "Thus, $\\int_T \\boldsymbol{\\nabla}\\phi_i\\cdot\\boldsymbol{\\nabla}\\phi_j = \\frac{\\boldsymbol{e}_i \\cdot \\boldsymbol{e}_j}{4\\ |T|} $.\n",
        " "
      ]
    },
    {
      "cell_type": "markdown",
      "metadata": {
        "id": "iLAnWmyOL0PW"
      },
      "source": [
        "The term associated to the load function $\\boldsymbol{f}$ is computing using a simple quadrature rule (evaluation at the center of each element)."
      ]
    },
    {
      "cell_type": "code",
      "metadata": {
        "id": "j74S1MzRSOHR"
      },
      "source": [
        "def assemble(P, T, f):\n",
        "  '''\n",
        "  construct the Grad*Grad stiffness matrix and rhs vector \n",
        "  corresponding to mesh (P,T) and voulmetric load function f\n",
        "  '''\n",
        "  n_nodes = P[:,0].size\n",
        "  n_elems = T[:,0].size\n",
        "  M = np.zeros((n_nodes, n_nodes))\n",
        "  b = np.zeros(n_nodes)\n",
        "\n",
        "  for k in range(n_elems):\n",
        "    # compute edges of element k\n",
        "    e = np.zeros((3,2))\n",
        "    e[2,:] = P[T[k,1],:] - P[T[k,0],:]\n",
        "    e[0,:] = P[T[k,2],:] - P[T[k,1],:]\n",
        "    e[1,:] = P[T[k,0],:] - P[T[k,2],:] \n",
        "    area_T = np.linalg.det(e[0:2,:])/2.0\n",
        "    bar_T = np.array((P[T[k,0],:] + P[T[k,1],:] + P[T[k,2],:])/3.0)\n",
        " \n",
        "    # each local contribution is stored in the corresponding global position\n",
        "    for iloc in range(3):\n",
        "      b[T[k,iloc]] += area_T * f(bar_T[0], bar_T[1]) / 3.0;\n",
        "      for jloc in range(3):\n",
        "        M[T[k,iloc], T[k,jloc]] += np.dot(e[iloc,:], e[jloc,:])/(4*area_T)\n",
        "\n",
        "  return M, b"
      ],
      "execution_count": 8,
      "outputs": []
    },
    {
      "cell_type": "markdown",
      "metadata": {
        "id": "lminviDUjWvF"
      },
      "source": [
        "### Main program"
      ]
    },
    {
      "cell_type": "code",
      "metadata": {
        "id": "hRM7sQSaTSpv",
        "colab": {
          "base_uri": "https://localhost:8080/",
          "height": 529
        },
        "outputId": "91964bc4-c812-46ef-cb8b-2c119b02411f"
      },
      "source": [
        "pb = 2\n",
        "n = 20\n",
        "f = lambda x, y: 4 - 2* (x**2+y**2)\n",
        "u = lambda x, y: (1-x**2)*(1-y**2)\n",
        "def grad_u(x,y): \n",
        "  grad = np.array([-2*x*(1-y**2), -2*y*(1-x**2)])\n",
        "  return grad\n",
        "\n",
        "# Step 1: meshing\n",
        "P, T, n_diric, n_neumn = ordered_mesh(1, 1, n, n, pb)\n",
        "\n",
        "# Step 2: definitions of discrete space (dofs)\n",
        "n_nodes = P[:,0].size\n",
        "n_dofs = n_nodes - n_diric\n",
        "uh = np.zeros(n_nodes)\n",
        "\n",
        "# Step 3: assembling matrices and rhs vectors\n",
        "M, b = assemble(P, T, f)\n",
        "# accounting for Neumann BCs\n",
        "for j in range(n_dofs-n_neumn, n_dofs):\n",
        "  b[j] += neumann_rhs(1, 1, P[j,:], grad_u, 1/(2*n))\n",
        "# accounting for Dirichlet BCs\n",
        "uh[n_dofs:n_nodes] = u(P[n_dofs:n_nodes,0], P[n_dofs:n_nodes,1])\n",
        "b[0:n_dofs] += -np.dot(M[0:n_dofs, n_dofs:n_nodes], uh[n_dofs:n_nodes])\n",
        "\n",
        "# Step 4: solving linear system\n",
        "A = M[0:n_dofs, 0:n_dofs]\n",
        "uh[0:n_dofs] = np.linalg.solve(A, b[0:n_dofs])\n",
        "\n",
        "# Step 5a: compute errors\n",
        "err_h1 = 0\n",
        "err_l2 = 0\n",
        "for k in range(T[:,0].size):\n",
        "  # compute edges of element k\n",
        "  e = np.zeros((3,2))\n",
        "  e[2,:] = P[T[k,1],:] - P[T[k,0],:]\n",
        "  e[0,:] = P[T[k,2],:] - P[T[k,1],:]\n",
        "  e[1,:] = P[T[k,0],:] - P[T[k,2],:] \n",
        "  area_T = np.linalg.det(e[0:2,:])/2.0\n",
        "  bar_T = np.array((P[T[k,0],:] + P[T[k,1],:] + P[T[k,2],:])/3.0)\n",
        "\n",
        "  gradu_bar = grad_u(bar_T[0], bar_T[1])\n",
        "  grad_uh = np.array([sum(-e[:,1]*uh[T[k,:]]), sum(e[:,0]*uh[T[k,:]])])/(2*area_T)\n",
        "  err_h1 += area_T * np.dot(gradu_bar - grad_uh, gradu_bar - grad_uh)\n",
        "\n",
        "  u_bar = u(bar_T[0], bar_T[1])\n",
        "  uh_bar = (uh[T[k,0]] + uh[T[k,1]] + uh[T[k,2]])/3.0\n",
        "  err_l2 += area_T * (uh_bar - u_bar)**2\n",
        "\n",
        "err_h1 = np.sqrt(err_h1)\n",
        "err_l2 = np.sqrt(err_l2)\n",
        "print('n={} eL2={:.2e} eH1={:.2e}'.format(n, err_l2, err_h1))\n",
        "\n",
        "# Step 5b: plot the results and compare with true solution\n",
        "Q, T = left_mesh(1,1,4*n,4*n)\n",
        "u_ex = u(Q[:,0], Q[:,1])\n",
        "fig, axes = plt.subplots(1,2, figsize=(12,6))\n",
        "\n",
        "axes[0].tricontourf(P[:,0], P[:,1], uh , 20)\n",
        "axes[0].set_title(\"FEM approximation\");\n",
        "\n",
        "axes[1].tricontourf(Q[:,0], Q[:,1], u_ex , 20)\n",
        "axes[1].set_title(\"exact solution\");\n",
        "\n",
        "fig.tight_layout()\n",
        "plt.show()"
      ],
      "execution_count": 10,
      "outputs": [
        {
          "output_type": "stream",
          "name": "stderr",
          "text": [
            "/usr/local/lib/python3.7/dist-packages/ipykernel_launcher.py:7: DeprecationWarning: `np.int` is a deprecated alias for the builtin `int`. To silence this warning, use `int` by itself. Doing this will not modify any behavior and is safe. When replacing `np.int`, you may wish to use e.g. `np.int64` or `np.int32` to specify the precision. If you wish to review your current use, check the release note link for additional information.\n",
            "Deprecated in NumPy 1.20; for more details and guidance: https://numpy.org/devdocs/release/1.20.0-notes.html#deprecations\n",
            "  import sys\n"
          ]
        },
        {
          "output_type": "stream",
          "name": "stdout",
          "text": [
            "n=20 eL2=9.43e-04 eH1=4.29e-02\n"
          ]
        },
        {
          "output_type": "display_data",
          "data": {
            "text/plain": [
              "<Figure size 864x432 with 2 Axes>"
            ],
            "image/png": "[encoded data removed]"
          },
          "metadata": {
            "needs_background": "light"
          }
        }
      ]
    },
    {
      "cell_type": "code",
      "metadata": {
        "id": "pr1Zyw-2Aaw9"
      },
      "source": [
        "def neumann_rhs(a, b, Point, grad_u, tol):\n",
        "  '''\n",
        "  returns the average flux in the two Neumann edges sharing 'Point' \n",
        "  '''\n",
        "  # on the domain boundary we define the outward-pointing normal vectors\n",
        "  # corresponding to the two edges sharing 'Point' \n",
        "  if (Point[0] < tol) and (Point[1] < b-tol):\n",
        "     normal_l = np.array([-1, 0])\n",
        "     if Point[1] < tol:\n",
        "       normal_r = np.array([0, -1])\n",
        "     else:\n",
        "       normal_r = normal_l\n",
        "  elif Point[1] < tol:  \n",
        "     normal_l = np.array([0, -1])\n",
        "     if Point[0] > a-tol:\n",
        "       normal_r = np.array([1, 0])\n",
        "     else:  \n",
        "       normal_r = normal_l\n",
        "  elif Point[0] > a-tol: \n",
        "     normal_l = np.array([1, 0])\n",
        "     if Point[1] > b-tol:\n",
        "       normal_r = np.array([0, 1])\n",
        "     else:\n",
        "       normal_r = normal_l\n",
        "  else:\n",
        "     normal_l = np.array([0, 1])\n",
        "     if Point[0] < tol:\n",
        "       normal_r = np.array([-1, 0])\n",
        "     else:\n",
        "       normal_r = normal_l\n",
        "  \n",
        "  tangent_l = np.array([normal_l[1], -normal_l[0]]) * tol \n",
        "  tangent_r = np.array([-normal_r[1], normal_r[0]]) * tol \n",
        "  flux_l = np.dot(grad_u((Point+tangent_l)[0], (Point+tangent_l)[1]), normal_l)\n",
        "  flux_r = np.dot(grad_u((Point+tangent_r)[0], (Point-tangent_r)[1]), normal_r)\n",
        "  flux = tol*(flux_l + flux_r)\n",
        "\n",
        "  return flux"
      ],
      "execution_count": 9,
      "outputs": []
    }
  ]
}