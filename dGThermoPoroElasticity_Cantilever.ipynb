{
  "nbformat": 4,
  "nbformat_minor": 0,
  "metadata": {
    "colab": {
      "name": "ThePorEl_Cantilever.ipynb",
      "provenance": [],
      "collapsed_sections": []
    },
    "kernelspec": {
      "name": "python3",
      "display_name": "Python 3"
    },
    "language_info": {
      "name": "python"
    }
  },
  "cells": [
    {
      "cell_type": "markdown",
      "metadata": {
        "id": "tU7Y5qXw7d3J"
      },
      "source": [
        "# Thermo-poro-elasticity with nonlinear convection: Cantilever problem"
      ]
    },
    {
      "cell_type": "markdown",
      "metadata": {
        "id": "mxZInfKe7v6Q"
      },
      "source": [
        "We solve the nonlinear **thermo-poro-elasticity** problem described by the following set of the equations:\n",
        "\n",
        "$$\n",
        "    \\begin{aligned}\n",
        "-\\boldsymbol\\nabla\\cdot(2\\mu\\boldsymbol\\nabla_s\\boldsymbol{u} + (\\lambda\\boldsymbol\\nabla\\cdot\\boldsymbol{u}-\\alpha p -\\beta T)\\mathbb{I}_d) &= \\boldsymbol{f}, \\quad\\text{in}\\; \\Omega, \\\\\n",
        "\\partial_t(a_0 T - b_0 p + \\beta\\boldsymbol\\nabla\\cdot\\boldsymbol{u}) -\\gamma\\boldsymbol\\nabla T\\cdot\\kappa\\boldsymbol\\nabla p -\\boldsymbol\\nabla\\cdot(\\Theta\\boldsymbol\\nabla T) &= h, \\quad\\text{in}\\; \\Omega, \\\\\n",
        "\\partial_t(c_0 p - b_0 T + \\alpha\\boldsymbol\\nabla\\cdot\\boldsymbol{u}) -\\boldsymbol\\nabla\\cdot(\\kappa\\boldsymbol\\nabla p) &= g, \\quad\\text{in}\\; \\Omega,\n",
        "    \\end{aligned}\n",
        "$$\n",
        "\n",
        "assuming null forcing terms $\\boldsymbol{f}$, $g$, snd $h$, null initial conditions, and \n",
        "\n",
        "$$\n",
        "  \\begin{aligned}\n",
        "\\boldsymbol{u} &= \\boldsymbol{0}, \\qquad\\;\\quad\\text{ on } \\Gamma_D := \\{\\boldsymbol{x}\\in\\partial\\Omega\\, |\\, x_1 = 0 \\},\n",
        "\\\\\n",
        "\\boldsymbol{\\sigma}\\boldsymbol{n} &= (0 , -1)^{T}, \\;\\;\\text{ on } \\Gamma_N:= \\{\\boldsymbol{x}\\in\\partial\\Omega\\, |\\, x_2 = 1 \\},\n",
        "\\\\\n",
        "\\boldsymbol{\\sigma}\\boldsymbol{n} &= \\boldsymbol{0}, \\qquad\\;\\quad\\text{ on } \\partial\\Omega\\setminus(\\Gamma_D\\cup\\Gamma_N),\n",
        "\\\\\n",
        "\\Theta\\boldsymbol\\nabla T\\cdot\\boldsymbol{n} &= 0, \n",
        "\\qquad\\;\\quad\\text{ on } \\partial\\Omega,\n",
        "\\\\\n",
        "\\kappa\\boldsymbol\\nabla p\\cdot\\boldsymbol{n} &= 0, \n",
        "\\qquad\\;\\quad\\text{ on } \\partial\\Omega.\n",
        "  \\end{aligned}\n",
        "$$"
      ]
    },
    {
      "cell_type": "markdown",
      "metadata": {
        "id": "asFu23IVEpaY"
      },
      "source": [
        "We consider the **four-field formulation** obtained by introducing the additional variable \n",
        "$\\varphi = \\lambda \\boldsymbol\\nabla\\cdot\\boldsymbol{u} - \\alpha p -\\beta T$. We employ a **dG SIP discretization** in space and a backward Euler time advancing scheme. We linearized the discrete problem in two ways: (i) adopting a semi-implicit time scheme, or (ii) by the Newton method. "
      ]
    },
    {
      "cell_type": "markdown",
      "metadata": {
        "id": "2rWJ_mGFJmZX"
      },
      "source": [
        "## Implementation"
      ]
    },
    {
      "cell_type": "code",
      "metadata": {
        "id": "0Ur5hIQq7lPk"
      },
      "source": [
        "%%capture\n",
        "try:\n",
        "    import dolfin\n",
        "except ImportError:\n",
        "    !wget \"https://fem-on-colab.github.io/releases/fenics-install.sh\" -O \"/tmp/fenics-install.sh\" && bash \"/tmp/fenics-install.sh\"\n",
        "    import dolfin"
      ],
      "execution_count": null,
      "outputs": []
    },
    {
      "cell_type": "code",
      "metadata": {
        "id": "g5KMc3TNJr3L"
      },
      "source": [
        "from fenics import *\n",
        "from mshr import *\n",
        "import matplotlib.pyplot as plt\n",
        "import numpy as np"
      ],
      "execution_count": null,
      "outputs": []
    },
    {
      "cell_type": "code",
      "metadata": {
        "id": "eFqZI27kKM8A"
      },
      "source": [
        "# mesh generation\n",
        "#mesh = UnitSquareMesh(64, 64, 'crossed')\n",
        "square = Rectangle(Point(0.0, 0.0), Point(1.0, 1.0))\n",
        "mesh = generate_mesh(square, 64)\n",
        "\n",
        "# definition of the discrete spaces\n",
        "U = VectorElement('DG', mesh.ufl_cell(), 1)\n",
        "Q = FiniteElement('DG', mesh.ufl_cell(), 1)\n",
        "P = FiniteElement('DG', mesh.ufl_cell(), 1)\n",
        "X = FunctionSpace(mesh, MixedElement([U, Q, P, P]))\n",
        "\n",
        "# problem data\n",
        "T = 0.005              # final simulation time\n",
        "mu = Constant(1.0)     # mu fixed as reference parameter (keep it = 1)\n",
        "lam = Constant(10.0)   # lam can be arbitrarly large (nearly incompressible case)\n",
        "a_0 = Constant(0.0)    # a_0 can be equal to 0\n",
        "b_0 = Constant(0.0)    # b_0 < a_0 and b_0 < c_0 (physical constraints)\n",
        "c_0 = Constant(0.01)   # c_0 can be equal to 0\n",
        "kappa = Constant(0.02) # strictly positive\n",
        "theta = Constant(0.2)  # strictly positive\n",
        "alpha = Constant(1.0)  # strictly positive and smaller or equal to 1\n",
        "beta = Constant(0.8)   # strictly positive and smaller or equal to 1\n",
        "iota = Constant(1.0)   # 0: linear case, 1: nonlinear advection\n",
        "\n",
        "t_n = Expression(('0.0', '-1.0'), t=0.0, degree=0) \n",
        "dt = 0.001\n",
        "\n",
        "# traction boundary\n",
        "class TopBoundary(SubDomain):\n",
        "    def inside(self, x, on_boundary):\n",
        "        return on_boundary and near(x[1], 1.0)\n",
        "\n",
        "# clamped boundary\n",
        "class LeftBoundary(SubDomain):\n",
        "    def inside (self, x, on_boudary):\n",
        "        return on_boudary and near(x[0], 0.0)\n",
        "\n",
        "top = TopBoundary()\n",
        "left = LeftBoundary()\n",
        "boundary_markers = MeshFunction('size_t', mesh, 1, 0)\n",
        "top.mark(boundary_markers, 1)\n",
        "left.mark(boundary_markers, 2)\n",
        "ds = Measure('ds', domain=mesh, subdomain_data=boundary_markers)"
      ],
      "execution_count": null,
      "outputs": []
    },
    {
      "cell_type": "code",
      "metadata": {
        "colab": {
          "base_uri": "https://localhost:8080/",
          "height": 388
        },
        "id": "xaZBAs_WMgF9",
        "outputId": "a9e874ed-0b91-4969-e330-fc302ef3cc1a"
      },
      "source": [
        "# assembling linearized discrete problem\n",
        "u, phi, p, tt = TrialFunctions(X)\n",
        "v, psi, q, rr = TestFunctions(X)\n",
        "x_old = Function(X)\n",
        "u_old, phi_old, p_old, tt_old = split(x_old)\n",
        "    \n",
        "n = FacetNormal(mesh)\n",
        "h = CellDiameter(mesh)\n",
        "h_avg = (h('+') + h('-'))/2\n",
        "gamma = 10.1\n",
        "delta = 3.1\n",
        "\n",
        "a1 = (2.0*inner(sym(grad(u)), sym(grad(v))) + phi*div(v) - div(u)*psi)*dx  \\\n",
        "   - 2.0*inner(dot(avg(sym(grad(u))), n('+')), jump(v))*dS \\\n",
        "   - 2.0*inner(jump(u), dot(avg(sym(grad(v))), n('+')))*dS \\\n",
        "   - 2.0*inner(dot(sym(grad(u)), n), v)*ds(2) \\\n",
        "   - 2.0*inner(u, dot(sym(grad(v)), n))*ds(2) \\\n",
        "   + 2.0*gamma/h_avg*inner(jump(u), jump(v))*dS \\\n",
        "   + 2.0*gamma/h*inner(u, v)*ds(2) \\\n",
        "   + inner(jump(u, n), avg(psi))*dS - inner(jump(v, n), avg(phi))*dS \\\n",
        "   + inner(u, n)*psi*ds(2) - inner(v, n)*phi*ds(2) \\\n",
        "   + delta*h_avg*jump(phi)*jump(psi)*dS \n",
        "\n",
        "a2 = (1.0/lam)*(phi+alpha*p+beta*tt)*(psi+alpha*q+beta*rr)*dx \\\n",
        "   + (b_0*(p-tt)*(q-rr) + (c_0-b_0)*p*q + (a_0-b_0)*tt*rr)*dx\n",
        "\n",
        "a3 = dt*kappa*dot(grad(p), grad(q))*dx \\\n",
        "   - dt*kappa*dot(avg(grad(q)), jump(p, n))*dS \\\n",
        "   - dt*kappa*dot(jump(q, n), avg(grad(p)))*dS \\\n",
        "   + dt*kappa*gamma/h_avg*dot(jump(p, n), jump(q, n))*dS \n",
        "\n",
        "a4 = dt*theta*dot(grad(tt), grad(rr))*dx \\\n",
        "   - dt*theta*dot(avg(grad(rr)), jump(tt, n))*dS \\\n",
        "   - dt*theta*dot(jump(rr, n), avg(grad(tt)))*dS \\\n",
        "   + dt*theta*gamma/h_avg*dot(jump(tt, n), jump(rr, n))*dS \n",
        "    \n",
        "a = a1 + a2 + a3 + a4 - dt*iota*dot(kappa*grad(p), grad(tt_old))*rr*dx\n",
        "    \n",
        "L = dot(t_n, v) * ds(1) + (p_old*(c_0*q-b_0*rr) + tt_old*(a_0*rr-b_0*q))*dx \\\n",
        "  + (1/lam)*(alpha*p_old+beta*tt_old+phi_old)*(alpha*q+beta*rr)*dx\n",
        "\n",
        "# advance in time\n",
        "time = 0.0\n",
        "x = Function(X)\n",
        "u, phi, p, tt = x.split()\n",
        "\n",
        "while time < T:\n",
        "  time += dt\n",
        "  t_n.t = time\n",
        "\n",
        "  print('solving step {}'.format(time))\n",
        "  x_old.assign(x)\n",
        "  solve(a == L, x)\n",
        "  u, phi, p, tt = x.split()\n",
        "\n",
        "plot(p)"
      ],
      "execution_count": null,
      "outputs": [
        {
          "output_type": "stream",
          "text": [
            "solving step 0.001\n",
            "solving step 0.002\n",
            "solving step 0.003\n",
            "solving step 0.004\n",
            "solving step 0.005\n"
          ],
          "name": "stdout"
        },
        {
          "output_type": "execute_result",
          "data": {
            "text/plain": [
              "<matplotlib.tri.tricontour.TriContourSet at 0x7fb25eb11050>"
            ]
          },
          "metadata": {
            "tags": []
          },
          "execution_count": 4
        },
        {
          "output_type": "display_data",
          "data": {
            "image/png": "[encoded data removed]",
            "text/plain": [
              "<Figure size 432x288 with 1 Axes>"
            ]
          },
          "metadata": {
            "tags": [],
            "needs_background": "light"
          }
        }
      ]
    },
    {
      "cell_type": "code",
      "metadata": {
        "colab": {
          "base_uri": "https://localhost:8080/",
          "height": 306
        },
        "id": "GpC2XFxTPQ8U",
        "outputId": "512dcced-262a-4c74-f9f0-6148f0e4923e"
      },
      "source": [
        "plot(tt)"
      ],
      "execution_count": null,
      "outputs": [
        {
          "output_type": "execute_result",
          "data": {
            "text/plain": [
              "<matplotlib.tri.tricontour.TriContourSet at 0x7fb25f41d590>"
            ]
          },
          "metadata": {
            "tags": []
          },
          "execution_count": 5
        },
        {
          "output_type": "display_data",
          "data": {
            "image/png": "[encoded data removed]",
            "text/plain": [
              "<Figure size 432x288 with 1 Axes>"
            ]
          },
          "metadata": {
            "tags": [],
            "needs_background": "light"
          }
        }
      ]
    },
    {
      "cell_type": "code",
      "metadata": {
        "id": "IcZwQh5vQS8z"
      },
      "source": [],
      "execution_count": null,
      "outputs": []
    }
  ]
}