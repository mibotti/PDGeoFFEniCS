{
  "nbformat": 4,
  "nbformat_minor": 0,
  "metadata": {
    "colab": {
      "name": "Lab4_Ex3.ipynb",
      "provenance": [],
      "collapsed_sections": []
    },
    "kernelspec": {
      "name": "python3",
      "display_name": "Python 3"
    }
  },
  "cells": [
    {
      "cell_type": "markdown",
      "metadata": {
        "id": "wPnBrWO532Gm"
      },
      "source": [
        "# Parabolic problems: Convergence test"
      ]
    },
    {
      "cell_type": "markdown",
      "metadata": {
        "id": "jJW6K2Dy4Xdy"
      },
      "source": [
        "On the unit square domain $\\Omega = (0,1) \\times (0,1)$ and time interval $I = (0, 1)$ \n",
        "  we consider the initial and boundary value problem\n",
        "  $$\n",
        "    \\begin{cases}\n",
        "      \\dfrac{\\partial u}{\\partial t}- \\Delta u = f  & \\text{in } \\Omega\\times I, \\\\\n",
        "      u = g                                         & \\text{on } \\partial\\Omega\\times I, \\\\\n",
        "      {\\left. u \\right|}_{t=0} = u_0                & \\text{on } \\Omega. \\\\\n",
        "    \\end{cases}\n",
        "$$"
      ]
    },
    {
      "cell_type": "markdown",
      "metadata": {
        "id": "VzSkItoT4SCE"
      },
      "source": [
        "As exact solution we consider $u(x, y, t) = 1 + \\frac{1}{2} \\sin(\\omega t) \\sin(\\pi x) \\sin(\\pi y)$. \n",
        "Hence, we have $u_0=1$, $g(x, y, t)=1$ and \n",
        "$$\n",
        "f(x, y, t)= \\frac12 \\left(\\omega \\cos(\\omega t) + 2 \\pi^2 \\sin(\\omega t)\\right) \\sin(\\pi x)\\sin(\\pi y). \n",
        "$$\n",
        "We take $\\omega=\\pi$ and consider different values of $\\theta$ and $\\delta t$."
      ]
    },
    {
      "cell_type": "markdown",
      "metadata": {
        "id": "8FnJnKGm4Z7Y"
      },
      "source": [
        "## Numerical solution"
      ]
    },
    {
      "cell_type": "markdown",
      "metadata": {
        "id": "vay61ycQ4dAH"
      },
      "source": [
        "We solve the problem using the $\\mathbb{P}^2$ FEM for the spatial discretization and the Cranck-Nicolson scheme for the advance in time."
      ]
    },
    {
      "cell_type": "code",
      "metadata": {
        "id": "SV9kMlBf3yVj"
      },
      "source": [
        "%%capture\n",
        "try:\n",
        "    import dolfin\n",
        "except ImportError:\n",
        "    !wget \"https://fem-on-colab.github.io/releases/fenics-install.sh\" -O \"/tmp/fenics-install.sh\" && bash \"/tmp/fenics-install.sh\"\n",
        "    import dolfin\n",
        "    \n",
        "from fenics import *\n",
        "import matplotlib.pyplot as plt\n",
        "import numpy as np"
      ],
      "execution_count": null,
      "outputs": []
    },
    {
      "cell_type": "markdown",
      "metadata": {
        "id": "x51Fx9iG_m0k"
      },
      "source": [
        "We define a 2D solver function of the parabolic problem taking eight arguments: the parameters $n$ and $\\rm{degree}$ determing the accuracy of the spatial approximation, the parameters $dt$ and $\\theta$ passing the information on the time scheme, and the problem data $T_f$ (final computational time), $u_0$ (initial condition), $u_{ex}$ (exact solution), and $f$ (load function). "
      ]
    },
    {
      "cell_type": "code",
      "metadata": {
        "id": "rhACDqpC3_yp"
      },
      "source": [
        "def solve_parabolic(n, degree, dt, theta, Tfin, u_ex, f):\n",
        "    # 1. mesh generation\n",
        "    mesh = UnitSquareMesh(n, n, 'crossed')\n",
        "\n",
        "    # 2. definition of finite element space and BCs\n",
        "    V = FunctionSpace(mesh, 'CG', degree)\n",
        "\n",
        "    def boundary(x, on_boundary):\n",
        "        return on_boundary\n",
        "\n",
        "    g_boundary = Constant(1.0)\n",
        "    bc = DirichletBC(V, g_boundary, boundary)\n",
        "\n",
        "    # 3. assembling \n",
        "    u = TrialFunction(V)\n",
        "    v = TestFunction(V)\n",
        "\n",
        "    t = 0\n",
        "    u_old = project(u_ex, V)\n",
        "\n",
        "    a = (u * v / dt + theta * inner(grad(u), grad(v))) * dx\n",
        "    L1 = ((u_old * v / dt) - (1 - theta) * inner(grad(u_old), grad(v)))* dx\n",
        "    L2 = f * v * dx\n",
        "\n",
        "    # 4. solve and advance in time \n",
        "    A = assemble(a)\n",
        "    bc.apply(A)\n",
        "    Ainv = LUSolver(A)\n",
        "\n",
        "    f.time = t\n",
        "    u_ex.time = t\n",
        "\n",
        "    l2err = errornorm(u_ex, u_old, 'L2')\n",
        "    h1err = 0.0\n",
        "    #h1err = errornorm(u_ex, u_old, 'H10')\n",
        "\n",
        "    while t < Tfin:\n",
        "        b21 = assemble(L2)\n",
        "\n",
        "        t += dt\n",
        "\n",
        "        f.time = t\n",
        "        b1 = assemble(L1)\n",
        "        b22 = assemble(L2)\n",
        "\n",
        "        b = b1 + theta * b22 + (1 - theta) * b21\n",
        "        bc.apply(b)\n",
        "\n",
        "        Ainv.solve(u_old.vector(), b)\n",
        "\n",
        "        u_ex.time = t\n",
        "        l2err = max(l2err, errornorm(u_ex, u_old, 'L2'))\n",
        "        h1err += dt * (errornorm(u_ex, u_old, 'H10')**2)\n",
        "        #h1err = max(h1err, errornorm(u_ex, u_old, 'H10'))\n",
        "    \n",
        "    h1err = sqrt(h1err)\n",
        "    return l2err, h1err"
      ],
      "execution_count": null,
      "outputs": []
    },
    {
      "cell_type": "markdown",
      "metadata": {
        "id": "csFC-yitA5cM"
      },
      "source": [
        "Notice above that the error measures are the $L^\\infty(I;L^2(\\Omega))$-norm and the $L^2(I;H^1(\\Omega))$-seminorm.\n",
        "We consider four refinements of the initial \"crossed\" triangular mesh (with $n=4$) and initial subdivision of the time interval (with $\\delta_t=0.5$)."
      ]
    },
    {
      "cell_type": "code",
      "metadata": {
        "id": "Nl6ffGIZ_eJR",
        "outputId": "8078cee9-34cf-40a8-d4a4-78e5d12d4f99",
        "colab": {
          "base_uri": "https://localhost:8080/",
          "height": 256
        }
      },
      "source": [
        "M_err=np.zeros((2,6))\n",
        "\n",
        "Tfin = 1.0\n",
        "theta = 0.5\n",
        "degree = 2\n",
        "\n",
        "u_ex = Expression('1 + 0.5 * sin(omega * time) * sin(2 * pi * m * x[0]) * sin(2 * pi * n * x[1])',\n",
        "                  degree=2*degree+1, time=0.0, omega=pi, m=0.5, n=0.5)\n",
        "f = Expression('0.5 * (omega * cos(omega * time) + 4 * (m * m + n * n) * pi * pi * sin(omega * time)) * sin(2 * pi * m * x[0]) * sin(2 * pi * n * x[1])',\n",
        "               degree=degree+1, time=0.0, omega=pi, m=0.5, n=0.5)\n",
        "\n",
        "for i in range(6):\n",
        "    n = 4*(2**i)\n",
        "    dt = 0.5/(2**i)\n",
        "    l2err, h1err = solve_parabolic(n, degree, dt, theta, Tfin, u_ex, f)\n",
        "\n",
        "    M_err[0,i] = l2err \n",
        "    M_err[1,i] = h1err\n",
        "\n",
        "    print('n={} dt={} l2err={:.2e} h1err={:.2e}'.format(n, dt, l2err, h1err))\n",
        "    print()"
      ],
      "execution_count": null,
      "outputs": [
        {
          "output_type": "stream",
          "text": [
            "n=4 dt=0.5 l2err=1.50e-02 h1err=5.74e-02\n",
            "\n",
            "n=8 dt=0.25 l2err=2.65e-03 h1err=9.01e-03\n",
            "\n",
            "n=16 dt=0.125 l2err=5.52e-04 h1err=1.95e-03\n",
            "\n",
            "n=32 dt=0.0625 l2err=1.25e-04 h1err=4.64e-04\n",
            "\n",
            "n=64 dt=0.03125 l2err=3.12e-05 h1err=1.14e-04\n",
            "\n",
            "n=128 dt=0.015625 l2err=7.79e-06 h1err=2.82e-05\n",
            "\n"
          ],
          "name": "stdout"
        }
      ]
    },
    {
      "cell_type": "markdown",
      "metadata": {
        "id": "OcPD2iyRSUEJ"
      },
      "source": [
        "We visualize the convergence order by plotting the errors vs. timestep (or meshsize) in logaritmic scale. \n",
        "\n",
        "**The theoretically predicted second-order convergence rate is confirmed**."
      ]
    },
    {
      "cell_type": "code",
      "metadata": {
        "id": "Xh14GnhVKWSf",
        "outputId": "aa4e8451-88e3-46b4-f183-7ccab05e6125",
        "colab": {
          "base_uri": "https://localhost:8080/",
          "height": 461
        }
      },
      "source": [
        "# definition of the meshsize \n",
        "dt = np.array([0.5/(2**i) for i in range(6)])\n",
        "\n",
        "# we use the subplots axis layout managers in matplotlib\n",
        "fig, axes = plt.subplots(figsize=(10,6))\n",
        "\n",
        "axes.loglog(dt, dt**2, 'g',label=\"order 2\")\n",
        "axes.loglog(dt, M_err[0,:], 'r--*',label=\"$L^2$ err\")\n",
        "axes.loglog(dt, M_err[1,:], 'g--*',label=\"$H^1$ err\")\n",
        "\n",
        "axes.set_title(\"convergence for $k=2$ and ${theta}=0.5$\");\n",
        "axes.set_xlabel(\"dt\")\n",
        "axes.set_ylabel(\"errors\")\n",
        "axes.legend(loc=4)\n",
        "\n",
        "fig.tight_layout()\n",
        "plt.show()"
      ],
      "execution_count": null,
      "outputs": [
        {
          "output_type": "display_data",
          "data": {
            "image/png": "[encoded data removed]",
            "text/plain": [
              "<Figure size 720x432 with 1 Axes>"
            ]
          },
          "metadata": {
            "tags": []
          }
        }
      ]
    },
    {
      "cell_type": "code",
      "metadata": {
        "id": "_Mmep_aoR5VW"
      },
      "source": [],
      "execution_count": null,
      "outputs": []
    }
  ]
}