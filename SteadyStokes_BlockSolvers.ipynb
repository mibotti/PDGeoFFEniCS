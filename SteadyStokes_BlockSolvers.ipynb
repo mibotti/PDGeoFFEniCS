{
  "nbformat": 4,
  "nbformat_minor": 0,
  "metadata": {
    "colab": {
      "name": "Lab9_Ex2.ipynb",
      "provenance": [],
      "collapsed_sections": []
    },
    "kernelspec": {
      "name": "python3",
      "display_name": "Python 3"
    }
  },
  "cells": [
    {
      "cell_type": "markdown",
      "metadata": {
        "id": "19B4KhHDAzNy"
      },
      "source": [
        "# Improvements and modifications of the Stokes solver"
      ]
    },
    {
      "cell_type": "markdown",
      "metadata": {
        "id": "O2pN2CwfbkIV"
      },
      "source": [
        "We consider the steady Stokes problem with mixed BCs defined in the unit square domain $\\Omega := {[0,1]}^2$ by the following set of equations:\n",
        "$$ \n",
        "\\begin{cases}\n",
        "  -\\boldsymbol{\\Delta} \\boldsymbol{u} + \\boldsymbol{\\nabla} p = 0, \n",
        "  \\qquad&\\text{in }\\Omega, \\\\\n",
        "  \\boldsymbol{\\nabla} \\cdot \\boldsymbol{u} = 0, \n",
        "  \\qquad &\\text{in }\\Omega, \\\\\n",
        "\\boldsymbol{u} = 1\\boldsymbol{i} + 0\\boldsymbol{j}, \\qquad&\\text{on }\\Gamma^{\\text{right}} = \\{ x = 1, \\, 0\\le y\\le1 \\}, \\\\\n",
        "  (\\boldsymbol{\\nabla}\\boldsymbol{u}-p)\\cdot\\boldsymbol{n} = \\boldsymbol{0}, \\qquad&\\text{on }\\Gamma^{\\text{left}} = \\{ x = 0, \\, 0\\le y\\le1 \\},\\\\\n",
        "    \\boldsymbol{u} = \\boldsymbol{0}, \\qquad& \\text{on } \\partial\\Omega\\setminus(\\Gamma^{\\text{right}}\\cup\\Gamma^{\\text{left}}).\n",
        "\\end{cases}\n",
        "$$"
      ]
    },
    {
      "cell_type": "markdown",
      "metadata": {
        "id": "kPKIzqOZcr6Q"
      },
      "source": [
        "The algebraic formulation of the finite element approximation has the following block structure\n",
        "$$\n",
        "\\begin{bmatrix} A & B^T \\\\ B & 0\\end{bmatrix}\n",
        "\\begin{bmatrix}\\boldsymbol{U} \\\\ \\boldsymbol{P}\\end{bmatrix}\n",
        "=\n",
        "\\begin{bmatrix}\\boldsymbol{f} \\\\ \\boldsymbol{0}\\end{bmatrix}.\n",
        "$$"
      ]
    },
    {
      "cell_type": "markdown",
      "metadata": {
        "id": "ihCQ6a24dFhx"
      },
      "source": [
        "We consider different solution of the block system associated to the problem using **the FE stable pair $\\mathbb{P}^2-\\mathbb{P}^1$**."
      ]
    },
    {
      "cell_type": "code",
      "metadata": {
        "id": "dB-XeqMiKcxp"
      },
      "source": [
        "%%capture\n",
        "try:\n",
        "    import dolfin\n",
        "except ImportError:\n",
        "    !wget \"https://fem-on-colab.github.io/releases/fenics-install.sh\" -O \"/tmp/fenics-install.sh\" && bash \"/tmp/fenics-install.sh\"\n",
        "    import dolfin\n",
        "    \n",
        "from fenics import *"
      ],
      "execution_count": 1,
      "outputs": []
    },
    {
      "cell_type": "markdown",
      "metadata": {
        "id": "MFyA8-pEE1lI"
      },
      "source": [
        "### Method 1: Usual FEniCS approach\n"
      ]
    },
    {
      "cell_type": "code",
      "metadata": {
        "id": "9vIlYzg_YSZQ",
        "outputId": "d9ab2ce1-8b90-45db-f6a2-f10f10ce7bfa",
        "colab": {
          "base_uri": "https://localhost:8080/",
          "height": 326
        }
      },
      "source": [
        "# 1. mesh generation\n",
        "n = 20\n",
        "mesh = UnitSquareMesh(n, n, 'crossed')\n",
        "\n",
        "# 2. finite element spaces and BCs\n",
        "V = VectorElement('CG', mesh.ufl_cell(), 2)\n",
        "Q = FiniteElement('CG', mesh.ufl_cell(), 1)\n",
        "X = FunctionSpace(mesh, V*Q)\n",
        "\n",
        "boundary_markers = MeshFunction('size_t', mesh, mesh.geometric_dimension()-1, 0)\n",
        "\n",
        "class left_boundary(SubDomain):\n",
        "    def inside(self, x, on_boundary):\n",
        "        return on_boundary and near(x[0], 0)\n",
        "\n",
        "class right_boundary(SubDomain):\n",
        "    def inside(self, x, on_boundary):\n",
        "        return on_boundary and near(x[0], 1)\n",
        "\n",
        "class other_boundary(SubDomain):\n",
        "    def inside(self, x, on_boundary):\n",
        "        bottom_top = near(x[1], 0) or near(x[1], 1)\n",
        "        return on_boundary and bottom_top\n",
        "\n",
        "left = left_boundary()\n",
        "left.mark(boundary_markers, 1)\n",
        "right = right_boundary()\n",
        "right.mark(boundary_markers, 2)\n",
        "other = other_boundary()\n",
        "other.mark(boundary_markers, 3)\n",
        "    \n",
        "ds = Measure('ds', domain=mesh, subdomain_data=boundary_markers)\n",
        "\n",
        "bcs = [DirichletBC(X.sub(0), Constant((1, 0)), boundary_markers, 2),\n",
        "       DirichletBC(X.sub(0), Constant((0, 0)), boundary_markers, 3)]\n",
        "\n",
        "# 3. Define variational problem \n",
        "u, p = TrialFunctions(X)\n",
        "v, q = TestFunctions(X)\n",
        "f = Constant((0, 0))\n",
        "gN = Constant((0, 0))\n",
        "\n",
        "a = inner(grad(v), grad(u))*dx -div(v)*p*dx -div(u)*q*dx\n",
        "L = dot(v, f)*dx + dot(v, gN)*ds(1)\n",
        "\n",
        "# 4. solution\n",
        "x = Function(X)\n",
        "solve(a == L, x, bcs)\n",
        "\n",
        "u, p = x.split()\n",
        "plot(p)"
      ],
      "execution_count": null,
      "outputs": [
        {
          "output_type": "execute_result",
          "data": {
            "text/plain": [
              "<matplotlib.tri.tricontour.TriContourSet at 0x7fc7895c6eb8>"
            ]
          },
          "metadata": {
            "tags": []
          },
          "execution_count": 28
        },
        {
          "output_type": "display_data",
          "data": {
            "image/png": "[encoded data removed]",
            "text/plain": [
              "<Figure size 432x288 with 1 Axes>"
            ]
          },
          "metadata": {
            "tags": [],
            "needs_background": "light"
          }
        }
      ]
    },
    {
      "cell_type": "markdown",
      "metadata": {
        "id": "Sl4ncMfKF3JZ"
      },
      "source": [
        "### Method 2: Multiphenics package"
      ]
    },
    {
      "cell_type": "code",
      "metadata": {
        "id": "ozJpegsDGCvC"
      },
      "source": [
        "%%capture\n",
        "!pip install git+https://github.com/mathLab/multiphenics.git\n",
        "from multiphenics import *\n",
        "from numpy import isclose\n",
        "import matplotlib.pyplot as plt"
      ],
      "execution_count": 2,
      "outputs": []
    },
    {
      "cell_type": "code",
      "metadata": {
        "id": "IDT_rHnvGL7-",
        "colab": {
          "base_uri": "https://localhost:8080/",
          "height": 286
        },
        "outputId": "bc0105c5-218a-4a25-97b8-9745cb931535"
      },
      "source": [
        "# 1. mesh generation\n",
        "n = 20\n",
        "mesh = UnitSquareMesh(n, n, 'crossed')\n",
        "\n",
        "# 2. finite element spaces and BCs\n",
        "V = VectorFunctionSpace(mesh, 'CG', 2)\n",
        "Q = FunctionSpace(mesh, 'CG', 1)\n",
        "X = BlockFunctionSpace([V, Q])\n",
        "\n",
        "boundary_markers = MeshFunction('size_t', mesh, mesh.geometric_dimension()-1, 0)\n",
        "\n",
        "class left_boundary(SubDomain):\n",
        "    def inside(self, x, on_boundary):\n",
        "        return on_boundary and near(x[0], 0)\n",
        "\n",
        "class right_boundary(SubDomain):\n",
        "    def inside(self, x, on_boundary):\n",
        "        return on_boundary and near(x[0], 1)\n",
        "\n",
        "class other_boundary(SubDomain):\n",
        "    def inside(self, x, on_boundary):\n",
        "        bottom_top = near(x[1], 0) or near(x[1], 1)\n",
        "        return on_boundary and bottom_top\n",
        "\n",
        "left = left_boundary()\n",
        "left.mark(boundary_markers, 1)\n",
        "right = right_boundary()\n",
        "right.mark(boundary_markers, 2)\n",
        "other = other_boundary()\n",
        "other.mark(boundary_markers, 3)\n",
        "    \n",
        "ds = Measure('ds', domain=mesh, subdomain_data=boundary_markers)\n",
        "\n",
        "bcu = [DirichletBC(X.sub(0), Constant((1, 0)), boundary_markers, 2),\n",
        "       DirichletBC(X.sub(0), Constant((0, 0)), boundary_markers, 3)]\n",
        "\n",
        "bcs = BlockDirichletBC([bcu, []])\n",
        "\n",
        "# 3. Define variational problem \n",
        "up = BlockTrialFunction(X)\n",
        "vq = BlockTestFunction(X)\n",
        "(u, p) = block_split(up)\n",
        "(v, q) = block_split(vq)\n",
        "\n",
        "# Create the block matrix for the LHS\n",
        "aa = [[inner(grad(v), grad(u))*dx, -div(v)*p*dx],\n",
        "      [-div(u)*q*dx, 0                         ]]\n",
        "AA = block_assemble(aa)\n",
        "bcs.apply(AA)\n",
        "    \n",
        "# Create the block vector for the RHS\n",
        "f = Constant((0, 0))\n",
        "gN = Constant((0, 0))\n",
        "ff = [dot(v, f)*dx + dot(v, gN)*ds(1), Constant(0) * q * dx]\n",
        "FF = block_assemble(ff)\n",
        "bcs.apply(FF)\n",
        "\n",
        "# 4. Solve linear system\n",
        "UP = BlockFunction(X)\n",
        "block_solve(AA, UP.block_vector(), FF)\n",
        "U, P = UP\n",
        "plot(P)"
      ],
      "execution_count": 4,
      "outputs": [
        {
          "output_type": "execute_result",
          "data": {
            "text/plain": [
              "<matplotlib.tri.tricontour.TriContourSet at 0x7f40c0fd9dd0>"
            ]
          },
          "metadata": {},
          "execution_count": 4
        },
        {
          "output_type": "display_data",
          "data": {
            "text/plain": [
              "<Figure size 432x288 with 1 Axes>"
            ],
            "image/png": "[encoded data removed]"
          },
          "metadata": {
            "needs_background": "light"
          }
        }
      ]
    },
    {
      "cell_type": "markdown",
      "metadata": {
        "id": "W-YTNKllH1A4"
      },
      "source": [
        "### Method 3: Scipy algebraic sparse solvers"
      ]
    },
    {
      "cell_type": "code",
      "metadata": {
        "id": "3eH8IC611vJB"
      },
      "source": [
        "import numpy as np\n",
        "import scipy.sparse as sp\n",
        "from scipy.sparse.linalg import inv, spsolve"
      ],
      "execution_count": 5,
      "outputs": []
    },
    {
      "cell_type": "code",
      "metadata": {
        "id": "P33p5nf_yZn1"
      },
      "source": [
        "# 1. mesh generation\n",
        "n = 20\n",
        "mesh = UnitSquareMesh(n, n, 'crossed')\n",
        "\n",
        "# 2. finite element spaces and BCs\n",
        "V = VectorFunctionSpace(mesh, 'CG', 2)\n",
        "Q = FunctionSpace(mesh, 'CG', 1)\n",
        "\n",
        "boundary_markers = MeshFunction('size_t', mesh, mesh.geometric_dimension()-1, 0)\n",
        "\n",
        "class left_boundary(SubDomain):\n",
        "    def inside(self, x, on_boundary):\n",
        "        return on_boundary and near(x[0], 0)\n",
        "\n",
        "class right_boundary(SubDomain):\n",
        "    def inside(self, x, on_boundary):\n",
        "        return on_boundary and near(x[0], 1)\n",
        "\n",
        "class other_boundary(SubDomain):\n",
        "    def inside(self, x, on_boundary):\n",
        "        bottom_top = near(x[1], 0) or near(x[1], 1)\n",
        "        return on_boundary and bottom_top\n",
        "\n",
        "left = left_boundary()\n",
        "left.mark(boundary_markers, 1)\n",
        "right = right_boundary()\n",
        "right.mark(boundary_markers, 2)\n",
        "other = other_boundary()\n",
        "other.mark(boundary_markers, 3)\n",
        "    \n",
        "ds = Measure('ds', domain=mesh, subdomain_data=boundary_markers)\n",
        "\n",
        "bcs = [DirichletBC(V, Constant((1, 0)), boundary_markers, 2),\n",
        "       DirichletBC(V, Constant((0, 0)), boundary_markers, 3)]\n",
        "\n",
        "# 3. block assembly\n",
        "u, p = TrialFunction(V), TrialFunction(Q)\n",
        "v, q = TestFunction(V), TestFunction(Q)\n",
        "\n",
        "f = Constant((0, 0))\n",
        "gN = Constant((0, 0))\n",
        "\n",
        "a = inner(grad(u), grad(v)) * dx\n",
        "bT = -div(v) * p * dx\n",
        "b = -div(u) * q * dx\n",
        "L1 = dot(f, v) * dx + dot(gN, v) * ds\n",
        "L2 = Constant(0)* q * dx\n",
        "\n",
        "A, f1 = assemble_system(a, L1)\n",
        "BT = assemble(bT)\n",
        "B = assemble(b)\n",
        "f2 = assemble(L2)\n",
        "for bc in bcs:\n",
        "    bc.apply(A, f1)\n",
        "    bc.zero(BT)"
      ],
      "execution_count": 7,
      "outputs": []
    },
    {
      "cell_type": "code",
      "metadata": {
        "id": "MEpHoHIlIn2z",
        "colab": {
          "base_uri": "https://localhost:8080/"
        },
        "outputId": "c58ec25d-4758-44e6-9c8f-01002d289929"
      },
      "source": [
        "#4a. check sizes of matrices\n",
        "size_A = A.array().shape\n",
        "size_B = B.array().shape\n",
        "size_BT = BT.array().shape\n",
        "print(size_A, size_B, size_BT)\n",
        "\n",
        "#4b. assemble block linear system\n",
        "nnkns = A.array().shape[0] + B.array().shape[0]\n",
        "AA = np.zeros((nnkns, nnkns))\n",
        "AA[0:A.array().shape[0], 0:A.array().shape[0]] = A.array()[:,:]\n",
        "AA[0:A.array().shape[0], A.array().shape[0]:nnkns] = BT.array()[:,:]\n",
        "AA[A.array().shape[0]:nnkns, 0:A.array().shape[0]] = B.array()[:,:]\n",
        "\n",
        "ff = np.zeros(nnkns)\n",
        "ff[0:f1.get_local().size] = f1.get_local()[:]\n",
        "ff[f1.get_local().size:nnkns] = f2.get_local()[:]\n",
        "\n",
        "#4c. solve linear system\n",
        "AA_sp = sp.csr_matrix(AA)\n",
        "xx = spsolve(AA_sp, ff, use_umfpack=True) \n",
        "print(\"Error: %s\" % (AA_sp * xx - ff))  "
      ],
      "execution_count": 8,
      "outputs": [
        {
          "output_type": "stream",
          "name": "stdout",
          "text": [
            "(6562, 6562) (841, 6562) (6562, 841)\n",
            "Error: [ 0.00000000e+00  0.00000000e+00  0.00000000e+00 ... -4.33680869e-19\n",
            " -4.03073863e-18 -8.89649292e-20]\n"
          ]
        }
      ]
    },
    {
      "cell_type": "code",
      "metadata": {
        "id": "0I-CUcRFKuyr",
        "colab": {
          "base_uri": "https://localhost:8080/",
          "height": 286
        },
        "outputId": "ed120774-b260-4b41-af72-522ac4275f05"
      },
      "source": [
        "#5. Postprocess solutions\n",
        "u = Function(V)\n",
        "u.vector().set_local(xx[0:A.array().shape[0]])\n",
        "\n",
        "p = Function(Q)\n",
        "p.vector().set_local(xx[A.array().shape[0]:nnkns])\n",
        "plot(p)"
      ],
      "execution_count": 9,
      "outputs": [
        {
          "output_type": "execute_result",
          "data": {
            "text/plain": [
              "<matplotlib.tri.tricontour.TriContourSet at 0x7f40bb546e10>"
            ]
          },
          "metadata": {},
          "execution_count": 9
        },
        {
          "output_type": "display_data",
          "data": {
            "text/plain": [
              "<Figure size 432x288 with 1 Axes>"
            ],
            "image/png": "[encoded data removed]"
          },
          "metadata": {
            "needs_background": "light"
          }
        }
      ]
    },
    {
      "cell_type": "markdown",
      "metadata": {
        "id": "mOJ8QdMDarGL"
      },
      "source": [
        "### Method 4: Shur complement with scipy"
      ]
    },
    {
      "cell_type": "markdown",
      "metadata": {
        "id": "_QoRQNaBdoQ9"
      },
      "source": [
        "Performing a block Gaussian elimination the previous system can be reduced to the equation\n",
        "$$\n",
        "            S \\boldsymbol{P} = \\boldsymbol{\\chi},\n",
        "$$\n",
        "where $S=B A^{-1} B^T$ is the Schur complement and $\\boldsymbol{\\chi}=B A^{-1}\\boldsymbol{f_1} - \\boldsymbol{f_2}$. Once $\\boldsymbol{P} \\ $ is coumputed, the velocity is given by\n",
        "$$\n",
        "\\boldsymbol{U} = A^{-1} \\boldsymbol{f} - B^T \\boldsymbol{P}.\n",
        "$$"
      ]
    },
    {
      "cell_type": "code",
      "metadata": {
        "id": "mipW364vIgIa",
        "colab": {
          "base_uri": "https://localhost:8080/",
          "height": 286
        },
        "outputId": "28950f00-f1fc-4886-fe47-ec1e22761e42"
      },
      "source": [
        "# solve by Shur complement\n",
        "A_sp = sp.csr_matrix(A.array())\n",
        "B_sp = sp.csr_matrix(B.array())\n",
        "BT_sp = sp.csr_matrix(BT.array())\n",
        "\n",
        "S = B_sp.dot(inv(A_sp).dot(BT_sp))\n",
        "b = B_sp.dot(inv(A_sp).dot(ff[0:f1.get_local().size])) - ff[f1.get_local().size:nnkns]\n",
        "x = spsolve(S, b, use_umfpack=True) \n",
        "\n",
        "y = inv(A_sp).dot(ff[0:f1.get_local().size] - BT_sp.dot(x))\n",
        "u = Function(V)\n",
        "u.vector().set_local(y)\n",
        "\n",
        "p = Function(Q)\n",
        "p.vector().set_local(x)\n",
        "plot(p)"
      ],
      "execution_count": 11,
      "outputs": [
        {
          "output_type": "execute_result",
          "data": {
            "text/plain": [
              "<matplotlib.tri.tricontour.TriContourSet at 0x7f40bb05c490>"
            ]
          },
          "metadata": {},
          "execution_count": 11
        },
        {
          "output_type": "display_data",
          "data": {
            "text/plain": [
              "<Figure size 432x288 with 1 Axes>"
            ],
            "image/png": "[encoded data removed]"
          },
          "metadata": {
            "needs_background": "light"
          }
        }
      ]
    },
    {
      "cell_type": "markdown",
      "metadata": {
        "id": "7Q-4sThyfl-R"
      },
      "source": [
        "### Method 5: Using cbc.block package (with Python 2 and compatible FEniCS version)"
      ]
    },
    {
      "cell_type": "code",
      "metadata": {
        "id": "GSwljLKAe9nz"
      },
      "source": [
        "%%capture\n",
        "!pip install git+https://bitbucket.org/fenics-apps/cbc.block.git\n",
        "from block import *\n",
        "from block.dolfin_util import *\n",
        "from block.iterative import *\n",
        "from block.algebraic.petsc import *"
      ],
      "execution_count": 12,
      "outputs": []
    },
    {
      "cell_type": "code",
      "metadata": {
        "id": "4GPTfJjUjEfW"
      },
      "source": [
        "# 1. mesh generation\n",
        "n = 20\n",
        "mesh = UnitSquareMesh(n, n, 'crossed')\n",
        "\n",
        "# 2. finite element spaces and BCs\n",
        "V = VectorFunctionSpace(mesh, 'CG', 2)\n",
        "Q = FunctionSpace(mesh, 'CG', 1)\n",
        "\n",
        "boundary_markers = MeshFunction('size_t', mesh, mesh.geometric_dimension()-1, 0)\n",
        "\n",
        "class left_boundary(SubDomain):\n",
        "    def inside(self, x, on_boundary):\n",
        "        return on_boundary and near(x[0], 0)\n",
        "\n",
        "class right_boundary(SubDomain):\n",
        "    def inside(self, x, on_boundary):\n",
        "        return on_boundary and near(x[0], 1)\n",
        "\n",
        "class other_boundary(SubDomain):\n",
        "    def inside(self, x, on_boundary):\n",
        "        bottom_top = near(x[1], 0) or near(x[1], 1)\n",
        "        return on_boundary and bottom_top\n",
        "\n",
        "left = left_boundary()\n",
        "left.mark(boundary_markers, 1)\n",
        "right = right_boundary()\n",
        "right.mark(boundary_markers, 2)\n",
        "other = other_boundary()\n",
        "other.mark(boundary_markers, 3)\n",
        "    \n",
        "ds = Measure('ds', domain=mesh, subdomain_data=boundary_markers)\n",
        "\n",
        "bcs = [DirichletBC(V, Constant((1, 0)), boundary_markers, 2),\n",
        "       DirichletBC(V, Constant((0, 0)), boundary_markers, 3)]\n",
        "\n",
        "# 3. block assembly\n",
        "u, p = TrialFunction(V), TrialFunction(Q)\n",
        "v, q = TestFunction(V), TestFunction(Q)\n",
        "\n",
        "f = Constant((0, 0))\n",
        "gN = Constant((0, 0))\n",
        "\n",
        "a = inner(grad(u), grad(v)) * dx\n",
        "bT = -div(v) * p * dx\n",
        "b = -div(u) * q * dx\n",
        "L1 = dot(f, v) * dx + dot(gN, v) * ds\n",
        "L2 = Constant(0)* q * dx\n",
        "\n",
        "A, f1 = assemble_system(a, L1)\n",
        "BT = assemble(bT)\n",
        "B = assemble(b)\n",
        "f2 = assemble(L2)\n",
        "for bc in bcs:\n",
        "    bc.apply(A, f1)\n",
        "    bc.zero(BT)\n",
        "\n",
        "M = assemble(p*q*dx)"
      ],
      "execution_count": 14,
      "outputs": []
    },
    {
      "cell_type": "code",
      "metadata": {
        "id": "ztB3nHVVfqXL",
        "colab": {
          "base_uri": "https://localhost:8080/",
          "height": 303
        },
        "outputId": "81517467-eff0-4237-f491-06b24efde794"
      },
      "source": [
        "AA = block_mat([[A, BT], [B, 0]])\n",
        "bb = block_vec([f1, f2])\n",
        "\n",
        "# Create preconditioner\n",
        "Ap = AMG(A)\n",
        "PP = block_mat([[Ap, 0], [0, M]])\n",
        "\n",
        "# Create the block inverse, using the preconditioned CG method\n",
        "AAinv = ConjGrad(AA, precond=PP, tolerance=1e-6, maxiter=1000, show=2)\n",
        "\n",
        "# Compute solution\n",
        "u, p = AAinv * bb\n",
        "plot(Function(Q, p))"
      ],
      "execution_count": 15,
      "outputs": [
        {
          "output_type": "stream",
          "name": "stdout",
          "text": [
            "ConjGrad NOT CONV. [iter=1000, time=4.44s, res=3.0e-05, true res=6.0e-05]\n"
          ]
        },
        {
          "output_type": "execute_result",
          "data": {
            "text/plain": [
              "<matplotlib.tri.tricontour.TriContourSet at 0x7f40ba75fcd0>"
            ]
          },
          "metadata": {},
          "execution_count": 15
        },
        {
          "output_type": "display_data",
          "data": {
            "text/plain": [
              "<Figure size 432x288 with 1 Axes>"
            ],
            "image/png": "[encoded data removed]"
          },
          "metadata": {
            "needs_background": "light"
          }
        }
      ]
    }
  ]
}