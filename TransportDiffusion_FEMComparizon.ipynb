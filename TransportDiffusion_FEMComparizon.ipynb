{
  "nbformat": 4,
  "nbformat_minor": 0,
  "metadata": {
    "colab": {
      "name": "Lab5_Ex1.ipynb",
      "provenance": [],
      "collapsed_sections": []
    },
    "kernelspec": {
      "name": "python3",
      "display_name": "Python 3"
    }
  },
  "cells": [
    {
      "cell_type": "markdown",
      "metadata": {
        "id": "VwqutSZDd8c8"
      },
      "source": [
        "# Transport-diffusion problems"
      ]
    },
    {
      "cell_type": "markdown",
      "metadata": {
        "id": "zc0-hVClyooD"
      },
      "source": [
        "Let $\\Omega = (0,1) \\times (0,1)$, $\\mu> 0$, and $\\boldsymbol{b}\\in\\mathbb{R}^2$. Assume sufficient regularity for the load function and Dirichlet boundary data (e.g. $f\\in L^2(\\Omega)$ and $g\\in H^{\\frac12}(\\partial\\Omega)$) and consider the differential problem:\n",
        "\\begin{equation*}\n",
        "  \\begin{cases}\n",
        "    - \\mu \\Delta u + \\boldsymbol{b} \\cdot\\boldsymbol{\\nabla} u = f & \\mbox{ in } \\Omega, \\\\[5mm]\n",
        "    u = g & \\mbox{ on } \\partial\\Omega.\n",
        "  \\end{cases}\n",
        "\\end{equation*}"
      ]
    },
    {
      "cell_type": "markdown",
      "metadata": {
        "id": "7cUY55mTy6Qh"
      },
      "source": [
        "## Weak formulation"
      ]
    },
    {
      "cell_type": "markdown",
      "metadata": {
        "id": "LTs1my4LzaPo"
      },
      "source": [
        "Let $\\tilde{u}= u - u_g$, with $u_g\\in H^1(\\Omega)$ such that $(u_g)_{|\\partial\\Omega}=g$. Thus, we have $\\tilde{u}_{|\\partial\\Omega}=0$.\n",
        "We multiply by a test function $v\\in H^1_0(\\Omega)$ and integrate by parts over the domain $\\Omega$ to obtain\n",
        "$$\n",
        "  \\int_\\Omega \\mu \\boldsymbol{\\nabla}u \\cdot \\boldsymbol{\\nabla} v \\, d\\boldsymbol{x} \n",
        "  + \\int_\\Omega (\\boldsymbol{b} \\cdot\\boldsymbol{\\nabla} u) v \\, d\\boldsymbol{x}\n",
        "  = \\int_\\Omega f v \\, d\\boldsymbol{x},\n",
        "$$\n",
        "where, as a result of the choice of the functional space for the test $v$, the boundary contribution has vanished.\n",
        "\n",
        "Defining the bilinear form $a:H^1_0(\\Omega)\\times H^1_0(\\Omega)\\to\\mathbb{R}$ such that\n",
        "$ a(u,v) :=  \\int_\\Omega \\mu \\boldsymbol{\\nabla}u \\cdot \\boldsymbol{\\nabla} v \\, d\\boldsymbol{x}+ \\int_\\Omega (\\boldsymbol{b} \\cdot\\boldsymbol{\\nabla} u) v \\, d\\boldsymbol{x}$ and replacing $u$ with $\\tilde{u}$ in the left-hand side of the previous relation, leads to \n",
        "$$\n",
        "  a(\\tilde{u},v) = a(u,v) - a(u_g,v)\n",
        "  = \\int_\\Omega f v \\, d\\boldsymbol{x}- a(u_g,v).\n",
        "$$\n",
        "Renaming, for the sake of simplicity, $\\tilde{u}$ with $u$, the weak formulation of the transport diffusion problem reads:\n",
        "$$\n",
        "  \\text{find } u \\in H^1_0(\\Omega) \\text{ verifying }\n",
        "  a(u,v) =\n",
        "  \\int_\\Omega f v \\, d\\boldsymbol{x} - a(u_g,v), \\qquad\n",
        "  \\forall v \\in H^1_0(\\Omega).\n",
        "$$"
      ]
    },
    {
      "cell_type": "markdown",
      "metadata": {
        "id": "TKJ93ggU5Kc3"
      },
      "source": [
        "### Skew-Symmetric form of the transport term"
      ]
    },
    {
      "cell_type": "markdown",
      "metadata": {
        "id": "8sDIN1QX5RDJ"
      },
      "source": [
        "Observing that $\\boldsymbol{b} \\cdot\\boldsymbol{\\nabla} u = \\boldsymbol{\\nabla}\\cdot(\\boldsymbol{b}\\ u)$, we notice that the transport contribution can be rewritten as\n",
        "$$\n",
        "\\begin{aligned}\n",
        "\\int_\\Omega (\\boldsymbol{b} \\cdot\\boldsymbol{\\nabla} u) v \\, d\\boldsymbol{x} &=\n",
        "\\frac12 \\int_\\Omega (\\boldsymbol{b} \\cdot\\boldsymbol{\\nabla} u) v \\, d\\boldsymbol{x} + \n",
        "\\frac12 \\int_\\Omega \\boldsymbol{\\nabla}\\cdot(\\boldsymbol{b}\\ u) v \\, d\\boldsymbol{x}\n",
        "\\\\\n",
        "&=\n",
        "\\frac12 \\int_\\Omega (\\boldsymbol{b} \\cdot\\boldsymbol{\\nabla} u) v \\, d\\boldsymbol{x} - \n",
        "\\frac12 \\int_\\Omega u(\\boldsymbol{b} \\cdot\\boldsymbol{\\nabla} v) \\, d\\boldsymbol{x},\n",
        "\\end{aligned}\n",
        "$$\n",
        "where, to pass to the second line, we have integrated by parts. This skew-symmetric formulation of the transport operator, is particularly useful to infer the coercivity of $a$. Indeed, we have\n",
        "$$\n",
        "a(u,u) = \\mu || \\boldsymbol{\\nabla}u ||_{L^2(\\Omega)^2}^2 > 0.\n",
        "$$"
      ]
    },
    {
      "cell_type": "markdown",
      "metadata": {
        "id": "URGUzH-h9LAX"
      },
      "source": [
        "## Construction of the FE approximation with FEniCS"
      ]
    },
    {
      "cell_type": "code",
      "metadata": {
        "id": "b7JlK2CRc5WE"
      },
      "source": [
        "%%capture\n",
        "try:\n",
        "    import dolfin\n",
        "except ImportError:\n",
        "    !wget \"https://fem-on-colab.github.io/releases/fenics-install.sh\" -O \"/tmp/fenics-install.sh\" && bash \"/tmp/fenics-install.sh\"\n",
        "    import dolfin\n",
        "    \n",
        "from fenics import *"
      ],
      "execution_count": null,
      "outputs": []
    },
    {
      "cell_type": "markdown",
      "metadata": {
        "id": "-dBtqeuFdnQK"
      },
      "source": [
        "We declare the problem data corresponding to the analytical solution given by\n",
        "    \\begin{equation*}\n",
        "      u(x,y) = \\frac{e^{-\\mu^{-1}x}-1}{e^{-\\mu^{-1}}-1}\n",
        "             + \\frac{e^{-\\mu^{-1}y}-1}{e^{-\\mu^{-1}}-1}.\n",
        "    \\end{equation*}\n",
        "Since $\\boldsymbol{\\nabla}u = \\frac1\\mu\n",
        "\\left(\\frac{-e^{-\\mu^{-1}x}}{e^{-\\mu^{-1}}-1},\n",
        "\\frac{-e^{-\\mu^{-1}y}}{e^{-\\mu^{-1}}-1} \\right)$ we get\n",
        "$$\n",
        "- \\mu \\Delta u + \\boldsymbol{b} \\cdot\\boldsymbol{\\nabla} u = \\frac\\mu{\\mu^2}\\left(\\frac{e^{-\\mu^{-1}x}}{e^{-\\mu^{-1}}-1}+\\frac{e^{-\\mu^{-1}y}}{e^{-\\mu^{-1}}-1}\\right) +\n",
        "\\frac1\\mu\\left(\\frac{e^{-\\mu^{-1}x}}{e^{-\\mu^{-1}}-1}-\\frac{e^{-\\mu^{-1}y}}{e^{-\\mu^{-1}}-1}\\right) =0.\n",
        "$$"
      ]
    },
    {
      "cell_type": "code",
      "metadata": {
        "id": "RdQ7bMLIdJoH"
      },
      "source": [
        "degree = 1\n",
        "\n",
        "#mu = Constant(1)\n",
        "mu = Constant(1e-2)\n",
        "bx, by = 1.0, 1.0\n",
        "b = Constant((bx, by))\n",
        "\n",
        "f = Constant(0)\n",
        "u_exact = Expression('(exp(bx * (x[0] - 1) / mu) - exp(-bx / mu)) / (1 - exp(-bx / mu)) + '\n",
        "                     '(exp(by * (x[1] - 1) / mu) - exp(-by / mu)) / (1 - exp(-by / mu))',\n",
        "                     mu=mu, bx=bx, by=by, degree=2*degree+1)"
      ],
      "execution_count": null,
      "outputs": []
    },
    {
      "cell_type": "markdown",
      "metadata": {
        "id": "RInFJ-u_n2Hh"
      },
      "source": [
        "### Streamline diffusion stabilization"
      ]
    },
    {
      "cell_type": "markdown",
      "metadata": {
        "id": "QWjF5FsUXmxp"
      },
      "source": [
        "We implement the streamline diffusion method, assuming that the stabilization parameter $\\tau$ is given by\n",
        "$$\n",
        "\\tau = \\frac{\\delta h}{2||\\boldsymbol{b}||}. \n",
        "$$\n",
        "The case $\\delta=0$ corresponds to the usual FEM without stabilization."
      ]
    },
    {
      "cell_type": "code",
      "metadata": {
        "id": "j5DBPPOHeKyD"
      },
      "source": [
        "def solve_stream_diff(n, degree, f, u_exact, delta):\n",
        "  # 1. mesh generation\n",
        "  mesh = UnitSquareMesh(n, n, 'crossed')\n",
        "\n",
        "  # 2. definition of finite element space\n",
        "  V = FunctionSpace(mesh, 'CG', degree)\n",
        "\n",
        "  g_boundary = u_exact\n",
        "\n",
        "  def boundary(x, on_boundary):\n",
        "      return on_boundary\n",
        "\n",
        "  bc = DirichletBC(V, g_boundary, boundary)\n",
        "\n",
        "  # 3. assembling matrices and vectors/\n",
        "  u = TrialFunction(V)\n",
        "  v = TestFunction(V)\n",
        "\n",
        "  h = CellDiameter(mesh)\n",
        "  bnorm = sqrt(dot(b, b))\n",
        "  tau_K = 0.5*delta*h/bnorm\n",
        "\n",
        "  a = (mu * dot(grad(u), grad(v)) + dot(b, grad(u)) * v) * dx\n",
        "  L = f * v * dx\n",
        "\n",
        "  # Streamline diffusion stabilization\n",
        "  a_stabilization = tau_K * dot(b, grad(u)) * dot(b, grad(v)) * dx \n",
        "  a = a + a_stabilization\n",
        "\n",
        "  # 4. solving discrete problem\n",
        "  u = Function(V)\n",
        "  u.rename('solution', 'solution')\n",
        "  solve(a == L, u, bc)\n",
        "  \n",
        "  return mesh, u"
      ],
      "execution_count": null,
      "outputs": []
    },
    {
      "cell_type": "code",
      "metadata": {
        "id": "t-qT53G6dmhs",
        "outputId": "91ec9261-c6c9-4f6a-ddd5-76b4dd07f171",
        "colab": {
          "base_uri": "https://localhost:8080/",
          "height": 173
        }
      },
      "source": [
        "# user dependent stabilization parameter\n",
        "delta = Constant(1.0)\n",
        "\n",
        "for n in [10, 20, 40, 80, 160]:\n",
        "  mesh, u = solve_stream_diff(n, degree, f, u_exact, delta)\n",
        "  print('n = {}, error L2 = {:.3e}, error H1 = {}'.format(n, \n",
        "         errornorm(u_exact, u, 'L2'), errornorm(u_exact, u, 'H10')))"
      ],
      "execution_count": null,
      "outputs": [
        {
          "output_type": "stream",
          "text": [
            "n = 10, error L2 = 1.833e-01, error H1 = 8.214359207655594\n",
            "n = 20, error L2 = 1.056e-01, error H1 = 7.064457537984679\n",
            "n = 40, error L2 = 5.625e-02, error H1 = 5.207001008520208\n",
            "n = 80, error L2 = 2.899e-02, error H1 = 3.289735276932242\n",
            "n = 160, error L2 = 1.484e-02, error H1 = 1.8685513753194471\n"
          ],
          "name": "stdout"
        }
      ]
    },
    {
      "cell_type": "markdown",
      "metadata": {
        "id": "4FBLX7AImxuC"
      },
      "source": [
        "### SUPG, GLS, and DW stabilization "
      ]
    },
    {
      "cell_type": "markdown",
      "metadata": {
        "id": "zgZLFIM9bfJt"
      },
      "source": [
        "As stabilization parameter $\\tau$ we take\n",
        "$$\n",
        "\\tau = \\frac{\\delta h}{2||\\boldsymbol{b}||} \\min\\left\\{1,\\frac{\\mathcal{Pe}}3\\right\\}, \\quad\\text{with }\\;\\;  \\mathcal{Pe}= \\frac{||\\boldsymbol{b}||h}{2\\mu}. \n",
        "$$"
      ]
    },
    {
      "cell_type": "code",
      "metadata": {
        "id": "pyDPv0Nsioz1"
      },
      "source": [
        "def solve_strong_cons(n, degree, f, u_exact, delta, rho):\n",
        "  # 1. mesh generation\n",
        "  mesh = UnitSquareMesh(n, n, 'crossed')\n",
        "\n",
        "  # 2. definition of finite element space\n",
        "  V = FunctionSpace(mesh, 'CG', degree)\n",
        "\n",
        "  g_boundary = u_exact\n",
        "\n",
        "  def boundary(x, on_boundary):\n",
        "      return on_boundary\n",
        "\n",
        "  bc = DirichletBC(V, g_boundary, boundary)\n",
        "\n",
        "  # 3. assembling matrices and vectors/\n",
        "  u = TrialFunction(V)\n",
        "  v = TestFunction(V)\n",
        "\n",
        "  h = CellDiameter(mesh)\n",
        "  bnorm = sqrt(dot(b, b))\n",
        "  tau_K = 0.5 * delta * h / conditional(bnorm * h > 6 * mu, bnorm, 6 * mu / h)\n",
        "\n",
        "  a = (mu * dot(grad(u), grad(v)) + dot(b, grad(u)) * v) * dx\n",
        "  L = f * v * dx\n",
        "\n",
        "  A = lambda u: -mu * div(grad(u)) + dot(b, grad(u))\n",
        "  A_S = lambda u: -mu * div(grad(u)) - 0.5 * div(b) * u\n",
        "  A_SS = lambda u: dot(b, grad(u)) + 0.5 * div(b) * u\n",
        "  # A_SS = lambda u: 0.5 * dot(b, grad(u)) + 0.5 * div(b * u)\n",
        "\n",
        "  a_stabilization = tau_K * A(u) * (A_SS(v) + rho * A_S(v)) * dx\n",
        "  \n",
        "  a = a + a_stabilization\n",
        "\n",
        "  # 4. solving discrete problem\n",
        "  u = Function(V)\n",
        "  u.rename('solution', 'solution')\n",
        "  solve(a == L, u, bc)\n",
        "  \n",
        "  return mesh, u"
      ],
      "execution_count": null,
      "outputs": []
    },
    {
      "cell_type": "code",
      "metadata": {
        "id": "5UiGsg9_nK96",
        "outputId": "0d8c49e7-0db5-496d-ee3b-1fd255ccef5a",
        "colab": {
          "base_uri": "https://localhost:8080/",
          "height": 173
        }
      },
      "source": [
        "# SUPG (rho = 0), GLS (rho = 1), DW (rho = -1)\n",
        "rho = Constant(0)\n",
        "\n",
        "# user dependent stabilization parameter\n",
        "delta = Constant(1.0)\n",
        "\n",
        "for n in [10, 20, 40, 80, 160]:\n",
        "  mesh, u = solve_strong_cons(n, degree, f, u_exact, delta, rho)\n",
        "  print('n = {}, error L2 = {:.3e}, error H1 = {}'.format(n, \n",
        "         errornorm(u_exact, u, 'L2'), errornorm(u_exact, u, 'H10')))"
      ],
      "execution_count": null,
      "outputs": [
        {
          "output_type": "stream",
          "text": [
            "n = 10, error L2 = 1.833e-01, error H1 = 8.214359207655594\n",
            "n = 20, error L2 = 1.056e-01, error H1 = 7.064457537984679\n",
            "n = 40, error L2 = 3.987e-02, error H1 = 4.8405168176359314\n",
            "n = 80, error L2 = 1.138e-02, error H1 = 2.7609100464985765\n",
            "n = 160, error L2 = 2.959e-03, error H1 = 1.442220300286551\n"
          ],
          "name": "stdout"
        }
      ]
    },
    {
      "cell_type": "markdown",
      "metadata": {
        "id": "uTl7BMrhpTRE"
      },
      "source": [
        "### Comparison for $\\mathbb{P}^k$ FEM with $k\\ge 2$"
      ]
    },
    {
      "cell_type": "markdown",
      "metadata": {
        "id": "ejoteO_ErO6x"
      },
      "source": [
        "We have observed that, due to the absence of reaction terms and the use of $\\mathbb{P}^1$ elements, the methods are equivalent. Using higher-order polynomial spaces we should be able to notice the differences."
      ]
    },
    {
      "cell_type": "code",
      "metadata": {
        "id": "idVrzETNng_j",
        "outputId": "f33129f9-e0ae-4b9b-cda9-cb30059527a4",
        "colab": {
          "base_uri": "https://localhost:8080/",
          "height": 555
        }
      },
      "source": [
        "degree = 2\n",
        "\n",
        "mu = Constant(1e-2)\n",
        "bx, by = 1.0, 1.0\n",
        "b = Constant((bx, by))\n",
        "\n",
        "f = Constant(0)\n",
        "u_exact = Expression('(exp(bx * (x[0] - 1) / mu) - exp(-bx / mu)) / (1 - exp(-bx / mu)) + '\n",
        "                     '(exp(by * (x[1] - 1) / mu) - exp(-by / mu)) / (1 - exp(-by / mu))',\n",
        "                     mu=mu, bx=bx, by=by, degree=2*degree+1)\n",
        "\n",
        "for n in [4, 8, 16, 32, 64]:  \n",
        "  # user dependent stabilization parameter\n",
        "  delta = Constant(0.06)\n",
        "  mesh, u = solve_stream_diff(n, degree, f, u_exact, delta)\n",
        "  print('SDif: n = {}, error L2 = {:.3e}, error H1 = {:.3e}'.format(n, \n",
        "         errornorm(u_exact, u, 'L2'), errornorm(u_exact, u, 'H10')))\n",
        "  \n",
        "  mesh, u = solve_strong_cons(n, degree, f, u_exact, delta, 1.0)\n",
        "  print('GLS : n = {}, error L2 = {:.3e}, error H1 = {:.3e}'.format(n, \n",
        "         errornorm(u_exact, u, 'L2'), errornorm(u_exact, u, 'H10')))\n",
        "  \n",
        "  mesh, u = solve_strong_cons(n, degree, f, u_exact, delta, 0.0)\n",
        "  print('SUPG: n = {}, error L2 = {:.3e}, error H1 = {:.3e}'.format(n, \n",
        "         errornorm(u_exact, u, 'L2'), errornorm(u_exact, u, 'H10')))\n",
        "  \n",
        "  mesh, u = solve_strong_cons(n, degree, f, u_exact, delta, -1.0)\n",
        "  print('DW  : n = {}, error L2 = {:.3e}, error H1 = {:.3e}'.format(n, \n",
        "         errornorm(u_exact, u, 'L2'), errornorm(u_exact, u, 'H10')))\n",
        "  \n",
        "  delta = Constant(0.0)\n",
        "  mesh, u = solve_stream_diff(n, degree, f, u_exact, delta)\n",
        "  print('NO_S: n = {}, error L2 = {:.3e}, error H1 = {:.3e}'.format(n, \n",
        "         errornorm(u_exact, u, 'L2'), errornorm(u_exact, u, 'H10')))\n",
        "  print()"
      ],
      "execution_count": null,
      "outputs": [
        {
          "output_type": "stream",
          "text": [
            "SDif: n = 4, error L2 = 1.178e-01, error H1 = 6.590e+00\n",
            "GLS : n = 4, error L2 = 1.197e-01, error H1 = 6.640e+00\n",
            "SUPG: n = 4, error L2 = 1.195e-01, error H1 = 6.608e+00\n",
            "DW  : n = 4, error L2 = 1.194e-01, error H1 = 6.577e+00\n",
            "NO_S: n = 4, error L2 = 1.664e-01, error H1 = 8.283e+00\n",
            "\n",
            "SDif: n = 8, error L2 = 5.502e-02, error H1 = 5.435e+00\n",
            "GLS : n = 8, error L2 = 5.549e-02, error H1 = 5.466e+00\n",
            "SUPG: n = 8, error L2 = 5.597e-02, error H1 = 5.447e+00\n",
            "DW  : n = 8, error L2 = 5.661e-02, error H1 = 5.435e+00\n",
            "NO_S: n = 8, error L2 = 6.056e-02, error H1 = 6.001e+00\n",
            "\n",
            "SDif: n = 16, error L2 = 2.019e-02, error H1 = 3.379e+00\n",
            "GLS : n = 16, error L2 = 1.971e-02, error H1 = 3.386e+00\n",
            "SUPG: n = 16, error L2 = 2.030e-02, error H1 = 3.378e+00\n",
            "DW  : n = 16, error L2 = 2.116e-02, error H1 = 3.392e+00\n",
            "NO_S: n = 16, error L2 = 2.035e-02, error H1 = 3.543e+00\n",
            "\n",
            "SDif: n = 32, error L2 = 5.981e-03, error H1 = 1.547e+00\n",
            "GLS : n = 32, error L2 = 4.795e-03, error H1 = 1.531e+00\n",
            "SUPG: n = 32, error L2 = 5.045e-03, error H1 = 1.526e+00\n",
            "DW  : n = 32, error L2 = 5.443e-03, error H1 = 1.543e+00\n",
            "NO_S: n = 32, error L2 = 4.993e-03, error H1 = 1.557e+00\n",
            "\n",
            "SDif: n = 64, error L2 = 2.315e-03, error H1 = 5.432e-01\n",
            "GLS : n = 64, error L2 = 8.265e-04, error H1 = 5.067e-01\n",
            "SUPG: n = 64, error L2 = 8.733e-04, error H1 = 5.047e-01\n",
            "DW  : n = 64, error L2 = 9.451e-04, error H1 = 5.096e-01\n",
            "NO_S: n = 64, error L2 = 8.698e-04, error H1 = 5.078e-01\n",
            "\n"
          ],
          "name": "stdout"
        }
      ]
    },
    {
      "cell_type": "code",
      "metadata": {
        "id": "BRzBq9kcWt-R"
      },
      "source": [],
      "execution_count": null,
      "outputs": []
    }
  ]
}